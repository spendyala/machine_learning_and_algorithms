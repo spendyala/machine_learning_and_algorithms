{
 "cells": [
  {
   "cell_type": "markdown",
   "metadata": {},
   "source": [
    "# 00. Jupyter Basics"
   ]
  },
  {
   "cell_type": "markdown",
   "metadata": {},
   "source": [
    "Since this is our first lesson, let's start with some Jupyter basics.\n",
    "\n",
    "## Creating New Cells\n",
    "1. First click on this cell. You should see a blue bar appear to the left which lets you know it is selected.\n",
    "\n",
    "2. Now create a new cell below this one by clicking the \"+\" icon in the toolbar above.\n",
    "\n",
    "3. Select \"Markdown\" in the dropdown box on the far right of the toolbar.\n",
    "\n",
    "4. Enter some text in the box and then run the cell using either \"Shift-Enter\" key combo or by clicking the run icon (right arrow) in the toolbar.\n",
    "\n",
    "Here is a good markdown cheatsheet: https://github.com/adam-p/markdown-here/wiki/Markdown-Cheatsheet "
   ]
  },
  {
   "cell_type": "markdown",
   "metadata": {},
   "source": [
    "## Editing Existing Cells\n",
    "Double click cells to edit them. Try double-clicking this cell and modifying some of the text. Then press \"Shift-Enter\" or click the Run button to execute the cell and render the markdown."
   ]
  },
  {
   "cell_type": "markdown",
   "metadata": {},
   "source": [
    "## Moving Cells\n",
    "Cells are moveable. Try moving the cell below to above the one you just created by hovering over the blank space directly to the left of the cell. Your cursor should change to indicate move mode, and a click-drag will reposition the cell. Give it a shot.\n",
    "\n",
    "**<-- click and drag over here to move me!**"
   ]
  },
  {
   "cell_type": "markdown",
   "metadata": {},
   "source": [
    "## Deleting Cells\n",
    "\n",
    "Cells can be deleted by selecting them and clicking the scissors icon on the toolbar. Try deleting the cell below. "
   ]
  },
  {
   "cell_type": "markdown",
   "metadata": {},
   "source": [
    "**Select me and click the scissors icon!**"
   ]
  },
  {
   "cell_type": "markdown",
   "metadata": {},
   "source": [
    "## Creating Code Cells\n",
    "\n",
    "1. Create a new cell below this one.\n",
    "2. Leave the mode as \"Code\" (instead of changing it to \"Markdown\" like we did before)\n",
    "3. Enter the following Python into the cell and then run it:\n",
    "```\n",
    "print('hello world!')\n",
    "```\n",
    "4. You should see the message output appear directly below the code cell"
   ]
  },
  {
   "cell_type": "code",
   "execution_count": null,
   "metadata": {},
   "outputs": [],
   "source": [
    "print('hello world!')"
   ]
  },
  {
   "cell_type": "markdown",
   "metadata": {},
   "source": [
    "## Hidden Cells\n",
    "Throughout the lessons we may provide example code but hide it so that you can write your code first and then compare it against the example. This requires the *jupyter_contrib_nbextensions* package which is already installed in the Docker container for you.\n",
    "\n",
    "A Collapsed (hidden) cell is below. You can tell because it appears as ellipses (. . .)\n",
    "\n",
    "Click the ellipses to expand the cell. You can collapse it again by clicking the blue bar to the left."
   ]
  },
  {
   "cell_type": "code",
   "execution_count": null,
   "metadata": {
    "jupyter": {
     "source_hidden": true
    }
   },
   "outputs": [],
   "source": [
    "print('This was a hidden cell!')"
   ]
  },
  {
   "cell_type": "markdown",
   "metadata": {},
   "source": [
    "## Saving\n",
    "\n",
    "The notebook can be manually saved by selecting \"File > Save Notebook\" in the menu bar above. You can also click the disk icon in the toolbar. Try it now.\n",
    "\n",
    "If you want to save the collapsed cells in their collapsed state, you must select \"Save Notebook with View State\"."
   ]
  }
 ],
 "metadata": {
  "kernelspec": {
   "display_name": "Python 3",
   "language": "python",
   "name": "python3"
  },
  "language_info": {
   "codemirror_mode": {
    "name": "ipython",
    "version": 3
   },
   "file_extension": ".py",
   "mimetype": "text/x-python",
   "name": "python",
   "nbconvert_exporter": "python",
   "pygments_lexer": "ipython3",
   "version": "3.6.5"
  }
 },
 "nbformat": 4,
 "nbformat_minor": 2
}
