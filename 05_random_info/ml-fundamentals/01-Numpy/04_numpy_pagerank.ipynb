{
 "cells": [
  {
   "cell_type": "markdown",
   "metadata": {},
   "source": [
    "# 04. NumPy Project: PageRank\n",
    "\n",
    "August 26, 2018\n",
    "\n",
    "We've now learned enough to be dangerous! \n",
    "\n",
    "Let's use this knowledge to implement two famous algorithms:\n",
    "\n",
    "* **Ranking Web Pages with PageRank**\n",
    "* Predicting Emojis in Tweets with Linear Regression"
   ]
  },
  {
   "cell_type": "code",
   "execution_count": null,
   "metadata": {},
   "outputs": [],
   "source": [
    "import numpy as np\n",
    "print(f'numpy version: {np.__version__}')"
   ]
  },
  {
   "cell_type": "markdown",
   "metadata": {},
   "source": [
    "## PageRank\n",
    "\n",
    "PageRank is one of the most lucrative algorithms in history, used by Google to revolutionize how web search results are ranked. Let's go over the math behind PageRank, and then implement it in NumPy.\n",
    "\n",
    "PageRank paper:  http://infolab.stanford.edu/pub/papers/google.pdf \n",
    "\n",
    "Wikipedia article:  https://en.wikipedia.org/wiki/PageRank\n",
    "\n",
    "<img src=\"https://upload.wikimedia.org/wikipedia/commons/thumb/6/69/PageRank-hi-res.png/440px-PageRank-hi-res.png\" width=\"600\"/>"
   ]
  },
  {
   "cell_type": "markdown",
   "metadata": {},
   "source": [
    "## PageRank Basics\n",
    "From the original paper:\n",
    "\n",
    ">PageRank can be thought of as a model of user behavior. We assume there is a \\\"random surfer\\\" who is\n",
    "given a web page at random and keeps clicking on links, never hitting \\\"back\\\" but eventually gets bored\n",
    "and starts on another random page. The probability that the random surfer visits a page is its PageRank.\n",
    "And, the d damping factor is the probability at each page the \\\"random surfer\\\" will get bored and request\n",
    "another random page.\n",
    "\n",
    "There is one mistake in this description: the damping factor $d$ is instead the probability that the surfer keeps clicking links. The description above would be $(1-d)$."
   ]
  },
  {
   "cell_type": "markdown",
   "metadata": {},
   "source": [
    "The core data structure for PageRank is a hyperlink graph, where web pages are represented as nodes and a hyperlink from page j to page i forms a directed edge in the graph from node j to node i. The picture below shows a toy \"web\" with  11 web pages and the link structure between them. We'll work our way towards implementing PageRank on this graph.\n",
    "\n",
    "<img src=\"https://upload.wikimedia.org/wikipedia/en/thumb/8/8b/PageRanks-Example.jpg/800px-PageRanks-Example.jpg\" width=\"600\"/>"
   ]
  },
  {
   "cell_type": "markdown",
   "metadata": {},
   "source": [
    "## A Random Walk Down Wall Street\n",
    "\n",
    "First we're going to implement PageRank the \"naive\" way by simulating a random walk. To keep things simple, let's consider a tiny web with three pages: A, B, and C.\n",
    "\n",
    "<img src=\"graph3.png\" width=\"200\"/>\n",
    "\n",
    "* A links to B\n",
    "* B links to C\n",
    "* C links A and B\n",
    "\n",
    "First let's implement a function that, given a page and a graph, returns a random \"next page\". If a page has no outgoing links, we will select the next page completely at random.\n",
    "\n",
    "Some methods to consider:\n",
    "\n",
    "* np.random.randint(), https://docs.scipy.org/doc/numpy/reference/generated/numpy.random.randint.html\n",
    "* np.random.choice(), https://docs.scipy.org/doc/numpy/reference/generated/numpy.random.choice.html"
   ]
  },
  {
   "cell_type": "code",
   "execution_count": null,
   "metadata": {
    "jupyter": {
     "source_hidden": true
    }
   },
   "outputs": [],
   "source": [
    "# Sample Implementation\n",
    "\n",
    "def random_next_page(current_page, link_graph):\n",
    "    \"\"\"\n",
    "    If the current_page has no outgoing links, a random page is returned.\n",
    "\n",
    "    :param current_page: a string with the current page name\n",
    "    :param link_graph: a dict mapping page names to \"next page\" names, e.g. {\"page1\": [\"page2, page5\"]}\n",
    "    :return: a string with the next page\n",
    "    \"\"\"\n",
    "    page_choices = link_graph[current_page]\n",
    "    if len(page_choices) == 0:\n",
    "        page_choices = list(link_graph.keys())\n",
    "    return np.random.choice(page_choices)"
   ]
  },
  {
   "cell_type": "code",
   "execution_count": null,
   "metadata": {},
   "outputs": [],
   "source": [
    "def random_next_page(current_page, link_graph):\n",
    "    \"\"\"\n",
    "    If the current_page has no outgoing links, a random page is returned.\n",
    "\n",
    "    :param current_page: a string with the current page name\n",
    "    :param link_graph: a dict mapping page names to \"next page\" names, e.g. {\"page1\": [\"page2, page5\"]}\n",
    "    :return: a string with the next page\n",
    "    \"\"\"\n",
    "    raise Exception('Implement me!')"
   ]
  },
  {
   "cell_type": "markdown",
   "metadata": {},
   "source": [
    "Now let's implement a method that, given a damping factor, determines if we should keep surfing."
   ]
  },
  {
   "cell_type": "code",
   "execution_count": null,
   "metadata": {
    "jupyter": {
     "source_hidden": true
    }
   },
   "outputs": [],
   "source": [
    "# Sample Implementation\n",
    "\n",
    "def keep_surfing(damping_factor):\n",
    "    \"\"\"\n",
    "    :param damping_factor: the probability that the surfer keeps surfing\n",
    "    :return: True if the surfer should keep surfing, False otherwise\n",
    "    \"\"\"\n",
    "    return np.random.rand() < damping_factor"
   ]
  },
  {
   "cell_type": "code",
   "execution_count": null,
   "metadata": {},
   "outputs": [],
   "source": [
    "def keep_surfing(damping_factor):\n",
    "    \"\"\"\n",
    "    :param damping_factor: the probability that the surfer keeps surfing\n",
    "    :return: True if the surfer should keep surfing, False otherwise\n",
    "    \"\"\"\n",
    "    raise Exception('Implement me!')"
   ]
  },
  {
   "cell_type": "markdown",
   "metadata": {},
   "source": [
    "Finally, using the two functions you just created, implement a function that performs a random walk given a starting page, and keeps track of page visits using a Counter object."
   ]
  },
  {
   "cell_type": "code",
   "execution_count": null,
   "metadata": {
    "jupyter": {
     "source_hidden": true
    }
   },
   "outputs": [],
   "source": [
    "# Sample Implementation\n",
    "\n",
    "from collections import Counter\n",
    "\n",
    "def random_walk(start_page, link_graph, damping_factor):\n",
    "    \"\"\"\n",
    "    :param start_page: a string with the starting page name\n",
    "    :param link_graph: a dict mapping page names to \"next page\" names, e.g. {\"page1\": [\"page2, page5\"]}\n",
    "    :param damping_factor: the probability that the surfer keeps going\n",
    "    :return: a collections.Counter object with page counts\n",
    "    \"\"\"\n",
    "    counter = Counter()\n",
    "    page = start_page\n",
    "    counter[page] += 1\n",
    "    while keep_surfing(damping_factor):\n",
    "        page = random_next_page(page, link_graph)\n",
    "        counter[page] += 1\n",
    "    return counter"
   ]
  },
  {
   "cell_type": "code",
   "execution_count": null,
   "metadata": {},
   "outputs": [],
   "source": [
    "from collections import Counter\n",
    "\n",
    "def random_walk(start_page, link_graph, damping_factor):\n",
    "    \"\"\"\n",
    "    :param start_page: a string with the starting page name\n",
    "    :param link_graph: a dict mapping page names to \"next page\" names, e.g. {\"page1\": [\"page2, page5\"]}\n",
    "    :param damping_factor: the probability that the surfer keeps going\n",
    "    :return: a collections.Counter object with page counts\n",
    "    \"\"\"\n",
    "    counter = Counter()\n",
    "\n",
    "    raise Exception('Implement me!')\n",
    "    \n",
    "    return counter"
   ]
  },
  {
   "cell_type": "markdown",
   "metadata": {},
   "source": [
    "We now have everything we need for our naive implementation of PageRank. Using your **random_walk()** function, repeatedly perform walks on random starting pages and keep track of the overall page counts. You can add one Counter object to another by calling:\n",
    ">counter.update(another_counter)"
   ]
  },
  {
   "cell_type": "code",
   "execution_count": null,
   "metadata": {
    "jupyter": {
     "source_hidden": true
    }
   },
   "outputs": [],
   "source": [
    "# Sample Implementation\n",
    "\n",
    "link_graph = {\n",
    "    'A': ['B'],\n",
    "    'B': ['C'],\n",
    "    'C': ['A', 'B']\n",
    "}\n",
    "\n",
    "damping_factor = 0.85\n",
    "total_walks = 10000\n",
    "overall_counts = Counter()\n",
    "\n",
    "for i in range(total_walks):\n",
    "    start_page = np.random.choice(list(link_graph.keys()))\n",
    "    counts = random_walk(start_page, link_graph, damping_factor)\n",
    "    overall_counts.update(counts)\n",
    "\n",
    "print('Raw counts:')\n",
    "print(overall_counts)\n",
    "print()\n",
    "print('PageRanks:')\n",
    "page_sum = sum(overall_counts.values())\n",
    "for page in sorted(link_graph):\n",
    "    print(page, overall_counts[page] / page_sum)"
   ]
  },
  {
   "cell_type": "code",
   "execution_count": null,
   "metadata": {},
   "outputs": [],
   "source": [
    "link_graph = {\n",
    "    'A': ['B'],\n",
    "    'B': ['C'],\n",
    "    'C': ['A', 'B']\n",
    "}\n",
    "\n",
    "damping_factor = 0.85\n",
    "total_walks = 1000\n",
    "overall_counts = Counter()\n",
    "\n",
    "###################\n",
    "# Your code here\n",
    "\n",
    "raise Exception('Implement me!')\n",
    "\n",
    "###################\n",
    "\n",
    "print('Raw counts:')\n",
    "print(overall_counts)\n",
    "print()\n",
    "print('PageRanks:')\n",
    "page_sum = sum(overall_counts.values())\n",
    "for page in sorted(link_graph):\n",
    "    print(page, overall_counts[page] / page_sum)"
   ]
  },
  {
   "cell_type": "markdown",
   "metadata": {},
   "source": [
    "## A Better Way\n",
    "\n",
    "While the naive method we just implemented works fine for small graphs, there is a much faster way! In fact, there is a way to compute the long-term stationary distribution of this random walk without using random number generation at all."
   ]
  },
  {
   "cell_type": "markdown",
   "metadata": {},
   "source": [
    "### The State Vector and the Adjacency Matrix\n",
    "\n",
    "The key to our improved implementation will be matrix math.\n",
    "\n",
    "First, let's represent the current occupancy of each page using a **state vector**, $\\mathbf{v}$. We'll number the pages A: 0, B: 1, and C: 2, and begin by placing our surfer on page C.\n",
    "\n",
    "$$ \\mathbf{v} = \\begin{bmatrix} 0 \\\\ 0 \\\\ 1 \\end{bmatrix} $$\n",
    "\n",
    "Now let's represent our link graph using a device called the **adjacency matrix**, which is a square matrix where each entry $\\mathbf{A}_{i,j}$ contains a 1 if an edge is present from node j to i, and otherwise contains a 0. We'll use bold-font $\\mathbf{A}$ to distinguish it from the page A.\n",
    "\n",
    "In this form, each row of the matrix represents the incoming edges for the corresponding node. Each column represents the outgoing edges for the corresponding node.\n",
    "\n",
    "<img src=\"graph3.png\" width=\"200\"/>\n",
    "\n",
    "$$ \\mathbf{A} = \\begin{bmatrix} 0 & 0 & 1 \\\\ 1 & 0 & 1 \\\\ 0 & 1 & 0 \\end{bmatrix} $$\n",
    "\n",
    "With the state vector $\\mathbf{v}$ and the adjacency matrix $\\mathbf{A}$, which mathematical operation (that we have previously learned) will implement a simultaneous \"walk\" that updates the state vector? Think about this and then expand the hidden cell below to continue.\n",
    "\n",
    "**$\\downarrow$ Expand hidden cell $\\downarrow$**"
   ]
  },
  {
   "cell_type": "markdown",
   "metadata": {
    "jupyter": {
     "source_hidden": true
    }
   },
   "source": [
    "If we multiply the state vector $\\mathbf{v}$ by the adjacency matrix $\\mathbf{A}$, we get:\n",
    "\n",
    "$$ \\mathbf{v}' = \\mathbf{A}\\mathbf{v} = \\begin{bmatrix} 0 & 0 & 1 \\\\ 1 & 0 & 1 \\\\ 0 & 1 & 0 \\end{bmatrix} \\begin{bmatrix} 0 \\\\ 0 \\\\ 1 \\end{bmatrix} = \\begin{bmatrix} 1 \\\\ 1 \\\\ 0 \\end{bmatrix} $$\n",
    "\n",
    "Our surfer on page $C$ moved to both $A$ and $B$. Now we have two surfers!"
   ]
  },
  {
   "cell_type": "markdown",
   "metadata": {},
   "source": [
    "Instead of adding new surfers whenever multiple edges are present, let's make the state vector and adjacency matrix stochastic. Instead of tracking a single surfer, imagine tracking an infinite number of surfers and we are representing the fraction of them on each page.\n",
    "\n",
    "To make the adjacency matrix stochastic, we will need each column to sum to to 1.0.\n",
    "\n",
    "$$ \\mathbf{S} = \\begin{bmatrix} 0 & 0 & 0.5 \\\\ 1 & 0 & 0.5 \\\\ 0 & 1 & 0 \\end{bmatrix} $$\n",
    "\n",
    "When a page has no outgoing links its column will be all zeros, and in this case we let the surfer start fresh by creating virtual links to all pages. In other words, every entry of the column in this case will contain the value $1/P$. This isn't necessary in our graph above, but we need to remember to implement it in case we encounter a graph that has sink nodes.\n",
    "\n",
    "Implement code below to create a stochastic adjacency matrix."
   ]
  },
  {
   "cell_type": "code",
   "execution_count": null,
   "metadata": {
    "jupyter": {
     "source_hidden": true
    }
   },
   "outputs": [],
   "source": [
    "# Sample Implementation\n",
    "\n",
    "def make_stochastic_adjacency(A):\n",
    "    S = np.array(A)\n",
    "    col_sums = np.sum(S, axis=0)\n",
    "    S[:, col_sums == 0] = 1\n",
    "    return S / np.sum(S, axis=0)\n",
    "\n",
    "# Test on a graph that has no outgoing edges for the first page\n",
    "A = np.array([[0,0,1], [0,0,1], [0,1,0]])\n",
    "\n",
    "print('Adjacency matrix (notice the first column is all zeros):')\n",
    "print(A)\n",
    "print()\n",
    "\n",
    "print('What we want:')\n",
    "correct_S = np.array([[1/3, 0, 1/2], [1/3, 0, 1/2], [1/3, 1, 0]])\n",
    "print(correct_S)\n",
    "print()\n",
    "\n",
    "S = make_stochastic_adjacency(A)\n",
    "\n",
    "print('Your stochastic adjacency matrix:')\n",
    "print(S)\n",
    "\n",
    "assert np.allclose(S, correct_S)"
   ]
  },
  {
   "cell_type": "code",
   "execution_count": null,
   "metadata": {},
   "outputs": [],
   "source": [
    "def make_stochastic_adjacency(A):\n",
    "    \"\"\"\n",
    "    :param A: the adjacency matrix, shape (P, P)\n",
    "    :return: the stochastic adjacency matrix, shape (P, P), all columns sum to 1.0\n",
    "    \"\"\"\n",
    "    raise Exception('Implement me!')\n",
    "\n",
    "# Test on a graph that has no outgoing edges for the first page\n",
    "A = np.array([[0,0,1], [0,0,1], [0,1,0]])\n",
    "\n",
    "print('Adjacency matrix (notice the first column is all zeros):')\n",
    "print(A)\n",
    "print()\n",
    "\n",
    "print('What we want:')\n",
    "correct_S = np.array([[1/3, 0, 1/2], [1/3, 0, 1/2], [1/3, 1, 0]])\n",
    "print(correct_S)\n",
    "print()\n",
    "\n",
    "S = make_stochastic_adjacency(A)\n",
    "\n",
    "print('Your stochastic adjacency matrix:')\n",
    "print(S)\n",
    "\n",
    "assert np.allclose(S, correct_S)"
   ]
  },
  {
   "cell_type": "markdown",
   "metadata": {},
   "source": [
    "Now implement one step of our simultaneous, stochastic walk using NumPy:"
   ]
  },
  {
   "cell_type": "code",
   "execution_count": null,
   "metadata": {
    "jupyter": {
     "source_hidden": true
    }
   },
   "outputs": [],
   "source": [
    "# Sample Implementation\n",
    "\n",
    "def simultaneous_walk(v, S):\n",
    "    \"\"\"\n",
    "    :param v: the state vector, shape (P, 1), where P is the number of pages\n",
    "    :param S: the stochastic adjacency matrix, shape (P, P)\n",
    "    :return: the new state vector, shape (P, 1)\n",
    "    \"\"\"\n",
    "    return np.matmul(S, v)"
   ]
  },
  {
   "cell_type": "code",
   "execution_count": null,
   "metadata": {},
   "outputs": [],
   "source": [
    "def simultaneous_walk(v, S):\n",
    "    \"\"\"\n",
    "    :param v: the state vector, shape (P, 1), where P is the number of pages\n",
    "    :param S: the stochastic adjacency matrix, shape (P, P)\n",
    "    :return: the new state vector, shape (P, 1)\n",
    "    \"\"\"\n",
    "    raise Exception('Implement me!')"
   ]
  },
  {
   "cell_type": "markdown",
   "metadata": {},
   "source": [
    "Now implement code that inititalizes $\\mathbf{v}$ and $\\mathbf{A}$ to match the example above, and perform a single stochastic update step to observe the result:"
   ]
  },
  {
   "cell_type": "code",
   "execution_count": null,
   "metadata": {
    "jupyter": {
     "source_hidden": true
    }
   },
   "outputs": [],
   "source": [
    "# Sample Implementation\n",
    "\n",
    "A = np.array([\n",
    "  [0, 0, 1],\n",
    "  [1, 0, 1],\n",
    "  [0, 1, 0],  \n",
    "])\n",
    "v = np.array([[0], [0], [1]])\n",
    "\n",
    "S = make_stochastic_adjacency(A)\n",
    "\n",
    "new_v = simultaneous_walk(v, S)\n",
    "\n",
    "print(new_v)"
   ]
  },
  {
   "cell_type": "code",
   "execution_count": null,
   "metadata": {},
   "outputs": [],
   "source": [
    "A = # your code here\n",
    "v = # your code here\n",
    "\n",
    "S = make_stochastic_adjacency(A)\n",
    "\n",
    "new_v = simultaneous_walk(v, S)\n",
    "\n",
    "print(new_v)"
   ]
  },
  {
   "cell_type": "markdown",
   "metadata": {},
   "source": [
    "We have the code for updating stochastic state when our surfers follow links, but what about the reset operation governed by the damping factor $d$? In this case, the surfer selects a random page instead of following a link. Think about the how to modify our update and then expand the hidden cell below when you want to compare your answer.\n",
    "\n",
    "**$\\downarrow$ Expand hidden cell $\\downarrow$**"
   ]
  },
  {
   "cell_type": "markdown",
   "metadata": {
    "jupyter": {
     "source_hidden": true
    }
   },
   "source": [
    "$$ \\mathbf{v}' = (1-d) \\begin{bmatrix} 1/3 \\\\ 1/3 \\\\ 1/3 \\end{bmatrix} + d \\begin{bmatrix} 0 & 0 & 0.5 \\\\ 1 & 0 & 0.5 \\\\ 0 & 1 & 0 \\end{bmatrix} \\mathbf{v} $$\n",
    "\n",
    "This says that with probability $d$ we issue our link-following update, and with the remaining probability $(1-d)$ we reset to a randomly selected page.\n",
    "\n",
    "Replacing the toy graph numbers above with mathematical symbols we get a generic update formula:\n",
    "\n",
    "$$ \\mathbf{v}' = \\frac{1-d}{P} \\mathbf{1} + d \\mathbf{S} \\mathbf{v} $$\n",
    "\n",
    "where $P$ is the number of pages and $\\mathbf{1}$ is a column vector of all ones."
   ]
  },
  {
   "cell_type": "markdown",
   "metadata": {},
   "source": [
    "Implement the full update using your previously defined method **simultaneous_walk()**. Make sure you re-normalize the state vector $\\mathbf{v}$ after the update so that it sums to 1.0. This is so that floating-point error doesn't cause it drift."
   ]
  },
  {
   "cell_type": "code",
   "execution_count": null,
   "metadata": {
    "jupyter": {
     "source_hidden": true
    }
   },
   "outputs": [],
   "source": [
    "# Sample Implementation\n",
    "\n",
    "def full_update(v, S, damping_factor):\n",
    "    \"\"\"\n",
    "    :param v: the state vector, shape (P, 1), where P is the number of pages\n",
    "    :param S: the stochastic adjacency matrix, shape (P, P)\n",
    "    :param damping_factor: the probability that the surfer keeps going\n",
    "    :return: the new state vector, shape (P, 1). it will be normalized to sum to 1\n",
    "    \"\"\"\n",
    "    P = v.shape[0]\n",
    "    reset_probs = np.ones([P, 1]) / P\n",
    "    surfing_probs = simultaneous_walk(v, S)\n",
    "    new_v = (1-damping_factor)*reset_probs + damping_factor*surfing_probs\n",
    "    return new_v / np.sum(new_v)"
   ]
  },
  {
   "cell_type": "code",
   "execution_count": null,
   "metadata": {},
   "outputs": [],
   "source": [
    "def full_update(v, S, damping_factor):\n",
    "    \"\"\"\n",
    "    :param v: the state vector, shape (P, 1), where P is the number of pages\n",
    "    :param S: the stochastic adjacency matrix, shape (P, P)\n",
    "    :param damping_factor: the probability that the surfer keeps going\n",
    "    :return: the new state vector, shape (P, 1). it will be normalized to sum to 1\n",
    "    \"\"\"\n",
    "    raise Exception('Implement me!')"
   ]
  },
  {
   "cell_type": "markdown",
   "metadata": {},
   "source": [
    "We almost have enough to implement an accelerated PageRank calculation, except for one crucial question: how do we know when to stop the simulation? Let's stop when the maximum absolute change between any entry in our old state vector and our new state vector is less than some threshold, $eps$.\n",
    "\n",
    "Implement this using NumPy below:"
   ]
  },
  {
   "cell_type": "code",
   "execution_count": null,
   "metadata": {
    "jupyter": {
     "source_hidden": true
    }
   },
   "outputs": [],
   "source": [
    "# Sample Implementation\n",
    "\n",
    "def maximum_change(a, b):\n",
    "    ''' \n",
    "    :param a: an ndarray\n",
    "    :param b: an ndarray\n",
    "    :return: the maximum value in abs(a - b) \n",
    "    '''\n",
    "    return np.max(np.abs(a - b))"
   ]
  },
  {
   "cell_type": "code",
   "execution_count": null,
   "metadata": {},
   "outputs": [],
   "source": [
    "def maximum_change(a, b):\n",
    "    ''' \n",
    "    :param a: an ndarray\n",
    "    :param b: an ndarray\n",
    "    :return: the maximum value in abs(a - b) \n",
    "    '''\n",
    "    # your code here"
   ]
  },
  {
   "cell_type": "markdown",
   "metadata": {},
   "source": [
    "We're now ready to run our accelerated, stochastic implementation of PageRank. \n",
    "\n",
    "Instead of starting with a single surfer on one page, let's instead start with a stochastic state that has equal probability on each page. This is like tracking a huge number of simultaneous surfers:\n",
    "\n",
    "$$ \\mathbf{v} = \\begin{bmatrix} 1/3 \\\\ 1/3 \\\\ 1/3 \\end{bmatrix} $$\n",
    "\n",
    "As a recap, the pseudo-code is:\n",
    "* Convert the adjacency matrix, $\\mathbf{A}$, to its stochastic version, $\\mathbf{S}$\n",
    "* Initialize a state column vector, $\\mathbf{v}$, to all 1/P (where P is the number of pages)\n",
    "* For step = 1:max_steps\n",
    "  * save the old state\n",
    "  * run an update step\n",
    "  * if maximum absolute change < $eps$, exit loop"
   ]
  },
  {
   "cell_type": "code",
   "execution_count": null,
   "metadata": {
    "jupyter": {
     "source_hidden": true
    }
   },
   "outputs": [],
   "source": [
    "# Sample Implementation\n",
    "\n",
    "def calc_pagerank(A, damping_factor=0.85, eps=1e-6, max_steps=100):\n",
    "    \"\"\"\n",
    "    :param A: an adjacency matrix (not necessarily stochastic), shape (P, P)\n",
    "    :param damping_factor: the probability that the surfer keeps going\n",
    "    :param eps: convergence threshold\n",
    "    :param max_steps: maximum number of steps to run\n",
    "    :return: A tuple with two entries: (pagerank vector, step_count)\n",
    "    \"\"\"\n",
    "    P = A.shape[0]\n",
    "    S = make_stochastic_adjacency(A)\n",
    "    v = np.ones([P, 1]) / P\n",
    "    for i in range(max_steps):\n",
    "        last_v = np.array(v)\n",
    "        v = full_update(v, S, damping_factor)\n",
    "        if maximum_change(v, last_v) < eps:\n",
    "            break\n",
    "    return v, i\n",
    "\n",
    "A = np.array([\n",
    "  [0, 0, 1],\n",
    "  [1, 0, 1],\n",
    "  [0, 1, 0],  \n",
    "])\n",
    "\n",
    "pageranks, num_steps = calc_pagerank(A, damping_factor=0.85)\n",
    "\n",
    "print(f'Total steps: {num_steps}')\n",
    "print()\n",
    "print('PageRanks:')\n",
    "print(pageranks)"
   ]
  },
  {
   "cell_type": "code",
   "execution_count": null,
   "metadata": {},
   "outputs": [],
   "source": [
    "def calc_pagerank(A, damping_factor=0.85, eps=1e-6, max_steps=100):\n",
    "    \"\"\"\n",
    "    :param A: an adjacency matrix (not necessarily stochastic), shape (P, P)\n",
    "    :param damping_factor: the probability that the surfer keeps going\n",
    "    :param eps: convergence threshold\n",
    "    :param max_steps: maximum number of steps to run\n",
    "    :return: A tuple with two entries: (pagerank vector, step_count)\n",
    "    \"\"\"\n",
    "    raise Exception('Implement me!')\n",
    "\n",
    "A = np.array([\n",
    "  [0, 0, 1],\n",
    "  [1, 0, 1],\n",
    "  [0, 1, 0],  \n",
    "])\n",
    "\n",
    "pageranks, num_steps = calc_pagerank(A, damping_factor=0.85)\n",
    "\n",
    "print(f'Total steps: {num_steps}')\n",
    "print()\n",
    "print('PageRanks:')\n",
    "print(pageranks)"
   ]
  },
  {
   "cell_type": "markdown",
   "metadata": {},
   "source": [
    "## Larger Graph\n",
    "\n",
    "Now let's use your PageRank code on the graph we showed in the beginning and compare it to the numbers in that picture. We'll render it again so that you don't need to scroll up. In the picture, the PageRanks are multipled by 100."
   ]
  },
  {
   "cell_type": "code",
   "execution_count": null,
   "metadata": {},
   "outputs": [],
   "source": [
    "A = np.array([\n",
    "#    A  B  C  D  E  F g1 g2 g3 g4 g5\n",
    "    [0, 0, 0, 1, 0, 0, 0, 0, 0, 0, 0], # A\n",
    "    [0, 0, 1, 1, 1, 1, 1, 1, 1, 0, 0], # B\n",
    "    [0, 1, 0, 0, 0, 0, 0, 0, 0, 0, 0], # C\n",
    "    [0, 0, 0, 0, 1, 0, 0, 0, 0, 0, 0], # D\n",
    "    [0, 0, 0, 0, 0, 1, 1, 1, 1, 1, 1], # E\n",
    "    [0, 0, 0, 0, 1, 0, 0, 0, 0, 0, 0], # F\n",
    "    [0, 0, 0, 0, 0, 0, 0, 0, 0, 0, 0], # g1\n",
    "    [0, 0, 0, 0, 0, 0, 0, 0, 0, 0, 0], # g2\n",
    "    [0, 0, 0, 0, 0, 0, 0, 0, 0, 0, 0], # g3\n",
    "    [0, 0, 0, 0, 0, 0, 0, 0, 0, 0, 0], # g4\n",
    "    [0, 0, 0, 0, 0, 0, 0, 0, 0, 0, 0]  # g5\n",
    "])\n",
    "\n",
    "pageranks, num_steps = calc_pagerank(A, damping_factor=0.85)\n",
    "\n",
    "print(f'Total steps: {num_steps}')\n",
    "print()\n",
    "print('PageRanks:')\n",
    "node_names = [chr(o) for o in range(ord('A'), ord('L'))]\n",
    "dict(zip(node_names, pageranks.ravel()*100))"
   ]
  },
  {
   "cell_type": "markdown",
   "metadata": {},
   "source": [
    "<img src=\"https://upload.wikimedia.org/wikipedia/en/thumb/8/8b/PageRanks-Example.jpg/800px-PageRanks-Example.jpg\" width=\"600\"/>"
   ]
  },
  {
   "cell_type": "markdown",
   "metadata": {},
   "source": [
    "## Animation\n",
    "\n",
    "Run the two cells below to see an animated rendering of your PageRank calculation."
   ]
  },
  {
   "cell_type": "code",
   "execution_count": null,
   "metadata": {},
   "outputs": [],
   "source": [
    "%%capture\n",
    "\n",
    "import networkx as nx\n",
    "import matplotlib.pyplot as plt\n",
    "from matplotlib import animation, rc\n",
    "from IPython.display import HTML\n",
    "\n",
    "pos = {\n",
    "    'A': (-1, 1),\n",
    "    'B': (-0.2,  1),\n",
    "    'C': (1,  1),\n",
    "    'D': (-1, 0),\n",
    "    'E': (0.3, -0.5),\n",
    "    'F': (1, 0),\n",
    "    'G1': (-0.8, -0.8),\n",
    "    'G2': (-0.6, -0.9),\n",
    "    'G3': (-0.4, -1),\n",
    "    'G4': (0.6, -1),\n",
    "    'G5': (0.8, -0.8),\n",
    "}\n",
    "\n",
    "G = nx.from_numpy_matrix(A.T, create_using=nx.DiGraph())\n",
    "G = nx.relabel_nodes(G, dict(enumerate(sorted(pos.keys()))))\n",
    "damping_factor = 0.85\n",
    "\n",
    "def update(step):\n",
    "    ax.clear()\n",
    "    if step == 0:\n",
    "        pageranks = np.ones(11) / 11\n",
    "    else:\n",
    "        pageranks, num_steps = calc_pagerank(A, damping_factor=damping_factor, max_steps=step)\n",
    "    pageranks = pageranks.ravel()\n",
    "    nx.draw_networkx(G, pos=pos, with_labels=True,\n",
    "                     node_color=pageranks, node_size=pageranks*30000,\n",
    "                     cmap='BuGn', alpha=0.8, edgecolors='k')\n",
    "    ax.set_title(f'Step: {step}')\n",
    "    ax.set_xlim(-1.2, 1.3)\n",
    "    ax.set_ylim(-1.2, 1.5)\n",
    "    ax.set_xticks([])\n",
    "    ax.set_yticks([])\n",
    "\n",
    "fig, ax = plt.subplots(figsize=(10, 6))\n",
    "anim = animation.FuncAnimation(fig, update, frames=25, interval=500, repeat=True)\n",
    "HTML(anim.to_jshtml())"
   ]
  },
  {
   "cell_type": "code",
   "execution_count": null,
   "metadata": {},
   "outputs": [],
   "source": [
    "# The output of the cell above is captured to prevent an err plot from rendering inline\n",
    "# Running this one will show the animation\n",
    "HTML(anim.to_jshtml())"
   ]
  },
  {
   "cell_type": "markdown",
   "metadata": {},
   "source": [
    "## Parting Thoughts\n",
    "\n",
    "What would happen if we tried to use the code we have written for the real web, where we may have over a billion web pages? Our adjacency matrix would use $10^{9} x 10^{9} = 10^{18}$ floats which would not fit in RAM. In a future lesson, we will learn about sparse matrices which will help us solve this problem.\n",
    "\n",
    "There is also another way to implement this algorithm, which is to realize that the stationary distribution is the principal eigenvector of a modified stochastic adjacency matrix. Knowing this, you could try using NumPy's eigenvector solver instead of coding up the iterative procedure above.\n",
    "\n",
    "We'll leave the eigenvector approach as an exercise for the reader. Interestingly, the approach we implemented is essentially the \"power iteration\" approach for finding a principal eigenvector.\n",
    "\n",
    "Take a moment to ponder the fact that, if you had invented this in 1995, you could have become a billionare instead of Larry Page and Sergey Brin ;-)\n",
    "\n",
    "Larry and Sergey in the 90s:\n",
    "\n",
    "![larry_and_sergey](http://archive.fortune.com/assets/i2.cdn.turner.com/money/galleries/2012/news/companies/1203/gallery.greatest-entrepreneurs.fortune/images/larry_page_sergey_brin.jpg)\n",
    "\n",
    "Larry and Sergey flying their 767 today:\n",
    "\n",
    "![google_jet](https://www.privatejetcharter.co.uk/wp-content/uploads/2013/11/Boeing-767-200-Google-Jet.jpg)\n"
   ]
  }
 ],
 "metadata": {
  "kernelspec": {
   "display_name": "Python 3",
   "language": "python",
   "name": "python3"
  },
  "language_info": {
   "codemirror_mode": {
    "name": "ipython",
    "version": 3
   },
   "file_extension": ".py",
   "mimetype": "text/x-python",
   "name": "python",
   "nbconvert_exporter": "python",
   "pygments_lexer": "ipython3",
   "version": "3.6.5"
  }
 },
 "nbformat": 4,
 "nbformat_minor": 2
}
