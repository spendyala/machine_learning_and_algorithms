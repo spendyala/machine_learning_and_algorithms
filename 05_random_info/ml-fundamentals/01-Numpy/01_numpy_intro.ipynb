{
 "cells": [
  {
   "cell_type": "markdown",
   "metadata": {},
   "source": [
    "# 01. NumPy Intro"
   ]
  },
  {
   "cell_type": "markdown",
   "metadata": {},
   "source": [
    "![numpy logo](https://upload.wikimedia.org/wikipedia/en/thumb/8/82/Logo_of_NumPy.svg/440px-Logo_of_NumPy.svg.png)\n",
    "\n",
    "Website: http://www.numpy.org/"
   ]
  },
  {
   "cell_type": "markdown",
   "metadata": {},
   "source": [
    "## A. What does NumPy Provide?\n",
    "\n",
    "1. Efficient multi-dimensional array (ndarray)\n",
    "2. Fast mathematical operations on ndarrays"
   ]
  },
  {
   "cell_type": "markdown",
   "metadata": {},
   "source": [
    "We'll begin by importing the numpy package and printing the version number:"
   ]
  },
  {
   "cell_type": "code",
   "execution_count": null,
   "metadata": {},
   "outputs": [],
   "source": [
    "import numpy as np\n",
    "print(f'numpy version: {np.__version__}')"
   ]
  },
  {
   "cell_type": "markdown",
   "metadata": {},
   "source": [
    "## B. Why do we need NumPy?"
   ]
  },
  {
   "cell_type": "markdown",
   "metadata": {},
   "source": [
    "Pure Python code can be slow when performing large amounts of numerical computation. Let's time a simple summation of all integers between zero and a million.\n",
    "\n",
    "### Example 1: The basic sum\n",
    "\n",
    "$$total = 0 + 1 + 2 + ... + 1,000,000$$\n",
    "\n",
    "or in shorter notation:\n",
    "\n",
    "$$total = \\sum_{i=0}^{1,000,000} i$$"
   ]
  },
  {
   "cell_type": "code",
   "execution_count": null,
   "metadata": {},
   "outputs": [],
   "source": [
    "data = list(range(1000001))\n",
    "print(f'{data[:3]} ... {data[-3:]}')"
   ]
  },
  {
   "cell_type": "markdown",
   "metadata": {},
   "source": [
    "#### Attempt 1"
   ]
  },
  {
   "cell_type": "code",
   "execution_count": null,
   "metadata": {},
   "outputs": [],
   "source": [
    "%%timeit\n",
    "total = 0\n",
    "for i in range(len(data)):\n",
    "    total += data[i]"
   ]
  },
  {
   "cell_type": "markdown",
   "metadata": {},
   "source": [
    "#### Attempt 2\n",
    "What if we use another iteration method?"
   ]
  },
  {
   "cell_type": "code",
   "execution_count": null,
   "metadata": {},
   "outputs": [],
   "source": [
    "%%timeit\n",
    "total = 0\n",
    "for d in data:\n",
    "    total += d"
   ]
  },
  {
   "cell_type": "markdown",
   "metadata": {},
   "source": [
    "#### Attempt 3\n",
    "Okay that is a little better. But \"Aha!\" you say, there is a builtin function called sum() we should be using!"
   ]
  },
  {
   "cell_type": "code",
   "execution_count": null,
   "metadata": {},
   "outputs": [],
   "source": [
    "%%timeit\n",
    "sum(data)"
   ]
  },
  {
   "cell_type": "markdown",
   "metadata": {},
   "source": [
    "#### NumPy way\n",
    "Now let's do the same thing in numpy:"
   ]
  },
  {
   "cell_type": "code",
   "execution_count": null,
   "metadata": {},
   "outputs": [],
   "source": [
    "array = np.arange(1000001, dtype=np.int32)\n",
    "print(f'array: {array}')"
   ]
  },
  {
   "cell_type": "code",
   "execution_count": null,
   "metadata": {},
   "outputs": [],
   "source": [
    "%%timeit\n",
    "np.sum(array)"
   ]
  },
  {
   "cell_type": "markdown",
   "metadata": {},
   "source": [
    "On my Mac laptop, the NumPy version is 100x faster than our first loop-based implementation, and 10x faster than Python's builtin sum() method."
   ]
  },
  {
   "cell_type": "markdown",
   "metadata": {},
   "source": [
    "### Example 2: The dot product\n",
    "\n",
    "Let's try a slightly more complex operation that often appears in statistics and machine learning, the weighted sum, a.k.a the dot product:\n",
    "\n",
    "$$dot(w, x) = \\sum_{i=0}^{1,000,000} w_{i}x_{i}$$"
   ]
  },
  {
   "cell_type": "markdown",
   "metadata": {},
   "source": [
    "#### Exercise: Python implementation"
   ]
  },
  {
   "cell_type": "markdown",
   "metadata": {},
   "source": [
    "Write code for this operation in the cell below. A sample implementation is provided in the hidden cell, but try it on your own before peeking!"
   ]
  },
  {
   "cell_type": "code",
   "execution_count": null,
   "metadata": {},
   "outputs": [],
   "source": [
    "weights = list(range(1000001))"
   ]
  },
  {
   "cell_type": "code",
   "execution_count": null,
   "metadata": {
    "jupyter": {
     "source_hidden": true
    }
   },
   "outputs": [],
   "source": [
    "%%timeit\n",
    "# Sample implementation\n",
    "dot_product = sum(w*x for w,x in zip(weights, data))"
   ]
  },
  {
   "cell_type": "code",
   "execution_count": null,
   "metadata": {},
   "outputs": [],
   "source": [
    "%%timeit\n",
    "# Write your code below\n"
   ]
  },
  {
   "cell_type": "markdown",
   "metadata": {},
   "source": [
    "#### Exercise: Numpy implementation"
   ]
  },
  {
   "cell_type": "markdown",
   "metadata": {},
   "source": [
    "Now let's do it the numpy way with the library method called dot().\n",
    "\n",
    "dot documentation: https://docs.scipy.org/doc/numpy/reference/generated/numpy.dot.html"
   ]
  },
  {
   "cell_type": "code",
   "execution_count": null,
   "metadata": {},
   "outputs": [],
   "source": [
    "# Each weights_array[i] will be multiplied by array[i] in the summation\n",
    "array = np.arange(1000001, dtype=np.int32)\n",
    "weights_array = np.arange(1000001, dtype=np.int32)"
   ]
  },
  {
   "cell_type": "code",
   "execution_count": null,
   "metadata": {
    "jupyter": {
     "source_hidden": true
    }
   },
   "outputs": [],
   "source": [
    "# Sample implementation\n",
    "numpy_dot_product = np.dot(weights_array, array)\n",
    "print(numpy_dot_product)"
   ]
  },
  {
   "cell_type": "code",
   "execution_count": null,
   "metadata": {},
   "outputs": [],
   "source": [
    "numpy_dot_product = # Put your code here\n",
    "print(numpy_dot_product)"
   ]
  },
  {
   "cell_type": "markdown",
   "metadata": {},
   "source": [
    "You probably just experienced a negative result, which clearly isn't correct.\n",
    "\n",
    "This is one of the tradeoffs one makes when using numpy. While it can detect things like underflow and overflow in some situations it does not always do so, and one must be careful! Let's switch to 64-bit ints, which is the default."
   ]
  },
  {
   "cell_type": "code",
   "execution_count": null,
   "metadata": {},
   "outputs": [],
   "source": [
    "# Weights, each weights_array[i] will be multiplied by array[i] in the summation\n",
    "array = np.arange(1000001)\n",
    "weights_array = np.arange(1000001)\n",
    "\n",
    "numpy_dot = # Put your code here\n",
    "python_dot = sum(w*x for w,x in zip(weights, data))\n",
    "\n",
    "print(f'numpy array dtype: {array.dtype}')\n",
    "print(f'python_dot: {python_dot}, numpy_dot: {numpy_dot}, equal? {python_dot == numpy_dot}')"
   ]
  },
  {
   "cell_type": "code",
   "execution_count": null,
   "metadata": {},
   "outputs": [],
   "source": [
    "%%timeit\n",
    "numpy_dot = # Put your code here"
   ]
  },
  {
   "cell_type": "markdown",
   "metadata": {},
   "source": [
    "Pretty fast!"
   ]
  }
 ],
 "metadata": {
  "kernelspec": {
   "display_name": "Python 3",
   "language": "python",
   "name": "python3"
  },
  "language_info": {
   "codemirror_mode": {
    "name": "ipython",
    "version": 3
   },
   "file_extension": ".py",
   "mimetype": "text/x-python",
   "name": "python",
   "nbconvert_exporter": "python",
   "pygments_lexer": "ipython3",
   "version": "3.6.5"
  }
 },
 "nbformat": 4,
 "nbformat_minor": 2
}
