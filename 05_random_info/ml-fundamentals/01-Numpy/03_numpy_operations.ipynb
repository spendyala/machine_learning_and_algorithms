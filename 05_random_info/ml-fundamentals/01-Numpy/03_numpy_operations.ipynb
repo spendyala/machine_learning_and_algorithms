{
 "cells": [
  {
   "cell_type": "markdown",
   "metadata": {},
   "source": [
    "# 03. Array Operations"
   ]
  },
  {
   "cell_type": "code",
   "execution_count": null,
   "metadata": {},
   "outputs": [],
   "source": [
    "import numpy as np\n",
    "print(f'numpy version: {np.__version__}')"
   ]
  },
  {
   "cell_type": "markdown",
   "metadata": {},
   "source": [
    "## A. Array Manipulation\n",
    "\n",
    "https://docs.scipy.org/doc/numpy-1.15.0/reference/routines.array-manipulation.html"
   ]
  },
  {
   "cell_type": "markdown",
   "metadata": {},
   "source": [
    "### Reshape\n",
    "\n",
    "We can change the shape of an ndarray using its **reshape()** method. In the example below, we will start with a 1D array and \"wrap\" it at its midway point to become a 2D array.\n",
    "\n",
    "$$\\begin{bmatrix} 0 & 1 & 2 & 3 & 4 & 5 \\end{bmatrix}  \\quad reshape => \\quad \\begin{bmatrix} 0 & 1 & 2 \\\\ 3 & 4 & 5 \\end{bmatrix}$$"
   ]
  },
  {
   "cell_type": "code",
   "execution_count": null,
   "metadata": {},
   "outputs": [],
   "source": [
    "a = np.arange(6)\n",
    "print(a)\n",
    "print()\n",
    "a.reshape(2, 3)"
   ]
  },
  {
   "cell_type": "markdown",
   "metadata": {},
   "source": [
    "Another common use case is turning a 1D array into a column vector, which is a 2D array with a single column. We will also use the NumPy library function **np.reshape()** instead of the array object method we used before."
   ]
  },
  {
   "cell_type": "code",
   "execution_count": null,
   "metadata": {},
   "outputs": [],
   "source": [
    "a = np.arange(6)\n",
    "print(a)\n",
    "np.reshape(a, [6, 1])"
   ]
  },
  {
   "cell_type": "markdown",
   "metadata": {},
   "source": [
    "We can also do this without using reshape by using indexing and special **np.newaxis** object"
   ]
  },
  {
   "cell_type": "code",
   "execution_count": null,
   "metadata": {},
   "outputs": [],
   "source": [
    "a[:, np.newaxis]"
   ]
  },
  {
   "cell_type": "markdown",
   "metadata": {},
   "source": [
    "Finally, we can use **np.expand_dims()** to add extra dimensions"
   ]
  },
  {
   "cell_type": "code",
   "execution_count": null,
   "metadata": {},
   "outputs": [],
   "source": [
    "print(np.expand_dims(a, axis=1))\n",
    "print()\n",
    "print(np.expand_dims(a, axis=0))"
   ]
  },
  {
   "cell_type": "markdown",
   "metadata": {},
   "source": [
    "We can take an ndarray with any number of dimensions and \"flatten\" it into a 1d array by using **array.ravel()** or **np.ravel()**"
   ]
  },
  {
   "cell_type": "code",
   "execution_count": null,
   "metadata": {},
   "outputs": [],
   "source": [
    "a.ravel()"
   ]
  },
  {
   "cell_type": "markdown",
   "metadata": {},
   "source": [
    "### Transpose\n",
    "\n",
    "The **np.tranpose()** function permutes the dimensions of an array. The most common use of the this is the matrix tranpose, where rows become columns and columns become rows. The transpose if often written in mathematical notation with a superscript **T**.\n",
    "\n",
    "$$\\begin{bmatrix} 0 & 1 & 2 \\\\ 3 & 4 & 5 \\end{bmatrix}^T  \\quad = \\quad \\begin{bmatrix} 0 & 3 \\\\ 1 & 4 \\\\ 2 & 5 \\end{bmatrix}$$"
   ]
  },
  {
   "cell_type": "code",
   "execution_count": null,
   "metadata": {},
   "outputs": [],
   "source": [
    "a = np.arange(6).reshape(2, 3)\n",
    "a"
   ]
  },
  {
   "cell_type": "code",
   "execution_count": null,
   "metadata": {},
   "outputs": [],
   "source": [
    "# Two ways to tranpose a matrix\n",
    "print(np.transpose(a))\n",
    "print()\n",
    "print(a.T)"
   ]
  },
  {
   "cell_type": "markdown",
   "metadata": {},
   "source": [
    "We can also transpose arrays with more than two dimensions. One can specify a re-ordering of the dimensions using the **axes** argument, if left out they will be reversed (the last dimension becomes the first and so on)."
   ]
  },
  {
   "cell_type": "code",
   "execution_count": null,
   "metadata": {},
   "outputs": [],
   "source": [
    "a = np.arange(27).reshape(3, 3, 3)\n",
    "print(a)\n",
    "print()\n",
    "np.transpose(a)"
   ]
  },
  {
   "cell_type": "code",
   "execution_count": null,
   "metadata": {},
   "outputs": [],
   "source": [
    "# Just exchange the second and third dimensions\n",
    "np.transpose(a, axes=[0, 2, 1])"
   ]
  },
  {
   "cell_type": "markdown",
   "metadata": {},
   "source": [
    "### Concatenating and Splitting\n",
    "\n",
    "Multiple arrays can be combined into one using the **np.concatenate()** function"
   ]
  },
  {
   "cell_type": "code",
   "execution_count": null,
   "metadata": {},
   "outputs": [],
   "source": [
    "a = np.arange(6).reshape(2, 3)\n",
    "b = np.arange(6).reshape(2, 3)\n",
    "np.concatenate([a, b], axis=0)"
   ]
  },
  {
   "cell_type": "code",
   "execution_count": null,
   "metadata": {},
   "outputs": [],
   "source": [
    "np.concatenate([a, b], axis=1)"
   ]
  },
  {
   "cell_type": "markdown",
   "metadata": {},
   "source": [
    "For arrays up to three dimensions, **np.vstack()** and **np.hstack()** are equivalent to using concatenate on the 1st (axis=0) and 2nd (axis=1) dimensions, respectively.\n",
    "\n",
    "**np.vstack()** is handy because it can work on 1D arrays without having to reshape them into 2D first."
   ]
  },
  {
   "cell_type": "code",
   "execution_count": null,
   "metadata": {},
   "outputs": [],
   "source": [
    "a = np.arange(6)\n",
    "b = np.arange(6)\n",
    "print(np.vstack([a, b]))\n",
    "print()\n",
    "print(np.hstack([a, b]))"
   ]
  },
  {
   "cell_type": "markdown",
   "metadata": {},
   "source": [
    "**np.split()** is the opposite of concatenate, it takes a single array and breaks it into multiple arrays.\n",
    "\n",
    "If the second argument is an integer, the array will be divided into that many equally sized arrays along axis. If such a split is not possible, an error is raised.\n",
    "\n",
    "If the second argument is a 1D array of sorted integers, the entries indicate where along axis the array is split."
   ]
  },
  {
   "cell_type": "code",
   "execution_count": null,
   "metadata": {},
   "outputs": [],
   "source": [
    "a = np.arange(8).reshape(4, 2)\n",
    "print(a)\n",
    "print()\n",
    "print(np.split(a, 2, axis=0))\n",
    "print()\n",
    "print(np.split(a, 2, axis=1))"
   ]
  },
  {
   "cell_type": "code",
   "execution_count": null,
   "metadata": {},
   "outputs": [],
   "source": [
    "splits = np.split(a, [1, 2], axis=0)\n",
    "for s in splits:\n",
    "    print(s)\n",
    "    print()"
   ]
  },
  {
   "cell_type": "markdown",
   "metadata": {},
   "source": [
    "#### Exercise:\n",
    "\n",
    "Use the manipulation routines above to vertically stack the three arrays below, and then tranpose them, and then ravel them back to 1D."
   ]
  },
  {
   "cell_type": "code",
   "execution_count": null,
   "metadata": {},
   "outputs": [],
   "source": [
    "a = np.random.rand(3)\n",
    "b = np.random.rand(3)\n",
    "c = np.random.rand(3)\n",
    "print(a)\n",
    "print(b)\n",
    "print(c)"
   ]
  },
  {
   "cell_type": "code",
   "execution_count": null,
   "metadata": {
    "jupyter": {
     "source_hidden": true
    }
   },
   "outputs": [],
   "source": [
    "# Sample implementation\n",
    "stacked = np.vstack([a, b, c])\n",
    "print(stacked)\n",
    "print()\n",
    "stacked_t = stacked.T\n",
    "print(stacked_t)\n",
    "print()\n",
    "raveled = stacked_t.ravel()\n",
    "print(raveled)"
   ]
  },
  {
   "cell_type": "code",
   "execution_count": null,
   "metadata": {},
   "outputs": [],
   "source": [
    "# Your code here"
   ]
  },
  {
   "cell_type": "markdown",
   "metadata": {},
   "source": [
    "## B. Mathematical Operations\n",
    "\n",
    "https://docs.scipy.org/doc/numpy/reference/routines.math.html\n",
    "\n",
    "### Aggregation Operations"
   ]
  },
  {
   "cell_type": "code",
   "execution_count": null,
   "metadata": {},
   "outputs": [],
   "source": [
    "a = np.arange(8).reshape(2, 4)\n",
    "\n",
    "print('a:')\n",
    "print(a)\n",
    "print()\n",
    "print('sum(a, axis=0):')\n",
    "print(np.sum(a, axis=0))\n",
    "print()\n",
    "print('sum(a, axis=1):')\n",
    "print(np.sum(a, axis=1))\n",
    "print()\n",
    "print('prod(a, axis=0):')\n",
    "print(np.prod(a, axis=0))\n",
    "print()\n",
    "print('prod(a, axis=1):')\n",
    "print(np.prod(a, axis=1))\n",
    "print()\n",
    "print('cumsum(a, axis=1):')\n",
    "print(np.cumsum(a, axis=1))\n",
    "print()\n",
    "print('diff(a, axis=1):')\n",
    "print(np.diff(a, axis=1))\n",
    "print()"
   ]
  },
  {
   "cell_type": "markdown",
   "metadata": {},
   "source": [
    "### Element-wise Operations\n",
    "\n",
    "A variety of mathematical functions can be applied to each element of an ndarray."
   ]
  },
  {
   "cell_type": "code",
   "execution_count": null,
   "metadata": {},
   "outputs": [],
   "source": [
    "a = np.random.randn(2, 4)\n",
    "\n",
    "print('a:')\n",
    "print(a)\n",
    "print()\n",
    "print('cos(a):')\n",
    "print(np.cos(a))\n",
    "print()\n",
    "print('round(a):')\n",
    "print(np.round(a))\n",
    "print()\n",
    "print('exp(a):')\n",
    "print(np.exp(a))\n",
    "print()\n",
    "print('log(a):')\n",
    "print(np.log(a))\n",
    "print()\n",
    "print('square(a):')\n",
    "print(np.square(a))\n",
    "print()\n",
    "print('sqrt(a):')\n",
    "print(np.sqrt(a))"
   ]
  },
  {
   "cell_type": "markdown",
   "metadata": {},
   "source": [
    "### Element-wise Arithmetic\n",
    "\n",
    "When two ndarrays have the same shape, the elements can be added, multipled, divided, etc."
   ]
  },
  {
   "cell_type": "code",
   "execution_count": null,
   "metadata": {},
   "outputs": [],
   "source": [
    "a = np.arange(8).reshape(2, 4)\n",
    "b = np.random.random_sample(a.shape)\n",
    "\n",
    "print('a:')\n",
    "print(a)\n",
    "print()\n",
    "print('b:')\n",
    "print(b)\n",
    "print()\n",
    "print()\n",
    "print('np.add(a, b):')\n",
    "print(np.add(a, b))\n",
    "print()\n",
    "print('np.multiply(a, b):')\n",
    "print(np.multiply(a, b))\n",
    "print()\n",
    "print('np.divide(a, b):')\n",
    "print(np.divide(a, b))"
   ]
  },
  {
   "cell_type": "markdown",
   "metadata": {},
   "source": [
    "NumPy also overloads mathematical operators which are equivalent to the function calls above. If you are familiar with Matlab, note that in Matlab the element-wise product is .\\* whereas in NumPy it is just *."
   ]
  },
  {
   "cell_type": "code",
   "execution_count": null,
   "metadata": {},
   "outputs": [],
   "source": [
    "print('a:')\n",
    "print(a)\n",
    "print()\n",
    "print('b:')\n",
    "print(b)\n",
    "print()\n",
    "print('a + b:')\n",
    "print(a + b)\n",
    "print()\n",
    "print('a * b:')\n",
    "print(a * b)\n",
    "print()\n",
    "print('a / b:')\n",
    "print(a / b)"
   ]
  },
  {
   "cell_type": "markdown",
   "metadata": {},
   "source": [
    "### Broadcasting\n",
    "\n",
    "https://docs.scipy.org/doc/numpy/reference/ufuncs.html#ufuncs-broadcasting\n",
    "\n",
    "When two arrays **do not** have the same size, or one argument is a scalar, NumPy will attempt a broadcasting operation.\n",
    "\n",
    "Conceptully broadcasting can be thought of as reshaping and repeating data in order to make the array shapes match, but under the covers a more efficient implementation is used which avoids unnecessary copies. This can be tricky in some cases, so be sure to read the docs whenever you aren't sure.\n",
    "\n",
    "Some basic examples are shown below.\n",
    "\n",
    "Scalar broadcast:\n",
    "$$ \\begin{bmatrix} 1 & 1 \\\\ 2 & 2 \\end{bmatrix} + 1 \\quad \\Rightarrow \\quad \\begin{bmatrix} 1 & 1 \\\\ 2 & 2 \\end{bmatrix} + \\begin{bmatrix} 1 & 1 \\\\ 1 & 1 \\end{bmatrix} \\quad = \\quad \\begin{bmatrix} 2 & 2 \\\\ 3 & 3 \\end{bmatrix} $$\n",
    "\n",
    "Row vector broadcast:\n",
    "$$ \\begin{bmatrix} 1 & 1 \\\\ 2 & 2 \\end{bmatrix} + \\begin{bmatrix} 1 & 2 \\end{bmatrix} \\quad \\Rightarrow \\quad \\begin{bmatrix} 1 & 1 \\\\ 2 & 2 \\end{bmatrix} + \\begin{bmatrix} 1 & 2 \\\\ 1 & 2 \\end{bmatrix} \\quad = \\quad \\begin{bmatrix} 2 & 3 \\\\ 3 & 4 \\end{bmatrix} $$\n",
    "\n",
    "Columns vector broadcast:\n",
    "$$ \\begin{bmatrix} 1 & 1 \\\\ 2 & 2 \\end{bmatrix} + \\begin{bmatrix} 1 \\\\ 2 \\end{bmatrix} \\quad \\Rightarrow \\quad \\begin{bmatrix} 1 & 1 \\\\ 2 & 2 \\end{bmatrix} + \\begin{bmatrix} 1 & 1 \\\\ 2 & 2 \\end{bmatrix} \\quad = \\quad \\begin{bmatrix} 2 & 2 \\\\ 4 & 4 \\end{bmatrix} $$"
   ]
  },
  {
   "cell_type": "code",
   "execution_count": null,
   "metadata": {},
   "outputs": [],
   "source": [
    "a = np.arange(8).reshape(2, 4)\n",
    "\n",
    "print('a:')\n",
    "print(a)\n",
    "print()\n",
    "print('a + 1:')\n",
    "print(a + 1) # equivalent to a + np.ones_like(a)\n",
    "print()\n",
    "print('2 * a:')\n",
    "print(2 * a)\n",
    "print()\n",
    "print('a + [1, 2, 3, 4]:')\n",
    "print(a + np.array([1, 2, 3, 4]))\n",
    "print()\n",
    "print('a + [1, 2]^T:')\n",
    "print(a + np.array([[1, 2]]).T)\n",
    "print()"
   ]
  },
  {
   "cell_type": "markdown",
   "metadata": {},
   "source": [
    "We can use broadcasting and operator overloading to perform comparisons, which can then be used for advanced indexing:"
   ]
  },
  {
   "cell_type": "code",
   "execution_count": null,
   "metadata": {},
   "outputs": [],
   "source": [
    "a = np.arange(6)\n",
    "b = np.random.rand(6)\n",
    "\n",
    "print('a:')\n",
    "print(a)\n",
    "print()\n",
    "print('b:')\n",
    "print(b)\n",
    "print()\n",
    "print('a > 3:')\n",
    "print(a > 3)\n",
    "print()\n",
    "print('b[a > 3]:')\n",
    "print(b[a > 3])"
   ]
  },
  {
   "cell_type": "markdown",
   "metadata": {},
   "source": [
    "#### Exercise:\n",
    "\n",
    "Calculate the following expression and plot the results:\n",
    "\n",
    "$$ y = 2cos(x) + 1 $$"
   ]
  },
  {
   "cell_type": "code",
   "execution_count": null,
   "metadata": {
    "jupyter": {
     "source_hidden": true
    }
   },
   "outputs": [],
   "source": [
    "# Sample implementation\n",
    "\n",
    "import matplotlib.pyplot as plt\n",
    "%matplotlib inline\n",
    "\n",
    "x = np.linspace(-np.pi, np.pi)\n",
    "\n",
    "y = 2 * np.cos(x) + 1\n",
    "\n",
    "plt.scatter(x, y)"
   ]
  },
  {
   "cell_type": "code",
   "execution_count": null,
   "metadata": {},
   "outputs": [],
   "source": [
    "import matplotlib.pyplot as plt\n",
    "%matplotlib inline\n",
    "\n",
    "x = np.linspace(-np.pi, np.pi)\n",
    "\n",
    "y = # your code here\n",
    "\n",
    "plt.scatter(x, y)"
   ]
  },
  {
   "cell_type": "markdown",
   "metadata": {},
   "source": [
    "## C. Basic Linear Algebra\n",
    "\n",
    "https://docs.scipy.org/doc/numpy/reference/routines.linalg.html\n",
    "\n",
    "Some of NumPy's most powerful features are found in its **linalg** package. For the sake of time, we won't be able to go over them all today and will instead stick to the basics."
   ]
  },
  {
   "cell_type": "markdown",
   "metadata": {},
   "source": [
    "### The Dot Product\n",
    "\n",
    "We've already seen the dot product in a previous lesson. It is simply the sum of the elemt-wise product between two vectors (1d arrays):\n",
    "\n",
    "$$ dot(a, b) = \\sum_{i} a_{i} b_{i} $$"
   ]
  },
  {
   "cell_type": "code",
   "execution_count": null,
   "metadata": {},
   "outputs": [],
   "source": [
    "a = np.ones(4)\n",
    "b = np.arange(4)\n",
    "print('a:')\n",
    "print(a)\n",
    "print()\n",
    "print('b:')\n",
    "print(b)\n",
    "print()\n",
    "print('dot(a, b):')\n",
    "print(np.dot(a, b))"
   ]
  },
  {
   "cell_type": "markdown",
   "metadata": {},
   "source": [
    "### The Matrix Multiply\n",
    "\n",
    "<img src=\"https://upload.wikimedia.org/wikipedia/commons/e/eb/Matrix_multiplication_diagram_2.svg\">\n",
    "\n",
    "A matrix multiply is essentially a dot product between all row and column combinations in two matrices. The number of rows in the second matrix must therefore match the number of columns in the first matrix.\n",
    "\n",
    "$$ \\begin{bmatrix} 1 & 2 \\\\ 3 & 4 \\\\ 5 & 6 \\end{bmatrix} \\begin{bmatrix} 0 & 1 \\\\ 2 & 1 \\end{bmatrix} \\quad = \\quad \\begin{bmatrix} 4 & 3 \\\\ 8 & 7 \\\\ 12 & 11 \\end{bmatrix} $$ \n",
    "\n",
    "The top left element in the result is 4 because the first row of the left hand matrix is $[1, 2]$ and the first column of the right matrix is $[0, 2]$\n",
    "\n",
    "$$ dot([1, 2], [0, 2]) = (1 * 0) + (2 * 2) = 5 $$\n",
    "\n",
    "For 2D arrays, both the **np.dot()** and **np.matmul()** functions perform a matrix multiply. When one (or both) of the arrays is not 2D, their behavior can differ. Be careful and read the docs!"
   ]
  },
  {
   "cell_type": "code",
   "execution_count": null,
   "metadata": {},
   "outputs": [],
   "source": [
    "a = np.arange(6).reshape(3, 2) + 1\n",
    "b = np.array([[0, 1], [2, 1]])\n",
    "print('a:')\n",
    "print(a)\n",
    "print()\n",
    "print('b:')\n",
    "print(b)\n",
    "print()\n",
    "print('dot(a, b):')\n",
    "print(np.dot(a, b))\n",
    "print()\n",
    "print('matmul(a, b):')\n",
    "print(np.matmul(a, b))"
   ]
  },
  {
   "cell_type": "markdown",
   "metadata": {},
   "source": [
    "### The Matrix Inverse\n",
    "\n",
    "The last linear algebra operation we will examine is the **matrix inverse**, which we will employ in an upcoming project.\n",
    "\n",
    "The inverse of a square matrix $A$, often denoted $A^{-1}$, is a matrix such that when the two are multipled (matrix multiply, not element-wise), the result is the identity matrix:\n",
    "\n",
    "$$ A A^{-1} = I $$\n",
    "\n",
    "For example:\n",
    "\n",
    "$$ \\begin{bmatrix} 0 & 1 \\\\ 2 & 3 \\end{bmatrix}^{-1} = \\begin{bmatrix} -3/2 & 1/2 \\\\ 1 & 0 \\end{bmatrix} $$\n",
    "\n",
    "Because:\n",
    "\n",
    "$$ \\begin{bmatrix} 0 & 1 \\\\ 2 & 3 \\end{bmatrix} \\begin{bmatrix} -3/2 & 1/2 \\\\ 1 & 0 \\end{bmatrix} = \\begin{bmatrix} -1 & 0 \\\\ 0 & 1 \\end{bmatrix} $$\n",
    "\n",
    "Not all square matrices are invertible, and these matrices are called **singular** or **degenerate**. Numpy will raise an Exception if this occurs."
   ]
  },
  {
   "cell_type": "code",
   "execution_count": null,
   "metadata": {},
   "outputs": [],
   "source": [
    "A = np.arange(4).reshape(2, 2)\n",
    "print('A:')\n",
    "print(A)\n",
    "print()\n",
    "print('inv(A):')\n",
    "print(np.linalg.inv(A))\n",
    "print()\n",
    "print('matmul(A, inv(A)):')\n",
    "print(np.matmul(A, np.linalg.inv(A)))"
   ]
  },
  {
   "cell_type": "markdown",
   "metadata": {},
   "source": [
    "#### Exercise\n",
    "\n",
    "Compute the following:\n",
    "\n",
    "$$ \\left( \\begin{bmatrix} 0 & 1 \\\\ 2 & 3 \\end{bmatrix} \\begin{bmatrix} 1 & 1 \\\\ 2 & 4 \\end{bmatrix} \\right)^{-1} $$"
   ]
  },
  {
   "cell_type": "code",
   "execution_count": null,
   "metadata": {
    "jupyter": {
     "source_hidden": true
    }
   },
   "outputs": [],
   "source": [
    "# Sample implementation\n",
    "\n",
    "A = np.array([[0, 1], [2, 3]])\n",
    "B = np.array([[1, 1], [2, 4]])\n",
    "\n",
    "print('A:')\n",
    "print(A)\n",
    "print()\n",
    "print('B:')\n",
    "print(B)\n",
    "print()\n",
    "print('(AB)^-1:')\n",
    "print(np.linalg.inv(np.matmul(A, B)))"
   ]
  },
  {
   "cell_type": "code",
   "execution_count": null,
   "metadata": {},
   "outputs": [],
   "source": [
    "A = np.array([[0, 1], [2, 3]])\n",
    "B = np.array([[1, 1], [2, 4]])\n",
    "\n",
    "print('A:')\n",
    "print(A)\n",
    "print()\n",
    "print('B:')\n",
    "print(B)\n",
    "print()\n",
    "print('(AB)^-1:')\n",
    "\n",
    "# your code here"
   ]
  }
 ],
 "metadata": {
  "kernelspec": {
   "display_name": "Python 3",
   "language": "python",
   "name": "python3"
  },
  "language_info": {
   "codemirror_mode": {
    "name": "ipython",
    "version": 3
   },
   "file_extension": ".py",
   "mimetype": "text/x-python",
   "name": "python",
   "nbconvert_exporter": "python",
   "pygments_lexer": "ipython3",
   "version": "3.6.5"
  }
 },
 "nbformat": 4,
 "nbformat_minor": 2
}
