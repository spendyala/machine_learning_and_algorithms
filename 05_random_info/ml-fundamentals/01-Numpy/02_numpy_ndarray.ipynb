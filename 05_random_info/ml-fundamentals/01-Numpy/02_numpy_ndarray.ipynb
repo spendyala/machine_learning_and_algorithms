{
 "cells": [
  {
   "cell_type": "markdown",
   "metadata": {},
   "source": [
    "# 02. The N-dimensional array, *ndarray*\n",
    "\n",
    "Documentation:  https://docs.scipy.org/doc/numpy/reference/arrays.ndarray.html\n",
    "\n",
    "From the docs:\n",
    "\n",
    ">An **ndarray** is a (usually fixed-size) multidimensional container of items of the same type and size. The number of dimensions and items in an array is defined by its **shape**, which is a **tuple** of N positive integers that specify the sizes of each dimension. The type of items in the array is specified by a separate **data-type object (dtype)**, one of which is associated with each ndarray.\n",
    "\n",
    "<img src=\"https://www.safaribooksonline.com/library/view/elegant-scipy/9781491922927/assets/elsp_0105.png\" alt=\"ndarray image\" width=\"800\"/>"
   ]
  },
  {
   "cell_type": "code",
   "execution_count": null,
   "metadata": {},
   "outputs": [],
   "source": [
    "import numpy as np\n",
    "print(f'numpy version: {np.__version__}')"
   ]
  },
  {
   "cell_type": "markdown",
   "metadata": {},
   "source": [
    "## Creating Arrays\n",
    "\n",
    "The **ndarray** is the primary data structure in numpy, and is used heavily in many statistical and machine learning toolkits. For this reason, it is important to become very familiar with it. Let's start off by learning a few different ways to create them."
   ]
  },
  {
   "cell_type": "markdown",
   "metadata": {},
   "source": [
    "### One Dimensional\n",
    "\n",
    "One dimensional arrays are easy to create and understand - you simply pass in the number of elements you desire and optionally specify a datatype (**dtype**).\n",
    "\n",
    "Let's create the one dimensional array below, the indexes are printing above the array showing the 0-based indexing.\n",
    "\n",
    "$$\\begin{matrix} 0 & 1 & 2 & 3 & 4 & 5 & 6 & 7 & 8 & 9 \\end{matrix} \\\\\n",
    "\\begin{bmatrix} 0 & 0 & 0 & 0 & 0 & 0 & 0 & 0 & 0 & 0 \\end{bmatrix}$$"
   ]
  },
  {
   "cell_type": "code",
   "execution_count": null,
   "metadata": {},
   "outputs": [],
   "source": [
    "one_d_zeros = np.zeros(10)\n",
    "print(one_d_zeros)\n",
    "print(one_d_zeros.dtype)"
   ]
  },
  {
   "cell_type": "markdown",
   "metadata": {},
   "source": [
    "NumPy uses the IEEE 754 format, which in the case of float64 is 1 one sign bit, 11 exponent bits, and 52 bits of significand.<br/>\n",
    "https://en.wikipedia.org/wiki/Double-precision_floating-point_format"
   ]
  },
  {
   "cell_type": "markdown",
   "metadata": {},
   "source": [
    "You can retrieve the **shape** of an array with its property of the same name"
   ]
  },
  {
   "cell_type": "code",
   "execution_count": null,
   "metadata": {},
   "outputs": [],
   "source": [
    "one_d_zeros.shape"
   ]
  },
  {
   "cell_type": "markdown",
   "metadata": {},
   "source": [
    "Here is a Jupyter trick - if the last line in a cell is not assigned to a variable, its `__repr__()` will be called and sent to the output. Doing this shows us the **dtype**, whereas calling print() instead uses the array's `__str__()` method which does not display the dtype."
   ]
  },
  {
   "cell_type": "code",
   "execution_count": null,
   "metadata": {},
   "outputs": [],
   "source": [
    "np.zeros(10, dtype=np.float32)"
   ]
  },
  {
   "cell_type": "markdown",
   "metadata": {},
   "source": [
    "### Multi-Dimensional\n",
    "\n",
    "Multi-dimensional arrays are created by passing a **shape** sequence instead of a single length parameter. The $i^{th}$ entry in the **shape** specifies the length of the $i^{th}$ dimension. When creating a two dimensional array (a matrix), the first dimension is the number of rows, and the second dimension is the number of columns. The dimension is often called the **axis** in many numpy functions. See the picture above for a visual guide to dimensions.\n",
    "\n",
    "Let's create the following 2D array filled with zeros, which has 2 rows (**axis 0**), and 3 columns (**axis 1**):\n",
    "\n",
    "$$\\begin{matrix} & 0 & 1 & 2 \\end{matrix} \\\\\n",
    "\\begin{matrix} 0 \\\\ 1 \\end{matrix} \\begin{bmatrix} 0 & 0 & 0 \\\\ 0 & 0 & 0 \\end{bmatrix}$$"
   ]
  },
  {
   "cell_type": "code",
   "execution_count": null,
   "metadata": {},
   "outputs": [],
   "source": [
    "np.zeros([2, 3])"
   ]
  },
  {
   "cell_type": "code",
   "execution_count": null,
   "metadata": {},
   "outputs": [],
   "source": [
    "np.zeros([2, 3, 4])"
   ]
  },
  {
   "cell_type": "code",
   "execution_count": null,
   "metadata": {},
   "outputs": [],
   "source": [
    "np.zeros([2, 3, 4]).shape"
   ]
  },
  {
   "cell_type": "markdown",
   "metadata": {},
   "source": [
    "#### Exercise:\n",
    "\n",
    "Now write code to create a 4D array with dimensions 1, 2, 2, 2 with dtype **np.bool** that is initialized to all False (0 will be converted to False).\n",
    "\n",
    "How many total elements will it contain? Write code to calculate the total number of elements."
   ]
  },
  {
   "cell_type": "code",
   "execution_count": null,
   "metadata": {
    "jupyter": {
     "source_hidden": true
    }
   },
   "outputs": [],
   "source": [
    "from functools import reduce\n",
    "import operator\n",
    "a = np.zeros([1, 2, 2, 2], dtype=np.bool)\n",
    "element_count = a.shape[0] * a.shape[1] * a.shape[2] * a.shape[3]\n",
    "element_count = reduce(operator.mul, a.shape, 1) # more generic\n",
    "\n",
    "print(a)\n",
    "print()\n",
    "print(f'shape: {a.shape}')\n",
    "print()\n",
    "print(f'element count: {element_count}')"
   ]
  },
  {
   "cell_type": "code",
   "execution_count": null,
   "metadata": {},
   "outputs": [],
   "source": [
    "a = # Create a 4D array of bool here\n",
    "element_count = # Calculate total element count here\n",
    "\n",
    "print(a)\n",
    "print()\n",
    "print(f'shape: {a.shape}')\n",
    "print()\n",
    "print(f'element count: {element_count}')"
   ]
  },
  {
   "cell_type": "markdown",
   "metadata": {},
   "source": [
    "### Other Initialization methods"
   ]
  },
  {
   "cell_type": "markdown",
   "metadata": {},
   "source": [
    "#### Using Python sequences\n",
    "So far we've been using **np.zeros()**, which intializes the array to contain all zero (or False) values. We can also use the **np.array()** method which takes any (nested) Python sequence or another array object.\n",
    "\n",
    "https://docs.scipy.org/doc/numpy/reference/generated/numpy.array.html"
   ]
  },
  {
   "cell_type": "code",
   "execution_count": null,
   "metadata": {},
   "outputs": [],
   "source": [
    "np.array([1,2,3,4,5])"
   ]
  },
  {
   "cell_type": "markdown",
   "metadata": {},
   "source": [
    "We can use lists or tuples, even mix them"
   ]
  },
  {
   "cell_type": "code",
   "execution_count": null,
   "metadata": {},
   "outputs": [],
   "source": [
    "np.array( [(1,2,3), (4,5,6)] )"
   ]
  },
  {
   "cell_type": "markdown",
   "metadata": {},
   "source": [
    "We can also copy of another array"
   ]
  },
  {
   "cell_type": "code",
   "execution_count": null,
   "metadata": {},
   "outputs": [],
   "source": [
    "a = np.zeros(4, dtype=np.int32)\n",
    "b = np.array(a)\n",
    "a[0] = 1                              # modify a to show that b has new data\n",
    "print(f'a: {repr(a)}, b: {repr(b)}')  # call repr to show they both have the same dtype"
   ]
  },
  {
   "cell_type": "markdown",
   "metadata": {},
   "source": [
    "#### Random data\n",
    "\n",
    "https://docs.scipy.org/doc/numpy-1.15.0/reference/routines.random.html\n",
    "    \n",
    "NumPy uses the fast Mersenne Twister algorithm to generate random numbers."
   ]
  },
  {
   "cell_type": "markdown",
   "metadata": {},
   "source": [
    "Unlike the array creation methods, most random generators accept the **shape** as separate arguments instead of as a single sequence object.\n",
    "\n",
    "**np.random.rand()** generates floating point numbers between 0 and 1:"
   ]
  },
  {
   "cell_type": "code",
   "execution_count": null,
   "metadata": {},
   "outputs": [],
   "source": [
    "np.random.rand(2, 3)"
   ]
  },
  {
   "cell_type": "markdown",
   "metadata": {},
   "source": [
    "**np.random.randint()** takes a argument specifying the upper limit of the range, and a size argument for the shape:"
   ]
  },
  {
   "cell_type": "code",
   "execution_count": null,
   "metadata": {},
   "outputs": [],
   "source": [
    "np.random.randint(5, size=(2, 3))"
   ]
  },
  {
   "cell_type": "markdown",
   "metadata": {},
   "source": [
    "The methods we have been using in the **random** module use a global **RandomState** object. Alternaitvely you can construct a **RandomState** object and seed it explicitly."
   ]
  },
  {
   "cell_type": "code",
   "execution_count": null,
   "metadata": {},
   "outputs": [],
   "source": [
    "rng = np.random.RandomState(seed=42)\n",
    "rng.randn(3, 5)  # normally-dsitributed"
   ]
  },
  {
   "cell_type": "markdown",
   "metadata": {},
   "source": [
    "#### Miscellaneous"
   ]
  },
  {
   "cell_type": "code",
   "execution_count": null,
   "metadata": {},
   "outputs": [],
   "source": [
    "# Identity matrix\n",
    "np.eye(4)"
   ]
  },
  {
   "cell_type": "code",
   "execution_count": null,
   "metadata": {},
   "outputs": [],
   "source": [
    "# Create an array but do not initialize it, be careful!\n",
    "np.empty([3,3])"
   ]
  },
  {
   "cell_type": "code",
   "execution_count": null,
   "metadata": {},
   "outputs": [],
   "source": [
    "# Create an array that is the same shape as another array, but filled with zeros or ones\n",
    "a = np.random.randn(2, 2)\n",
    "print(a)\n",
    "print()\n",
    "print(np.zeros_like(a))\n",
    "print()\n",
    "print(np.ones_like(a))"
   ]
  },
  {
   "cell_type": "code",
   "execution_count": null,
   "metadata": {},
   "outputs": [],
   "source": [
    "# Create a range\n",
    "np.arange(10)"
   ]
  },
  {
   "cell_type": "code",
   "execution_count": null,
   "metadata": {},
   "outputs": [],
   "source": [
    "# Evenly-space floats\n",
    "np.linspace(5, 10, num=11)"
   ]
  },
  {
   "cell_type": "code",
   "execution_count": null,
   "metadata": {},
   "outputs": [],
   "source": [
    "# Read from a text file\n",
    "np.loadtxt('data.txt', delimiter=',')"
   ]
  },
  {
   "cell_type": "markdown",
   "metadata": {},
   "source": [
    "## Data Types (dtype)\n",
    "\n",
    "So far we have been using mainly integer and floating-point data, which are the two most common types. NumPy supports a variety of other types, however, including arbitrary objects.\n",
    "\n",
    "https://docs.scipy.org/doc/numpy-1.15.0/reference/arrays.dtypes.html"
   ]
  },
  {
   "cell_type": "code",
   "execution_count": null,
   "metadata": {},
   "outputs": [],
   "source": [
    "np.array(['foo', 'bar'])"
   ]
  },
  {
   "cell_type": "code",
   "execution_count": null,
   "metadata": {},
   "outputs": [],
   "source": [
    "a = np.array([complex(3,2), complex(5,6)])\n",
    "print(a)\n",
    "print(a.dtype)"
   ]
  },
  {
   "cell_type": "code",
   "execution_count": null,
   "metadata": {},
   "outputs": [],
   "source": [
    "class Foo:\n",
    "    def __init__(self, val):\n",
    "        self.val = val\n",
    "    def __repr__(self):\n",
    "        return f'Foo(val={self.val})'\n",
    "\n",
    "np.array([Foo(1), Foo(2)])"
   ]
  },
  {
   "cell_type": "markdown",
   "metadata": {},
   "source": [
    "We can convert the dtype of an array using the astype() method. Be careful when doing this... things like overflow, underflow, and loss of precision can occur."
   ]
  },
  {
   "cell_type": "code",
   "execution_count": null,
   "metadata": {},
   "outputs": [],
   "source": [
    "a = np.array([complex(3,2), complex(5,6)])\n",
    "\n",
    "print('Original:')\n",
    "print(a)\n",
    "\n",
    "print()\n",
    "print('Converted to int32:')\n",
    "int_a = a.astype(np.int32)\n",
    "print(int_a)\n",
    "\n",
    "print()\n",
    "print('Converted to float32:')\n",
    "int_a.astype(np.float32)"
   ]
  },
  {
   "cell_type": "markdown",
   "metadata": {},
   "source": [
    "## Array Access\n",
    "\n",
    "There are three primary ways of accessing data in an array:\n",
    "1. Single element access\n",
    "2. Slicing\n",
    "3. Advanced Indexing"
   ]
  },
  {
   "cell_type": "markdown",
   "metadata": {},
   "source": [
    "### Single element access\n",
    "\n",
    "Numpy array uses square bracket notation ([]) just like normal python, and also uses 0-based indexing.\n",
    "\n",
    "The primary difference between indexing a Python list and an numpy array is that you must be provide an index for each dimension of the array. Remember that for two-dimensional arrays, the first dimension indexes rows and the second dimension indexes columns."
   ]
  },
  {
   "cell_type": "code",
   "execution_count": null,
   "metadata": {},
   "outputs": [],
   "source": [
    "a = np.random.randn(3, 3)\n",
    "print(a)\n",
    "a[0, 1] # first row, second column"
   ]
  },
  {
   "cell_type": "markdown",
   "metadata": {},
   "source": [
    "#### Exercise:\n",
    "\n",
    "Write code in the cell below to access the bottom-right corner of the matrix **a**\n",
    "\n",
    "$$\\begin{bmatrix} a_{0,0} & a_{0,1} & a_{0,2} \\\\ a_{1,0} & a_{1,1} & a_{1,2} \\\\ a_{2,0} & a_{2,1} & \\fbox{ $a_{2,2}$ } \\end{bmatrix}$$"
   ]
  },
  {
   "cell_type": "code",
   "execution_count": null,
   "metadata": {
    "jupyter": {
     "source_hidden": true
    }
   },
   "outputs": [],
   "source": [
    "# Sample implementation\n",
    "a[2, 2]"
   ]
  },
  {
   "cell_type": "code",
   "execution_count": null,
   "metadata": {},
   "outputs": [],
   "source": [
    "# Put your code here"
   ]
  },
  {
   "cell_type": "markdown",
   "metadata": {},
   "source": [
    "Write code in the cell below that creates a 3 x 3 x 3 array filled with random integers and selects the \"middle\" element in this cube."
   ]
  },
  {
   "cell_type": "code",
   "execution_count": null,
   "metadata": {
    "jupyter": {
     "source_hidden": true
    }
   },
   "outputs": [],
   "source": [
    "# Sample implementation\n",
    "a = np.random.randn(3, 3, 3)\n",
    "print(a)\n",
    "a[1, 1, 1]"
   ]
  },
  {
   "cell_type": "code",
   "execution_count": null,
   "metadata": {},
   "outputs": [],
   "source": [
    "# Put your code here"
   ]
  },
  {
   "cell_type": "markdown",
   "metadata": {},
   "source": [
    "### Single element updates\n",
    "\n",
    "We can also change array data using indexing:"
   ]
  },
  {
   "cell_type": "code",
   "execution_count": null,
   "metadata": {},
   "outputs": [],
   "source": [
    "a = np.random.randn(2, 2)\n",
    "\n",
    "print('Original a:')\n",
    "print(a)\n",
    "\n",
    "a[0, 0] = 99999\n",
    "\n",
    "print()\n",
    "print('Modified a:')\n",
    "print(a)"
   ]
  },
  {
   "cell_type": "markdown",
   "metadata": {},
   "source": [
    "### Slicing\n",
    "\n",
    "Sometimes it is convenient to access a contiguous portion of an array, for example the first K elements, the last K, or a run somewhere in the middle. The syntax is the same as slicing lists and tuples in plain Python:\n",
    "\n",
    "array [ start : stop : increment ]\n",
    "\n",
    "First let's create the following array:\n",
    "\n",
    "$$\\begin{bmatrix} 0 & 1 & 2 & 3 & 4 & 5 & 6 & 7 \\end {bmatrix}$$"
   ]
  },
  {
   "cell_type": "code",
   "execution_count": null,
   "metadata": {},
   "outputs": [],
   "source": [
    "a = np.arange(8)\n",
    "a"
   ]
  },
  {
   "cell_type": "markdown",
   "metadata": {},
   "source": [
    "Now let's extract the first 3 elements of the array:"
   ]
  },
  {
   "cell_type": "code",
   "execution_count": null,
   "metadata": {},
   "outputs": [],
   "source": [
    "a[ : 3]"
   ]
  },
  {
   "cell_type": "markdown",
   "metadata": {},
   "source": [
    "Notice how we didn't need to specify the starting index of 0, the stop index is not inclusive, and if we leave out the increment it default to 1.\n",
    "\n",
    "Now let's use the increment specifier to extract only the even numbered elements:"
   ]
  },
  {
   "cell_type": "code",
   "execution_count": null,
   "metadata": {},
   "outputs": [],
   "source": [
    "a[ : : 2 ]"
   ]
  },
  {
   "cell_type": "markdown",
   "metadata": {},
   "source": [
    "We can also specify a negative increment to reverse the array:"
   ]
  },
  {
   "cell_type": "code",
   "execution_count": null,
   "metadata": {},
   "outputs": [],
   "source": [
    "a[ : : -1 ]"
   ]
  },
  {
   "cell_type": "markdown",
   "metadata": {},
   "source": [
    "Finyll, let's take the last three elements of the array, there are two ways to do this:"
   ]
  },
  {
   "cell_type": "code",
   "execution_count": null,
   "metadata": {},
   "outputs": [],
   "source": [
    "# First way\n",
    "a[ len(a)-3 : ]"
   ]
  },
  {
   "cell_type": "code",
   "execution_count": null,
   "metadata": {},
   "outputs": [],
   "source": [
    "# Second way\n",
    "a[ -3 : ]"
   ]
  },
  {
   "cell_type": "markdown",
   "metadata": {},
   "source": [
    "From the docs:\n",
    "\n",
    ">\"Negative indices are interpreted as counting from the end of the array (i.e., if n_i < 0, it means n_i + d_i).\""
   ]
  },
  {
   "cell_type": "markdown",
   "metadata": {},
   "source": [
    "#### Exercise:\n",
    "\n",
    "For multidimensional arrays, you can mix indexing and slicing.\n",
    "\n",
    "First let's create the following matrix:\n",
    "\n",
    "$$\\begin{bmatrix} 0 & 1 & 2 & 3 \\\\ 4 & 5 & 6 & 7 \\\\ 8 & 9 & 10 & 11 \\end {bmatrix}$$"
   ]
  },
  {
   "cell_type": "code",
   "execution_count": null,
   "metadata": {},
   "outputs": [],
   "source": [
    "a = np.arange(12).reshape(3, 4)\n",
    "a"
   ]
  },
  {
   "cell_type": "markdown",
   "metadata": {},
   "source": [
    "Now use what you've learned about indexing and slicing to write code that extracts the first 2 columns of the second row."
   ]
  },
  {
   "cell_type": "code",
   "execution_count": null,
   "metadata": {
    "jupyter": {
     "source_hidden": true
    }
   },
   "outputs": [],
   "source": [
    "# Sample implementation\n",
    "extraction = a[1, :2]\n",
    "print(extraction)\n",
    "np.array_equal(extraction, [4, 5])"
   ]
  },
  {
   "cell_type": "code",
   "execution_count": null,
   "metadata": {},
   "outputs": [],
   "source": [
    "extraction = # your code here\n",
    "print(extraction)\n",
    "np.array_equal(extraction, [4, 5])"
   ]
  },
  {
   "cell_type": "markdown",
   "metadata": {},
   "source": [
    "One important question about our extraction above is whether the extracted array is a copy of the original, or just a view onto it. The code below tests this, which is it?"
   ]
  },
  {
   "cell_type": "code",
   "execution_count": null,
   "metadata": {},
   "outputs": [],
   "source": [
    "my_a = np.arange(12).reshape(3, 4)\n",
    "\n",
    "print('Original my_a:')\n",
    "print(my_a)\n",
    "\n",
    "my_extraction = my_a[1, :2]\n",
    "my_extraction[0] = 999\n",
    "\n",
    "print('Modified extraction:')\n",
    "print(my_extraction)\n",
    "\n",
    "print('my_a is now:')\n",
    "print(my_a)"
   ]
  },
  {
   "cell_type": "markdown",
   "metadata": {},
   "source": [
    "### Advanced Indexing\n",
    "\n",
    "https://docs.scipy.org/doc/numpy/reference/arrays.indexing.html\n",
    "\n",
    "From the docs:\n",
    "\n",
    ">Advanced indexing is triggered when the selection object, obj, is a non-tuple sequence object, an ndarray (of data type integer or bool), or a tuple with at least one sequence object or ndarray (of data type integer or bool). There are two types of advanced indexing: integer and Boolean.\n",
    "\n",
    ">Advanced indexing always returns a copy of the data (contrast with basic slicing that returns a view).\""
   ]
  },
  {
   "cell_type": "markdown",
   "metadata": {},
   "source": [
    "We won't have time today to go over all of the intricacies of advanced indexing, so be sure to carefully read the docs when you need this functionality.\n",
    "\n",
    "We'll try the first kind described above, indexing with a sequence of integers:"
   ]
  },
  {
   "cell_type": "code",
   "execution_count": null,
   "metadata": {},
   "outputs": [],
   "source": [
    "a = np.array([[1, 2], [3, 4], [5, 6]])\n",
    "a"
   ]
  },
  {
   "cell_type": "code",
   "execution_count": null,
   "metadata": {},
   "outputs": [],
   "source": [
    "# Take the first two rows of the second column\n",
    "a[[0, 1], 1]"
   ]
  },
  {
   "cell_type": "code",
   "execution_count": null,
   "metadata": {},
   "outputs": [],
   "source": [
    "# Take the first two rows of all columns\n",
    "a[[0, 1], ]"
   ]
  },
  {
   "cell_type": "markdown",
   "metadata": {},
   "source": [
    "We can also pass an index sequence for each dimension. Before running the cell below, what do you think it will extract?"
   ]
  },
  {
   "cell_type": "code",
   "execution_count": null,
   "metadata": {},
   "outputs": [],
   "source": [
    "# Getting fancy: passing both a row index and a column index\n",
    "a[[0, 1, 2], [0, 1, 0]]"
   ]
  },
  {
   "cell_type": "code",
   "execution_count": null,
   "metadata": {},
   "outputs": [],
   "source": [
    "# This is equivalent to:\n",
    "row_idx = [0, 1, 2]\n",
    "col_idx = [0, 1, 0]\n",
    "print(np.array([a[r, c] for r, c in zip(row_idx, col_idx)]))\n",
    "\n",
    "# Or\n",
    "print(np.array([a[0, 0], a[1, 1], a[2, 0]]))"
   ]
  },
  {
   "cell_type": "markdown",
   "metadata": {},
   "source": [
    "The definition above calls out tuples as being different: \"a non-tuple sequence object... or a tuple with at least one sequence object\".\n",
    "\n",
    "That means that these two cases are different:"
   ]
  },
  {
   "cell_type": "code",
   "execution_count": null,
   "metadata": {},
   "outputs": [],
   "source": [
    "a[(2, 1)] # equivalent to a[2, 1]"
   ]
  },
  {
   "cell_type": "code",
   "execution_count": null,
   "metadata": {},
   "outputs": [],
   "source": [
    "a[(2, 1), ]"
   ]
  },
  {
   "cell_type": "markdown",
   "metadata": {},
   "source": [
    "This may seem confusing, but you just need to remember that tuples can be used to select a single element in a multidimensional array, which can be handy when writing code that computes an index:"
   ]
  },
  {
   "cell_type": "code",
   "execution_count": null,
   "metadata": {},
   "outputs": [],
   "source": [
    "my_tuple_index = (0, 1)\n",
    "a[my_tuple_index]"
   ]
  },
  {
   "cell_type": "markdown",
   "metadata": {},
   "source": [
    "#### Exercise:\n",
    "\n",
    "We can combine slicing and advanced indexing. Write code below that uses an integer index list to select the first two rows, and slicing to extract the last two columns."
   ]
  },
  {
   "cell_type": "code",
   "execution_count": null,
   "metadata": {},
   "outputs": [],
   "source": [
    "a = np.array([[1, 2, 3], [4, 5, 6], [7, 8, 9]])\n",
    "a"
   ]
  },
  {
   "cell_type": "code",
   "execution_count": null,
   "metadata": {
    "jupyter": {
     "source_hidden": true
    }
   },
   "outputs": [],
   "source": [
    "# Sample implementation\n",
    "my_extract = a[[0, 1], -2 : ]\n",
    "print(my_extract)\n",
    "np.array_equal(my_extract, [[2, 3], [5, 6]])"
   ]
  },
  {
   "cell_type": "code",
   "execution_count": null,
   "metadata": {},
   "outputs": [],
   "source": [
    "extract = # put your code here\n",
    "print(extract)\n",
    "np.array_equal(extract, [[2, 3], [5, 6]])"
   ]
  },
  {
   "cell_type": "markdown",
   "metadata": {},
   "source": [
    "Finally, let's explore the second kind of advanced indexing: using boolean sequences.\n",
    "\n",
    "Each True element in the boolean sequence will extract the corresponding element, and each False will be left out. This is very useful for filtering arrays, and in the next section we'll show how this can be combining with overloaded comparison operators like \">\"."
   ]
  },
  {
   "cell_type": "code",
   "execution_count": null,
   "metadata": {},
   "outputs": [],
   "source": [
    "a = np.arange(4)\n",
    "a"
   ]
  },
  {
   "cell_type": "code",
   "execution_count": null,
   "metadata": {},
   "outputs": [],
   "source": [
    "a[[True, False, True, True]]"
   ]
  },
  {
   "cell_type": "code",
   "execution_count": null,
   "metadata": {},
   "outputs": [],
   "source": [
    "a = np.array([[1, 2, 3], [4, 5, 6], [7, 8, 9]])\n",
    "a"
   ]
  },
  {
   "cell_type": "markdown",
   "metadata": {},
   "source": [
    "#### Exercise:\n",
    "\n",
    "Combine slicing and boolean indexing to extract the first and third column of all rows"
   ]
  },
  {
   "cell_type": "code",
   "execution_count": null,
   "metadata": {
    "jupyter": {
     "source_hidden": true
    }
   },
   "outputs": [],
   "source": [
    "# Sample implementation\n",
    "my_extract = a[:, [True, False, True]]\n",
    "print(my_extract)\n",
    "np.array_equal(my_extract, [[1, 3], [4, 6], [7, 9]])"
   ]
  },
  {
   "cell_type": "code",
   "execution_count": null,
   "metadata": {},
   "outputs": [],
   "source": [
    "extract = # your code here\n",
    "print(extract)\n",
    "np.array_equal(extract, [[1, 3], [4, 6], [7, 9]])"
   ]
  },
  {
   "cell_type": "markdown",
   "metadata": {},
   "source": [
    "### Setting elements with indexing\n",
    "\n",
    "So far we have shown how one can use slicing and indexing to extract data from an array, but they can also be used to set values."
   ]
  },
  {
   "cell_type": "code",
   "execution_count": null,
   "metadata": {},
   "outputs": [],
   "source": [
    "a = np.array([[1, 2, 3], [4, 5, 6], [7, 8, 9]])\n",
    "a"
   ]
  },
  {
   "cell_type": "code",
   "execution_count": null,
   "metadata": {},
   "outputs": [],
   "source": [
    "a[:, 1] = 0\n",
    "a"
   ]
  },
  {
   "cell_type": "code",
   "execution_count": null,
   "metadata": {},
   "outputs": [],
   "source": [
    "a[2, [1, 2]] = 99\n",
    "a"
   ]
  },
  {
   "cell_type": "markdown",
   "metadata": {},
   "source": [
    "#### Exercise:\n",
    "\n",
    "Use any combination of the indexing methods to set the diagonal of the matrix to 1, 2, and 3. In other words, it should look like this:\n",
    "\n",
    "$$\\begin{bmatrix} 1 & 0 & 0 \\\\ 0 & 2 & 0 \\\\ 0 & 0 & 3 \\end {bmatrix}$$"
   ]
  },
  {
   "cell_type": "code",
   "execution_count": null,
   "metadata": {},
   "outputs": [],
   "source": [
    "a = np.zeros([3, 3])\n",
    "a"
   ]
  },
  {
   "cell_type": "code",
   "execution_count": null,
   "metadata": {
    "jupyter": {
     "source_hidden": true
    }
   },
   "outputs": [],
   "source": [
    "# Sample implementation\n",
    "my_a = np.zeros([3, 3])\n",
    "my_a[[0, 1, 2], [0, 1, 2]] = [1, 2, 3]\n",
    "print(my_a)\n",
    "np.array_equal(my_a, [[1,0,0],[0,2,0],[0,0,3]])"
   ]
  },
  {
   "cell_type": "code",
   "execution_count": null,
   "metadata": {},
   "outputs": [],
   "source": [
    "# your code here\n",
    "print(a)\n",
    "np.array_equal(a, [[1,0,0],[0,2,0],[0,0,3]])"
   ]
  }
 ],
 "metadata": {
  "kernelspec": {
   "display_name": "Python 3",
   "language": "python",
   "name": "python3"
  },
  "language_info": {
   "codemirror_mode": {
    "name": "ipython",
    "version": 3
   },
   "file_extension": ".py",
   "mimetype": "text/x-python",
   "name": "python",
   "nbconvert_exporter": "python",
   "pygments_lexer": "ipython3",
   "version": "3.6.5"
  }
 },
 "nbformat": 4,
 "nbformat_minor": 2
}
