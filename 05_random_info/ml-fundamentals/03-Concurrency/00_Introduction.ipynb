{
 "cells": [
  {
   "cell_type": "markdown",
   "metadata": {
    "slideshow": {
     "slide_type": "slide"
    }
   },
   "source": [
    "# Our Goal\n",
    "\n",
    "1. Learn the three ways of achieving \"concurrency\" in Python\n",
    "2. Give you some insight rather than memorize every API\n",
    "3. Meet our friend Gil\n",
    "4. Give you a chance to practice the basics\n",
    "\n",
    "![goals](images/goals.jpg)\n"
   ]
  },
  {
   "cell_type": "markdown",
   "metadata": {
    "slideshow": {
     "slide_type": "slide"
    }
   },
   "source": [
    "# Core currency\n",
    "![coins](images/coins.jpg)"
   ]
  },
  {
   "cell_type": "markdown",
   "metadata": {},
   "source": [
    "# Two technical definitions of how to spend your cycles\n",
    "\n",
    "## Concurrency vs. parallelism\n",
    "(Rob Pike)\n",
    "\n",
    "**Concurrency** is about dealing with lots of things at once.\n",
    "\n",
    "**Parallelism** is about doing lots of things at once.\n",
    "\n",
    "Not the same, but related.\n",
    "\n",
    "**Concurrency** is about structure, **parallelism** is about execution.\n",
    "\n",
    "**Concurrency** provides a way to structure a solution to solve a problem that may (but not necessarily) be **parallelizable**.\n",
    "\n",
    "## Some metaphors\n",
    "\n",
    "### Concurrency\n",
    "\n",
    "![chess](images/concurrency.jpg)\n",
    "\n",
    "### Parallel\n",
    "\n",
    "![chess](images/parallel_chess.jpg)"
   ]
  }
 ],
 "metadata": {
  "kernelspec": {
   "display_name": "Python 3",
   "language": "python",
   "name": "python3"
  },
  "language_info": {
   "codemirror_mode": {
    "name": "ipython",
    "version": 3
   },
   "file_extension": ".py",
   "mimetype": "text/x-python",
   "name": "python",
   "nbconvert_exporter": "python",
   "pygments_lexer": "ipython3",
   "version": "3.6.5"
  }
 },
 "nbformat": 4,
 "nbformat_minor": 2
}
