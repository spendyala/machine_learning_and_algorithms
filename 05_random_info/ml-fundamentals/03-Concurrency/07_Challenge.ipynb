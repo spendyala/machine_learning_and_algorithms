{
 "cells": [
  {
   "cell_type": "markdown",
   "metadata": {},
   "source": [
    "# You have a programming challenge\n",
    "\n",
    "We are going to process 5,000 tweets.  For each tweet we will:\n",
    "\n",
    "1. Tokenize it using a natural language processing toolkit\n",
    "2. Try to detect the (human) language used in the tweet using another toolkit\n",
    "\n",
    "\n",
    "## The sumary of tradeoffs might be useful\n",
    "\n",
    "| metric |**Processes**|**Threads**|**Async**|\n",
    "|------|------|------|------|\n",
    "|Use all cores|Yes|No|No\n",
    "GIL interference|No|Yes|No\n",
    "Memory model|Copy on write|Shared|Shared\n",
    "Locking required|No|Frequent|Less\n",
    "Switching|OS, Preemptive|OS, Preemptive|Cooperative\n",
    "Switching cost|High|High|Low\n",
    "Size|10s|100s|1000s\n",
    "\n"
   ]
  },
  {
   "cell_type": "markdown",
   "metadata": {},
   "source": [
    "# Download the tweets from S3"
   ]
  },
  {
   "cell_type": "code",
   "execution_count": null,
   "metadata": {},
   "outputs": [],
   "source": [
    "import requests\n",
    "import shutil\n",
    "\n",
    "url = \"https://s3-us-west-2.amazonaws.com/resero2/datasets/ml-foundations/emoji_tweets_5k.csv\"\n",
    "\n",
    "print('Downloading data...')\n",
    "\n",
    "response = requests.get(url, stream=True)\n",
    "with open(\"emoji_tweets_5k.csv\", 'wb') as outfile:\n",
    "    shutil.copyfileobj(response.raw, outfile)\n",
    "\n",
    "print('Done.')"
   ]
  },
  {
   "cell_type": "code",
   "execution_count": null,
   "metadata": {},
   "outputs": [],
   "source": [
    "import csv\n",
    "import json\n",
    "\n",
    "texts = []\n",
    "emojis = []\n",
    "\n",
    "with open(\"emoji_tweets_5k.csv\") as infile:\n",
    "    for row in csv.reader(infile):\n",
    "        text = json.loads(row[1]).strip()\n",
    "        texts.append(text)\n",
    "        emojis.append(json.loads(row[2]))\n",
    "\n",
    "print(f'Text count: {len(texts)}')\n",
    "print(f'Emojis count: {len(emojis)}')"
   ]
  },
  {
   "cell_type": "markdown",
   "metadata": {},
   "source": [
    "# Download the NLTK toolkit suporting files"
   ]
  },
  {
   "cell_type": "code",
   "execution_count": null,
   "metadata": {},
   "outputs": [],
   "source": [
    "import nltk\n",
    "\n",
    "nltk.download('punkt')\n",
    "result = nltk.word_tokenize(\"The cat jumped over the frog.\")\n",
    "print(result)\n",
    "    "
   ]
  },
  {
   "cell_type": "markdown",
   "metadata": {},
   "source": [
    "# Demonstrate the langdetect package"
   ]
  },
  {
   "cell_type": "code",
   "execution_count": null,
   "metadata": {},
   "outputs": [],
   "source": [
    "from langdetect import detect\n",
    "print(detect(\"The cat jumped over the frog.\"))"
   ]
  },
  {
   "cell_type": "markdown",
   "metadata": {},
   "source": [
    "# You are given the function \"analyze_tweet\" which will process a single tweet"
   ]
  },
  {
   "cell_type": "code",
   "execution_count": null,
   "metadata": {},
   "outputs": [],
   "source": [
    "def analyze_tweet(tweet):\n",
    "    tokens = nltk.word_tokenize(tweet)\n",
    "    lang = 'en'\n",
    "    try:\n",
    "        lang=detect(tweet)\n",
    "    except:\n",
    "        pass\n",
    "    return {\n",
    "        'tokens': tokens,\n",
    "        'lang': lang\n",
    "    }"
   ]
  },
  {
   "cell_type": "markdown",
   "metadata": {},
   "source": [
    "# Implement each of the following four functions in the way suggested by the function's name"
   ]
  },
  {
   "cell_type": "code",
   "execution_count": null,
   "metadata": {},
   "outputs": [],
   "source": [
    "# implement these using map() operations\n",
    "# Return a map\n",
    "# {\n",
    "#      'tweet text': { 'tokens': [...], 'lang': 'en'},\n",
    "#        ...\n",
    "# }\n",
    "\n",
    "def analyze_tweets_no_concurrency():\n",
    "    return None\n",
    "\n",
    "def analyze_tweets_thread_executor(worker_count):\n",
    "    return None\n",
    "\n",
    "def analyze_tweets_process_executor(worker_count):\n",
    "    return None\n",
    "\n",
    "def analyze_tweets_anything_goes():\n",
    "    return None\n"
   ]
  },
  {
   "cell_type": "markdown",
   "metadata": {},
   "source": [
    "# Use the following cell to evaluate the runtime of your functions"
   ]
  },
  {
   "cell_type": "code",
   "execution_count": null,
   "metadata": {},
   "outputs": [],
   "source": [
    "import random\n",
    "\n",
    "#---------------------------------------------\n",
    "# contest time.  Who can do it the fastest?\n",
    "#---------------------------------------------\n",
    "\n",
    "#%time results = analyze_tweets_no_concurrency()\n",
    "#%time results = analyze_tweets_thread_executor(10)\n",
    "%time results = analyze_tweets_process_executor(10)\n",
    "#%time results = analyze_tweets_anything_goes()\n",
    "\n",
    "#---------------------------------------------\n",
    "# Display a random result\n",
    "#---------------------------------------------\n",
    "a_tweet = random.choice(list(results.keys()))\n",
    "a_result = results[a_tweet]\n",
    "print(a_tweet)\n",
    "print(a_result)\n"
   ]
  },
  {
   "cell_type": "markdown",
   "metadata": {},
   "source": [
    "## If you need some help, some worked examples are below"
   ]
  },
  {
   "cell_type": "code",
   "execution_count": null,
   "metadata": {
    "jupyter": {
     "source_hidden": true
    }
   },
   "outputs": [],
   "source": [
    "import concurrent.futures\n",
    "\n",
    "def analyze_tweets_no_concurrency():\n",
    "    results = {}\n",
    "    for tweet in texts:\n",
    "        results[tweet] = analyze_tweet(tweet)\n",
    "    return results\n",
    "\n",
    "def analyze_tweets_executor(executor):\n",
    "    with executor:        \n",
    "        results = {}\n",
    "        for tweet in texts:\n",
    "            a_future = executor.submit(analyze_tweet, tweet)\n",
    "            results[tweet] = a_future\n",
    "        for tweet in results:\n",
    "            results[tweet] = results[tweet].result()\n",
    "        return results\n",
    "\n",
    "def analyze_tweets_thread_executor(worker_count):\n",
    "    return analyze_tweets_executor( concurrent.futures.ThreadPoolExecutor(max_workers=worker_count))\n",
    "\n",
    "def analyze_tweets_process_executor(worker_count):\n",
    "    return analyze_tweets_executor( concurrent.futures.ProcessPoolExecutor(max_workers=worker_count))\n",
    "\n",
    "def analyze_tweets_anything_goes():\n",
    "    return None"
   ]
  }
 ],
 "metadata": {
  "kernelspec": {
   "display_name": "Python 3",
   "language": "python",
   "name": "python3"
  },
  "language_info": {
   "codemirror_mode": {
    "name": "ipython",
    "version": 3
   },
   "file_extension": ".py",
   "mimetype": "text/x-python",
   "name": "python",
   "nbconvert_exporter": "python",
   "pygments_lexer": "ipython3",
   "version": "3.6.5"
  }
 },
 "nbformat": 4,
 "nbformat_minor": 2
}
