{
 "cells": [
  {
   "cell_type": "markdown",
   "metadata": {},
   "source": [
    "# Threads and Processes (Reprise)\n",
    "\n",
    "\n",
    "| metric |**Processes**|**Threads**|\n",
    "|------|------|------|\n",
    "|Use all cores|Yes|No\n",
    "GIL interference|No|Yes\n",
    "Memory model|Copy on write|Shared\n",
    "Locking required|Rare|Frequent\n",
    "Switching|OS, Preemptive|OS, Preemptive\n",
    "Switching cost|High|High\n",
    "Size|10s|100s"
   ]
  },
  {
   "cell_type": "markdown",
   "metadata": {},
   "source": [
    "# So why not use processes all the time?"
   ]
  },
  {
   "cell_type": "markdown",
   "metadata": {},
   "source": [
    "## Some Answers\n",
    "1. To ease the difficulty with concurrency \n",
    "2. When blocking is involved\n",
    "3. When you need lots of concurrency"
   ]
  },
  {
   "cell_type": "markdown",
   "metadata": {},
   "source": [
    "## Let's work an example when blocking is involved"
   ]
  },
  {
   "cell_type": "code",
   "execution_count": null,
   "metadata": {},
   "outputs": [],
   "source": [
    "%%script bash --bg\n",
    "\n",
    "# This script runs an external process that computes fibonaaci results as a REST resource\n",
    "python fib.py"
   ]
  },
  {
   "cell_type": "code",
   "execution_count": null,
   "metadata": {},
   "outputs": [],
   "source": [
    "# New and improved fibonacci\n",
    "import urllib.request\n",
    "\n",
    "def fibonacci(n):    \n",
    "    with urllib.request.urlopen(f'http://localhost:5000/fib/{n}') as response:\n",
    "        html = response.read()\n",
    "        return int(html)\n",
    "    \n",
    "def kill_server():\n",
    "    with urllib.request.urlopen(f'http://localhost:5000/ex') as response:\n",
    "        html = response.read()\n",
    "        return html\n",
    "    \n"
   ]
  },
  {
   "cell_type": "code",
   "execution_count": null,
   "metadata": {},
   "outputs": [],
   "source": [
    "%%time\n",
    "fibonacci(500)"
   ]
  },
  {
   "cell_type": "code",
   "execution_count": null,
   "metadata": {},
   "outputs": [],
   "source": [
    "%%time\n",
    "import threading\n",
    "\n",
    "thread1 = threading.Thread(target=fibonacci,args=(36,))\n",
    "thread1.start()\n",
    "\n",
    "thread2 = threading.Thread(target=fibonacci,args=(36,))\n",
    "thread2.start()\n",
    "\n",
    "thread3 = threading.Thread(target=fibonacci,args=(36,))\n",
    "thread3.start()\n",
    "\n",
    "thread4 = threading.Thread(target=fibonacci,args=(36,))\n",
    "thread4.start()\n",
    "\n",
    "thread1.join()\n",
    "thread2.join()\n",
    "thread3.join()\n",
    "thread4.join()"
   ]
  },
  {
   "cell_type": "code",
   "execution_count": null,
   "metadata": {},
   "outputs": [],
   "source": [
    "kill_server()"
   ]
  },
  {
   "cell_type": "markdown",
   "metadata": {},
   "source": [
    "## Cool!  Did we just recover parallelism using Threads?\n",
    "\n",
    "No, not really.  What we did is made our single thread more efficient.\n",
    "When each thread invokes a blocking call, the OS will switch to another thread\n",
    "\n",
    "In our example, each of these two lines has Blocking calls:\n",
    "\n",
    "```python\n",
    "with urllib.request.urlopen(f'http://localhost:5000/fib/{n}') as response:\n",
    "    html = response.read()\n",
    "                   \n",
    "```\n"
   ]
  },
  {
   "cell_type": "markdown",
   "metadata": {},
   "source": [
    "# One common case where threads are useful if their work involves blocking functions\n",
    "1. File IO\n",
    "2. Network IO\n",
    "3. Sleeping\n",
    "4. ...\n"
   ]
  },
  {
   "cell_type": "markdown",
   "metadata": {},
   "source": [
    "## Footnote: Algorithms and SIMD and GPU really matter.\n",
    "\n",
    "**Let's take a peak inside that fib.py file**\n",
    "\n",
    "```python\n",
    "\n",
    "import numpy\n",
    "...\n",
    "def mm_fib(n):\n",
    "    return (numpy.matrix([[2,1],[1,1]])**(n//2))[0,(n+1)%2]\n",
    "...\n",
    "@app.route('/fib/<int:fib_number>')\n",
    "def do_fib(fib_number):\n",
    "    time.sleep(1)\n",
    "    return f\"{mm_fib(fib_number)}\"\n",
    "```\n"
   ]
  },
  {
   "cell_type": "code",
   "execution_count": null,
   "metadata": {},
   "outputs": [],
   "source": [
    "%%script bash --bg\n",
    "\n",
    "# This script runs an external process that computes fibonaaci results as a REST resource\n",
    "python fib.py"
   ]
  },
  {
   "cell_type": "code",
   "execution_count": null,
   "metadata": {},
   "outputs": [],
   "source": [
    "%%time\n",
    "fibonacci(100)"
   ]
  }
 ],
 "metadata": {
  "kernelspec": {
   "display_name": "Python 3",
   "language": "python",
   "name": "python3"
  },
  "language_info": {
   "codemirror_mode": {
    "name": "ipython",
    "version": 3
   },
   "file_extension": ".py",
   "mimetype": "text/x-python",
   "name": "python",
   "nbconvert_exporter": "python",
   "pygments_lexer": "ipython3",
   "version": "3.6.5"
  }
 },
 "nbformat": 4,
 "nbformat_minor": 2
}
