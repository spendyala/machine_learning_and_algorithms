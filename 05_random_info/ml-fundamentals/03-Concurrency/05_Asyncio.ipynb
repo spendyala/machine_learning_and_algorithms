{
 "cells": [
  {
   "cell_type": "markdown",
   "metadata": {},
   "source": [
    "# Way Three: Asyncio"
   ]
  },
  {
   "cell_type": "markdown",
   "metadata": {},
   "source": [
    "## A way to think of concurrent/parallel problems\n",
    "\n",
    "* One core   \n",
    "* 2-10 core    \n",
    "* Distributed computing\n",
    "\n",
    "### One core\n",
    "* Sequential programming\n",
    "* Threads\n",
    "* Asynchronous programming\n",
    "\n",
    "### 2-N core\n",
    "* Everything in one core model\n",
    "* plus: processes\n",
    "\n",
    "### Distrubuted computing\n",
    "* Everything in 2-N core model (at each node)\n",
    "* plus: services, communication channels, CAP theorem, ....\n"
   ]
  },
  {
   "cell_type": "markdown",
   "metadata": {},
   "source": [
    "## The async question: How can we best utilize a single core?\n",
    "\n",
    "They are MUCH faster than many people realize:\n",
    "\n",
    "  * SIMD\n",
    "  * GPU\n"
   ]
  },
  {
   "cell_type": "markdown",
   "metadata": {},
   "source": [
    "# Motivating example: Download thousands of websites, concurrently, using a single core and asyncio"
   ]
  },
  {
   "cell_type": "code",
   "execution_count": null,
   "metadata": {},
   "outputs": [],
   "source": [
    "import asyncio\n",
    "import random\n",
    "import asyncio\n",
    "import time\n",
    "from aiohttp import ClientSession\n",
    "\n",
    "loop = asyncio.get_event_loop()\n",
    "\n",
    "async def fetch(url, session):\n",
    "    async with session.get(url) as response:\n",
    "        delay = response.headers.get(\"DELAY\")\n",
    "        date = response.headers.get(\"DATE\")\n",
    "        print(\"{}:{} with delay {}\".format(date, response.url, delay))\n",
    "        return await response.read()\n",
    "\n",
    "\n",
    "async def bound_fetch(sem, url, session):\n",
    "    # Getter function with semaphore.\n",
    "    async with sem:\n",
    "        await fetch(url, session)\n",
    "\n",
    "\n",
    "async def run(r):\n",
    "    start_time = time.time()\n",
    "    url = \"https://github.com\"\n",
    "    tasks = []\n",
    "    # create instance of Semaphore\n",
    "    sem = asyncio.Semaphore(1000)\n",
    "\n",
    "    # Create client session that will ensure we dont open new connection\n",
    "    # per each request.\n",
    "    async with ClientSession() as session:\n",
    "        for i in range(r):\n",
    "            # pass Semaphore and session to every GET request\n",
    "            task = loop.create_task(bound_fetch(sem, url, session))\n",
    "            tasks.append(task)\n",
    "\n",
    "        responses = asyncio.gather(*tasks)\n",
    "        await responses\n",
    "        end_time = time.time()\n",
    "        print( (end_time - start_time))\n",
    "\n",
    "number = 500\n",
    "future = loop.create_task(run(number))\n",
    "\n"
   ]
  },
  {
   "cell_type": "markdown",
   "metadata": {},
   "source": [
    "# Invent asyncio from scratch in 10 minutes or less"
   ]
  },
  {
   "cell_type": "code",
   "execution_count": null,
   "metadata": {},
   "outputs": [],
   "source": [
    "def func1( start, end, step_size):\n",
    "    for x in range(start,end,step_size):\n",
    "        yield x"
   ]
  },
  {
   "cell_type": "code",
   "execution_count": null,
   "metadata": {},
   "outputs": [],
   "source": [
    "generator = func1(0,100,2)\n",
    "print(generator)"
   ]
  },
  {
   "cell_type": "code",
   "execution_count": null,
   "metadata": {},
   "outputs": [],
   "source": [
    "next(generator)"
   ]
  },
  {
   "cell_type": "code",
   "execution_count": null,
   "metadata": {},
   "outputs": [],
   "source": [
    "import random\n",
    "\n",
    "func_to_run = [func1(0,100,2), func1(1,101,2)]\n",
    "\n",
    "def my_event_loop():\n",
    "    for step_count in range(0,10):\n",
    "        f = random.choice(func_to_run)\n",
    "        print(next(f))"
   ]
  },
  {
   "cell_type": "code",
   "execution_count": null,
   "metadata": {},
   "outputs": [],
   "source": [
    "my_event_loop()"
   ]
  },
  {
   "cell_type": "markdown",
   "metadata": {},
   "source": [
    "## what would mess it up?\n",
    "\n",
    "Maybe if one of the functions took a long time every once in a while"
   ]
  },
  {
   "cell_type": "code",
   "execution_count": null,
   "metadata": {},
   "outputs": [],
   "source": [
    "import time\n",
    "import random\n",
    "\n",
    "def func1( start, end, step_size):\n",
    "    for x in range(start,end,step_size):\n",
    "        yield x\n",
    "        time.sleep(random.random())\n"
   ]
  },
  {
   "cell_type": "code",
   "execution_count": null,
   "metadata": {},
   "outputs": [],
   "source": [
    "func_to_run = [func1(0,100,2), func1(1,101,2)]\n",
    "\n",
    "def my_event_loop():\n",
    "    for step_count in range(0,10):\n",
    "        f = random.choice(func_to_run)\n",
    "        print(next(f))"
   ]
  },
  {
   "cell_type": "code",
   "execution_count": null,
   "metadata": {},
   "outputs": [],
   "source": [
    "my_event_loop()"
   ]
  },
  {
   "cell_type": "markdown",
   "metadata": {},
   "source": [
    "## How could we fix it?"
   ]
  },
  {
   "cell_type": "code",
   "execution_count": null,
   "metadata": {},
   "outputs": [],
   "source": [
    "# Replace the blocking sleep with a non-blocking version\n",
    "\n",
    "def async_sleep(delay):\n",
    "    start_time = time.time()\n",
    "    yield\n",
    "    while time.time() - start_time < delay:\n",
    "        yield\n",
    "        "
   ]
  },
  {
   "cell_type": "code",
   "execution_count": null,
   "metadata": {},
   "outputs": [],
   "source": [
    "# async_sleep(some_number) ==> generator\n",
    "generator = async_sleep(1000)\n",
    "print(generator)"
   ]
  },
  {
   "cell_type": "code",
   "execution_count": null,
   "metadata": {},
   "outputs": [],
   "source": [
    "# We can invoke the generator by hand\n",
    "result = next(generator)\n",
    "print(result)"
   ]
  },
  {
   "cell_type": "code",
   "execution_count": null,
   "metadata": {},
   "outputs": [],
   "source": [
    "# Change our function to use the async generator\n",
    "def func1( start, end, step_size):\n",
    "    for x in range(start,end,step_size):\n",
    "        yield x\n",
    "        yield from async_sleep(random.random())\n",
    "\n",
    "func_to_run = [func1(0,100,2), func1(1,101,2)]\n",
    "\n",
    "def my_event_loop():\n",
    "    for step_count in range(0,10):\n",
    "        f = random.choice(func_to_run)\n",
    "        print(next(f))"
   ]
  },
  {
   "cell_type": "code",
   "execution_count": null,
   "metadata": {},
   "outputs": [],
   "source": [
    "# Did we get it?  Does it work?\n",
    "my_event_loop()"
   ]
  },
  {
   "cell_type": "markdown",
   "metadata": {},
   "source": [
    "## Our async sleep returns None quite a bit.\n",
    "We can imagine several ways to fix this in the code, let's just do something simple for now"
   ]
  },
  {
   "cell_type": "code",
   "execution_count": null,
   "metadata": {},
   "outputs": [],
   "source": [
    "def my_event_loop():\n",
    "    step_count = 0\n",
    "    while step_count < 50:\n",
    "        f = random.choice(func_to_run)\n",
    "        result = next(f)\n",
    "        if result is not None:\n",
    "            step_count += 1\n",
    "            print(result)"
   ]
  },
  {
   "cell_type": "code",
   "execution_count": null,
   "metadata": {},
   "outputs": [],
   "source": [
    "# Did we get it?  Does it work?\n",
    "my_event_loop()"
   ]
  },
  {
   "cell_type": "code",
   "execution_count": null,
   "metadata": {},
   "outputs": [],
   "source": [
    "# Did we get it?  Does it work?  Let's try lots of \"co-routines\"\n",
    "func_to_run = [\n",
    "    func1(0,100,2), \n",
    "    func1(0,100,2), \n",
    "    func1(0,100,2), \n",
    "    func1(0,100,2), \n",
    "    func1(0,100,2), \n",
    "    func1(0,100,2), \n",
    "    func1(0,100,2), \n",
    "    func1(1,100,2),\n",
    "    func1(1,100,2),\n",
    "    func1(1,100,2),\n",
    "    func1(1,100,2),\n",
    "    func1(1,100,2),\n",
    "    func1(1,100,2),\n",
    "    func1(1,100,2),\n",
    "    func1(1,100,2),\n",
    "    func1(1,100,2),\n",
    "]\n",
    "my_event_loop()\n"
   ]
  },
  {
   "cell_type": "markdown",
   "metadata": {},
   "source": [
    "# You have now written the heart of asyncio\n",
    "\n",
    "Okay, not totally true, but true enough to get the central concept.\n",
    "Let's refactor the code into \"real\" asyncio code\n"
   ]
  },
  {
   "cell_type": "code",
   "execution_count": null,
   "metadata": {},
   "outputs": [],
   "source": [
    "import asyncio\n",
    "\n",
    "# Change the function slightly\n",
    "async def func1( start, end, step_size):\n",
    "    for x in range(start,end,step_size):\n",
    "        print(x)\n",
    "        await asyncio.sleep(random.random())"
   ]
  },
  {
   "cell_type": "code",
   "execution_count": null,
   "metadata": {},
   "outputs": [],
   "source": [
    "# async def returns a \"coroutine\" instead of a \"generator\".  Don't let that throw you.\n",
    "coroutine = func1(0,50,2)\n",
    "print(coroutine)"
   ]
  },
  {
   "cell_type": "code",
   "execution_count": null,
   "metadata": {},
   "outputs": [],
   "source": [
    "# The event loop is provided for you\n",
    "my_event_loop = asyncio.get_event_loop()\n",
    "\n",
    "# We create a \"Task\" -- represents a scheduled co-routine\n",
    "future_result = my_event_loop.create_task(func1(0,50,2))\n",
    "\n",
    "print(future_result)"
   ]
  },
  {
   "cell_type": "code",
   "execution_count": null,
   "metadata": {},
   "outputs": [],
   "source": [
    "# Tasks are a type of Future.  You can ask about their state\n",
    "future_result.done()"
   ]
  },
  {
   "cell_type": "code",
   "execution_count": null,
   "metadata": {},
   "outputs": [],
   "source": [
    "# And you can ask about their result\n",
    "print(future_result.result())"
   ]
  },
  {
   "cell_type": "markdown",
   "metadata": {},
   "source": [
    "## Let's rewrite fibonacci as an asyncio function"
   ]
  },
  {
   "cell_type": "code",
   "execution_count": null,
   "metadata": {},
   "outputs": [],
   "source": [
    "import asyncio\n",
    "\n",
    "loop = asyncio.get_event_loop()  \n",
    "\n",
    "async def fibonacci(n):\n",
    "    await asyncio.sleep(0)\n",
    "    if n == 0:\n",
    "        return 0\n",
    "    elif n == 1:\n",
    "        return 1\n",
    "    else:\n",
    "        val1 = await fibonacci(n - 1)\n",
    "        val2 = await fibonacci(n-2)\n",
    "        return val1 + val2\n",
    "\n"
   ]
  },
  {
   "cell_type": "code",
   "execution_count": null,
   "metadata": {},
   "outputs": [],
   "source": [
    "# Schedule the task\n",
    "task = loop.create_task(fibonacci(20))"
   ]
  },
  {
   "cell_type": "code",
   "execution_count": null,
   "metadata": {},
   "outputs": [],
   "source": [
    "print(task.done())\n",
    "print(task.result())"
   ]
  },
  {
   "cell_type": "markdown",
   "metadata": {},
   "source": [
    "# Important notes on the event loop\n",
    "\n",
    "[official docs](https://docs.python.org/3/library/asyncio-eventloop.html)\n",
    "\n",
    "\n",
    "## Event loops are somewhat limited inside the Jupyter notebook (because a loop is already running)\n",
    "\n",
    "Otherwise, event loop methods you are likely to use\n",
    "\n",
    "```python\n",
    "loop.run_forever()\n",
    "loop.run_until_completion()\n",
    "```\n",
    "\n",
    "## Some simple, useful ways to run functions\n",
    "\n",
    "### call_soon\n",
    "\n",
    "```python\n",
    "import asyncio\n",
    "\n",
    "def hello_world(loop):\n",
    "    print('Hello World')\n",
    "\n",
    "loop = asyncio.get_event_loop()\n",
    "\n",
    "# Schedule a call to hello_world()\n",
    "loop.call_soon(hello_world, loop)\n",
    "\n",
    "```\n",
    "\n",
    "### call_later\n",
    "```python\n",
    "import asyncio\n",
    "\n",
    "def hello_world(loop):\n",
    "    print('Hello World')\n",
    "\n",
    "loop = asyncio.get_event_loop()\n",
    "\n",
    "# Schedule a call to hello_world()\n",
    "delay_in_seconds = 5\n",
    "loop.call_later(delay_in_seconds, hello_world, loop)\n",
    "```\n",
    "\n",
    "\n",
    "## There are MANY other methods on event loop, many of which are low level which you won't use\n"
   ]
  },
  {
   "cell_type": "markdown",
   "metadata": {},
   "source": [
    "# Don't use blocking functions\n",
    "\n",
    "```python\n",
    "# no\n",
    "time.sleep(3)\n",
    "# yes\n",
    "asyncio.sleep(3)\n",
    "\n",
    "# no\n",
    "for x in y:\n",
    "    ...\n",
    "# yes\n",
    "async for x in y:\n",
    "    ...\n",
    "    \n",
    "# no\n",
    "which blocking_context_thing:\n",
    "    ...    \n",
    "# yes\n",
    "async with async_context_thing\n",
    "    ...\n",
    "    \n",
    "   \n",
    "# no\n",
    "with open('some_file.txt', 'r') as f:\n",
    "  for line in f:\n",
    "     print line        \n",
    "# yes\n",
    "async with aiofiles.open('some_file.txt', mode='r') as f:\n",
    "    async for line in f:\n",
    "        print(line)\n",
    "    \n",
    "\n",
    "```\n"
   ]
  },
  {
   "cell_type": "markdown",
   "metadata": {},
   "source": [
    "# You CAN use threads and processes with asyncio"
   ]
  },
  {
   "cell_type": "code",
   "execution_count": null,
   "metadata": {},
   "outputs": [],
   "source": [
    "import asyncio\n",
    "import time\n",
    "\n",
    "def function_with_blocking_stuff():\n",
    "    time.sleep(3)\n",
    "    print(\"Did blocking thing\")\n",
    "    \n",
    "loop = asyncio.get_event_loop()\n",
    "\n",
    "my_future = loop.run_in_executor(None, function_with_blocking_stuff)"
   ]
  },
  {
   "cell_type": "code",
   "execution_count": null,
   "metadata": {},
   "outputs": [],
   "source": [
    "import asyncio\n",
    "import concurrent.futures\n",
    "import time\n",
    "\n",
    "def function_with_blocking_stuff():\n",
    "    time.sleep(3)\n",
    "    print(\"Did blocking thing\")\n",
    "    \n",
    "loop = asyncio.get_event_loop()\n",
    "\n",
    "with concurrent.futures.ThreadPoolExecutor() as executor:\n",
    "    my_future = loop.run_in_executor(executor, function_with_blocking_stuff)\n",
    "\n"
   ]
  },
  {
   "cell_type": "markdown",
   "metadata": {},
   "source": [
    "# Lessons learned\n",
    "1. There isn't any magic\n",
    "2. Can't use anything blocking\n",
    "3. Single threads can do a lot"
   ]
  }
 ],
 "metadata": {
  "kernelspec": {
   "display_name": "Python 3",
   "language": "python",
   "name": "python3"
  },
  "language_info": {
   "codemirror_mode": {
    "name": "ipython",
    "version": 3
   },
   "file_extension": ".py",
   "mimetype": "text/x-python",
   "name": "python",
   "nbconvert_exporter": "python",
   "pygments_lexer": "ipython3",
   "version": "3.6.5"
  }
 },
 "nbformat": 4,
 "nbformat_minor": 2
}
