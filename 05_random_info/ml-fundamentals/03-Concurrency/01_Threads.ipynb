{
 "cells": [
  {
   "cell_type": "markdown",
   "metadata": {
    "slideshow": {
     "slide_type": "slide"
    }
   },
   "source": [
    "# Way one: **Threads**"
   ]
  },
  {
   "cell_type": "markdown",
   "metadata": {},
   "source": [
    "## Begin with fibonacci"
   ]
  },
  {
   "cell_type": "code",
   "execution_count": 1,
   "metadata": {
    "slideshow": {
     "slide_type": "subslide"
    }
   },
   "outputs": [],
   "source": [
    "def fibonacci(n):\n",
    "    if n == 0:\n",
    "        return 0\n",
    "    elif n == 1:\n",
    "        return 1\n",
    "    else:\n",
    "        return fibonacci(n - 1) + fibonacci(n - 2)"
   ]
  },
  {
   "cell_type": "markdown",
   "metadata": {
    "slideshow": {
     "slide_type": "slide"
    }
   },
   "source": [
    "## Timing"
   ]
  },
  {
   "cell_type": "code",
   "execution_count": 2,
   "metadata": {
    "slideshow": {
     "slide_type": "subslide"
    }
   },
   "outputs": [
    {
     "name": "stdout",
     "output_type": "stream",
     "text": [
      "CPU times: user 2.38 s, sys: 0 ns, total: 2.38 s\n",
      "Wall time: 2.39 s\n"
     ]
    },
    {
     "data": {
      "text/plain": [
       "5702887"
      ]
     },
     "execution_count": 2,
     "metadata": {},
     "output_type": "execute_result"
    }
   ],
   "source": [
    "%%time\n",
    "fibonacci(34)"
   ]
  },
  {
   "cell_type": "markdown",
   "metadata": {},
   "source": [
    "## Run it twice"
   ]
  },
  {
   "cell_type": "code",
   "execution_count": 3,
   "metadata": {},
   "outputs": [
    {
     "name": "stdout",
     "output_type": "stream",
     "text": [
      "CPU times: user 4.83 s, sys: 0 ns, total: 4.83 s\n",
      "Wall time: 4.89 s\n"
     ]
    }
   ],
   "source": [
    "def super_expensive(n):\n",
    "    fibonacci(n)\n",
    "    fibonacci(n)\n",
    "    \n",
    "%time super_expensive(34)"
   ]
  },
  {
   "cell_type": "markdown",
   "metadata": {
    "slideshow": {
     "slide_type": "slide"
    }
   },
   "source": [
    "## Speed it up with threads\n",
    "\n",
    "Threads are easy.  Python threads are OS threads, and they switch preemptively\n",
    "\n",
    "```python\n",
    "import threading\n",
    "\n",
    "my_thread = threading.Thread(target=my_function)\n",
    "my_thread.start()\n",
    "\n",
    "# wait for the thread to finish\n",
    "my_thread.join()\n",
    "\n",
    "def my_function():\n",
    "    ...\n",
    "```"
   ]
  },
  {
   "cell_type": "code",
   "execution_count": 4,
   "metadata": {
    "slideshow": {
     "slide_type": "subslide"
    }
   },
   "outputs": [
    {
     "name": "stdout",
     "output_type": "stream",
     "text": [
      "CPU times: user 4.81 s, sys: 50 ms, total: 4.86 s\n",
      "Wall time: 4.91 s\n"
     ]
    }
   ],
   "source": [
    "import threading\n",
    "\n",
    "def super_expensive(n):\n",
    "    thread_one = threading.Thread(target=fibonacci,args=(n,))\n",
    "    thread_one.start()\n",
    "    thread_two = threading.Thread(target=fibonacci,args=(n,))\n",
    "    thread_two.start()\n",
    "    \n",
    "    thread_one.join()\n",
    "    thread_two.join()\n",
    "    \n",
    "%time super_expensive(34)"
   ]
  },
  {
   "cell_type": "markdown",
   "metadata": {},
   "source": [
    "## What's going on? Why doesn't it take 50% of that time?\n",
    "\n",
    "Maybe threads are sequential....  let's test it\n"
   ]
  },
  {
   "cell_type": "code",
   "execution_count": null,
   "metadata": {},
   "outputs": [],
   "source": [
    "import sys\n",
    "import threading\n",
    "\n",
    "def fibonacci(n, message):\n",
    "    sys.stdout.write(message)\n",
    "    if n == 0:\n",
    "        return 0\n",
    "    elif n == 1:\n",
    "        return 1\n",
    "    else:\n",
    "        return fibonacci(n - 1, message) + fibonacci(n - 2, message)\n",
    "    \n",
    "def super_expensive(n):\n",
    "    thread_one = threading.Thread(target=fibonacci,args=(n,\"_\"))\n",
    "    thread_one.start()\n",
    "    thread_two = threading.Thread(target=fibonacci,args=(n,\"*\"))\n",
    "    thread_two.start()\n",
    "    \n",
    "    thread_one.join()\n",
    "    thread_two.join()  \n",
    "    \n",
    "%time super_expensive(15)"
   ]
  },
  {
   "cell_type": "markdown",
   "metadata": {},
   "source": [
    "# Plot thickener: Amdahl's law\n",
    "![amdahl](images/Amdahl.png)"
   ]
  },
  {
   "cell_type": "markdown",
   "metadata": {},
   "source": [
    "# Insight: An implementation of the python language is, itself, a multithreaded program\n",
    "\n",
    "Thread one:\n",
    "```python\n",
    "global_str = \"abcdefg\"\n",
    "```\n",
    "\n",
    "Thread two:\n",
    "```python\n",
    "global_str = \"hijklmnop\"\n",
    "```\n",
    "\n",
    "The interpreter must ensure that global_str is one value or the other and NOT a hybrid of the two\n",
    "```python\n",
    "print(global_str)\n",
    "abclmnop\n",
    "```"
   ]
  },
  {
   "cell_type": "markdown",
   "metadata": {},
   "source": [
    "# Meet GIL\n",
    "\n",
    "<img src=\"images/villian.svg\" alt=\"drawing\" width=\"500\"/>\n",
    "\n",
    "## What does GIL do?\n",
    "\n",
    "You **have** to have locks somewhere in the python interpreter to keep the interpreter state rational in the face of threading.   C-Python opted for a single global lock rather than dispersed, finer grained locks\n",
    "\n",
    "1. Gil limits access to the interpreter to one thread at a time.\n",
    "2. This means that only one thread at a time can execute python code in the interpreter.\n",
    "3. You will have access to CONCURRENCY but not to PARALLELISM when using Python threads.\n",
    "\n",
    "**You have the net effect of using a SINGLE core when using threads in Python.  Each thread IS an OS thread, may execute on various cores, but only one thread at a time will execute python code**\n",
    "\n",
    "\n"
   ]
  },
  {
   "cell_type": "markdown",
   "metadata": {},
   "source": [
    "# An alternate view of Gil\n",
    "<img src=\"images/gill.jpg\" alt=\"drawing\" width=\"1000\"/>\n"
   ]
  },
  {
   "cell_type": "markdown",
   "metadata": {},
   "source": [
    "## Be Aware of Gil, but don't Beware of Gil"
   ]
  },
  {
   "cell_type": "markdown",
   "metadata": {},
   "source": [
    "## And remember that concurrency requires thread synchronization\n",
    "\n",
    "Locking\n",
    "```python\n",
    "import threading\n",
    "\n",
    "my_lock = threading.Lock()\n",
    "\n",
    "def worker():\n",
    "    with my_lock:\n",
    "        # protected stuff\n",
    "```\n",
    "\n",
    "**There are many additional thread synchronization constructs you can investigate**\n",
    "* RLock\n",
    "* Semaphore\n",
    "* Event\n",
    "* Condition\n",
    "* Barrier\n",
    "* ...\n",
    "\n",
    "## Give yourself some sanity.\n",
    "\n",
    "1. Access global state from ONE thread only\n",
    "2. Communicate to that ONE thread from other threads using a Queue\n",
    "3. To wait for thread(s), join() the thread or the Queue to signal no work is left\n",
    "4. If you violate 1-3, use thread local variables if at all possible\n",
    "\n"
   ]
  },
  {
   "cell_type": "code",
   "execution_count": null,
   "metadata": {
    "jupyter": {
     "source_hidden": true
    }
   },
   "outputs": [],
   "source": [
    "# A worked example from Raymond Hettinger\n",
    "\n",
    "import threading, queue\n",
    "\n",
    "counter = 0\n",
    "counter_queue = queue.Queue()\n",
    "\n",
    "def counter_manager():\n",
    "    'I have EXCLUSIVE rights to update the counter variable'\n",
    "    global counter\n",
    "\n",
    "    while True:\n",
    "        increment = counter_queue.get()\n",
    "        counter += increment\n",
    "        print_queue.put([\n",
    "            'The count is %d' % counter,\n",
    "            '---------------'])\n",
    "        counter_queue.task_done()\n",
    "\n",
    "t = threading.Thread(target=counter_manager)\n",
    "t.daemon = True\n",
    "t.start()\n",
    "del t\n",
    "\n",
    "print_queue = queue.Queue()\n",
    "\n",
    "def print_manager():\n",
    "    'I have EXCLUSIVE rights to call the \"print\" keyword'\n",
    "    while True:\n",
    "        job = print_queue.get()\n",
    "        for line in job:\n",
    "            print(line)\n",
    "        print_queue.task_done()\n",
    "\n",
    "t = threading.Thread(target=print_manager)\n",
    "t.daemon = True\n",
    "t.start()\n",
    "del t\n",
    "\n",
    "\n",
    "def worker():\n",
    "    'My job is to increment the counter and print the current count'\n",
    "    counter_queue.put(1)\n",
    "\n",
    "print_queue.put(['Starting up'])\n",
    "worker_threads = []\n",
    "for i in range(10):\n",
    "    t = threading.Thread(target=worker)\n",
    "    worker_threads.append(t)\n",
    "    t.start()\n",
    "for t in worker_threads:\n",
    "    t.join()\n",
    "\n",
    "counter_queue.join()\n",
    "print_queue.put(['Finishing up'])\n",
    "print_queue.join()"
   ]
  },
  {
   "cell_type": "markdown",
   "metadata": {},
   "source": [
    "# Lessons learned\n",
    "\n",
    "1. Threads are easy, threading is it's usual self\n",
    "2. Threads are OS threads and switch pre-emptively\n",
    "3. Python threads are limited to, effectively, a single core\n",
    "4.  &#9670; &#9670; Threads are a low-level concept.  Use higher level APIs if possible (e.g. concurrent.futures) \n",
    "5. When programming with threads, use concurrency patterns to help yourself out:\n",
    "    1. Access global state from ONE thread only\n",
    "    2. Communicate to that ONE thread from other threads using a Queue\n",
    "    3. To wait for thread(s), join() the thread or the Queue to signal no work is left\n",
    "    4. If you violate 1-3, use thread local variables if at all possible\n",
    "\n"
   ]
  },
  {
   "cell_type": "markdown",
   "metadata": {},
   "source": [
    "### Footnote: Python, the language, does not require a GIL.\n",
    "\n",
    "C-Python - the implementation of python you are most likely to use - does have a GIL\n",
    "\n",
    "--> Mostly because of the memory manager\n",
    "\n",
    "--> Removing the GIL has been done many times"
   ]
  }
 ],
 "metadata": {
  "kernelspec": {
   "display_name": "Python 3",
   "language": "python",
   "name": "python3"
  },
  "language_info": {
   "codemirror_mode": {
    "name": "ipython",
    "version": 3
   },
   "file_extension": ".py",
   "mimetype": "text/x-python",
   "name": "python",
   "nbconvert_exporter": "python",
   "pygments_lexer": "ipython3",
   "version": "3.6.5"
  }
 },
 "nbformat": 4,
 "nbformat_minor": 2
}
