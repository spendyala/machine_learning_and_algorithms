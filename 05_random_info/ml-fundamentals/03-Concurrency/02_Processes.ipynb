{
 "cells": [
  {
   "cell_type": "markdown",
   "metadata": {},
   "source": [
    "# Way Two: Processes"
   ]
  },
  {
   "cell_type": "code",
   "execution_count": null,
   "metadata": {},
   "outputs": [],
   "source": [
    "# Fibonacci\n",
    "def fibonacci(n):\n",
    "    if n == 0:\n",
    "        return 0\n",
    "    elif n == 1:\n",
    "        return 1\n",
    "    else:\n",
    "        return fibonacci(n - 1) + fibonacci(n - 2)\n",
    "    \n",
    "%time fibonacci(34)"
   ]
  },
  {
   "cell_type": "code",
   "execution_count": null,
   "metadata": {},
   "outputs": [],
   "source": [
    "def super_expensive(n):\n",
    "    fibonacci(n)\n",
    "    fibonacci(n)\n",
    "    \n",
    "%time super_expensive(34)"
   ]
  },
  {
   "cell_type": "markdown",
   "metadata": {},
   "source": [
    "## Processes look similar to threads"
   ]
  },
  {
   "cell_type": "code",
   "execution_count": null,
   "metadata": {},
   "outputs": [],
   "source": [
    "#Process looks like Thread\n",
    "\n",
    "from multiprocessing import Process\n",
    "\n",
    "process1 = Process(target=fibonacci,args=(34,))\n",
    "process2 = Process(target=fibonacci,args=(34,))"
   ]
  },
  {
   "cell_type": "code",
   "execution_count": null,
   "metadata": {},
   "outputs": [],
   "source": [
    "%%time\n",
    "\n",
    "# How long do you think this will take?\n",
    "\n",
    "process1.start()\n",
    "process2.start()\n",
    "process1.join()\n",
    "process2.join()"
   ]
  },
  {
   "cell_type": "markdown",
   "metadata": {},
   "source": [
    "## Success!  Let's try doing a few more"
   ]
  },
  {
   "cell_type": "code",
   "execution_count": null,
   "metadata": {},
   "outputs": [],
   "source": [
    "%%time\n",
    "\n",
    "processes = []\n",
    "\n",
    "for idx in range(0,10):\n",
    "    process = Process(target=fibonacci,args=(34,))\n",
    "    process.start()\n",
    "    processes.append(process)\n",
    "\n",
    "for process in processes:\n",
    "    process.join()\n",
    "    "
   ]
  },
  {
   "cell_type": "markdown",
   "metadata": {},
   "source": [
    "## What's the downside?\n",
    "\n",
    "Switching cost, Launching cost\n",
    "\n",
    "## What's different than threads?\n",
    "\n",
    "1. Copy-on-write memory, sharable memory for the advanced\n",
    "2. 10x fewer than threads\n",
    "3. Very high coordination costs.  Data must be serialized\n",
    "4. Killing a process is safe(r)\n",
    "\n",
    "## What's similar to threads?\n",
    "\n",
    "Coordination\n"
   ]
  },
  {
   "cell_type": "markdown",
   "metadata": {},
   "source": [
    "# Communication between processes\n",
    "\n",
    "A worked example is below.   Uses a Queue, but other types of communication are available (e.g. Pipe)"
   ]
  },
  {
   "cell_type": "code",
   "execution_count": null,
   "metadata": {
    "jupyter": {
     "source_hidden": true
    }
   },
   "outputs": [],
   "source": [
    "from multiprocessing import Queue\n",
    "\n",
    "q = Queue()\n",
    "\n",
    "def receive_stuff():\n",
    "    print(\"Reciever is waiting for a message.\")\n",
    "    n = q.get()\n",
    "    print(f\"Received {n}.  Receiver now exiting.\")\n",
    "    \n",
    "process1 = Process(target=receive_stuff,args=())\n",
    "process1.start()\n",
    "\n",
    "def send_stuff(n):\n",
    "    q.put(n)\n",
    "    print(f\"Sent {n}.  Sender now exiting.\")\n",
    "process2 = Process(target=send_stuff,args=(26,))\n",
    "\n",
    "\n",
    "process2.start()\n",
    "process1.join()\n",
    "process2.join()"
   ]
  },
  {
   "cell_type": "markdown",
   "metadata": {},
   "source": [
    "# Lessons Learned\n",
    "\n",
    "\n",
    "1. Process api is an extension of Thread api\n",
    "2. Processes unlock multiple cores\n",
    "2. Gil doesn't interfere across processes\n",
    "3. Processes don't share mutable state\n",
    "4. &#9670; &#9670; Processes are relatively low-level concept.  Use higher level APIs if possible (e.g. concurrent.futures) \n",
    "5. You might still need some coordination primitives among processes\n",
    "\n"
   ]
  },
  {
   "cell_type": "markdown",
   "metadata": {},
   "source": [
    "## There are many tools and nuances to using processes.  \n",
    "Check the multiprocessing python module for more information"
   ]
  }
 ],
 "metadata": {
  "kernelspec": {
   "display_name": "Python 3",
   "language": "python",
   "name": "python3"
  },
  "language_info": {
   "codemirror_mode": {
    "name": "ipython",
    "version": 3
   },
   "file_extension": ".py",
   "mimetype": "text/x-python",
   "name": "python",
   "nbconvert_exporter": "python",
   "pygments_lexer": "ipython3",
   "version": "3.6.5"
  }
 },
 "nbformat": 4,
 "nbformat_minor": 2
}
