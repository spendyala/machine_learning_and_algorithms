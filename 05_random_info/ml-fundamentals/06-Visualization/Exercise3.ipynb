{
 "cells": [
  {
   "cell_type": "markdown",
   "metadata": {},
   "source": [
    "# Exercise 3\n",
    "\n",
    "We'll use a sub-sampled set of MNIST data (2,500 instances) to explore t-SNE and UMap"
   ]
  },
  {
   "cell_type": "code",
   "execution_count": null,
   "metadata": {},
   "outputs": [],
   "source": [
    "import numpy as np\n",
    "import struct"
   ]
  },
  {
   "cell_type": "code",
   "execution_count": null,
   "metadata": {},
   "outputs": [],
   "source": [
    "import requests\n",
    "import gzip\n",
    "import shutil\n",
    "\n",
    "url = \"https://s3-us-west-2.amazonaws.com/resero2/datasets/tsne-perf-test/data.2500.mnist.dat.gz\"\n",
    "\n",
    "print('Downloading data...')\n",
    "\n",
    "response = requests.get(url, stream=True)\n",
    "\n",
    "with open(\"data.2500.mnist.dat.gz\", 'wb') as outfile:\n",
    "    shutil.copyfileobj(response.raw, outfile)\n",
    "\n",
    "with gzip.open('data.2500.mnist.dat.gz', 'rb') as f_in:\n",
    "    with open('data.mnist.dat', 'wb') as f_out:\n",
    "        shutil.copyfileobj(f_in, f_out)\n",
    "\n",
    "print('Done.')"
   ]
  },
  {
   "cell_type": "code",
   "execution_count": null,
   "metadata": {},
   "outputs": [],
   "source": [
    "def read_data(data_file):\n",
    "    data = open(data_file, 'rb').read()\n",
    "    (N, D, theta, perplexity, no_dims, max_iter) = struct.unpack(\"@iiddii\", data[:32])\n",
    "    X = np.reshape(np.fromstring(data[32:], np.float64), (N, D))\n",
    "    return X, theta, perplexity, no_dims, max_iter"
   ]
  },
  {
   "cell_type": "code",
   "execution_count": null,
   "metadata": {},
   "outputs": [],
   "source": [
    "data = read_data('./data.mnist.dat')\n",
    "data[0].shape"
   ]
  },
  {
   "cell_type": "code",
   "execution_count": null,
   "metadata": {},
   "outputs": [],
   "source": [
    "## Your Code Here\n",
    "\n",
    "# Use either umap or tsne or both to visualize this data in two dimensions"
   ]
  },
  {
   "cell_type": "markdown",
   "metadata": {},
   "source": [
    "* Are you seeing interesting clusters?\n",
    "* How would you determine the \"quality\" of your clusters?"
   ]
  }
 ],
 "metadata": {
  "kernelspec": {
   "display_name": "Python 3",
   "language": "python",
   "name": "python3"
  },
  "language_info": {
   "codemirror_mode": {
    "name": "ipython",
    "version": 3
   },
   "file_extension": ".py",
   "mimetype": "text/x-python",
   "name": "python",
   "nbconvert_exporter": "python",
   "pygments_lexer": "ipython3",
   "version": "3.6.6"
  }
 },
 "nbformat": 4,
 "nbformat_minor": 2
}
