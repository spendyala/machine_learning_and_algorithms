{
 "cells": [
  {
   "cell_type": "markdown",
   "metadata": {},
   "source": [
    "# Exercise 4\n",
    "\n",
    "This is a nonsensical example, but it illustrates the power of seperation of data and visualization. We will reflect all of the pick_up points across the line of Central Park West and watch what it does to our visualization"
   ]
  },
  {
   "cell_type": "code",
   "execution_count": null,
   "metadata": {},
   "outputs": [],
   "source": [
    "# Central Park West runs from Columbus Circle in the south west to Fredrick Douglas Circle in the north\n",
    "# we can use google maps to get lat/long for both circles and then use https://epsg.io/transform to\n",
    "# transform lat/long to Web Mercator x, y\n",
    "\n",
    "# Columbus Circle\n",
    "ccc_x = -8235628.70\n",
    "ccc_y = 4978297.30\n",
    "\n",
    "# Fredrick Douglas Circle\n",
    "fdc_x = -8232988.26\n",
    "fdc_y = 4982973.81\n",
    "\n",
    "m = (fdc_y - ccc_y)/(fdc_x - ccc_x)\n",
    "b = ccc_y - m * ccc_x\n",
    "\n",
    "print(f\"Line of reflection: y = {m} * x + {b}\")"
   ]
  },
  {
   "cell_type": "code",
   "execution_count": null,
   "metadata": {},
   "outputs": [],
   "source": [
    "import numpy as np\n",
    "# Reflection across a line in 2d can be defined by the following matrix multiplication\n",
    "# [ 1 0 0] [(1-m^2)/(1+m^2)      2m/(1+m^2) 0] [ 1 0  0] [x]\n",
    "# [ 0 1 b] [     2m/(1+m^2) (m^2-1)/(1+m^2) 0] [ 0 1 -b] [y]\n",
    "# [ 0 0 1] [             0               0  1] [ 0 0  1] [1]\n",
    "\n",
    "lhs_b = np.eye(3, 3)\n",
    "rhs_b = np.eye(3, 3)\n",
    "M = np.zeros((3, 3))\n",
    "lhs_b[1, 2] = b\n",
    "rhs_b[1, 2] = -b\n",
    "M[0, 0] = (1 - m**2)/(1 + m**2)\n",
    "M[0, 1] = 2 * m/(1 + m**2)\n",
    "M[1, 0] = M[0, 1]\n",
    "M[1, 1] = (m**2-1)/(1 + m**2)\n",
    "M[2, 2] = 1\n",
    "\n",
    "A = lhs_b @ M @ rhs_b"
   ]
  },
  {
   "cell_type": "code",
   "execution_count": null,
   "metadata": {},
   "outputs": [],
   "source": [
    "import pandas as pd\n",
    "# load 10,000 point taxi dataset\n",
    "df = pd.read_csv('./resources/taxi.csv')"
   ]
  },
  {
   "cell_type": "code",
   "execution_count": null,
   "metadata": {},
   "outputs": [],
   "source": [
    "import holoviews as hv\n",
    "from holoviews.operation.datashader import datashade\n",
    "hv.extension('bokeh')"
   ]
  },
  {
   "cell_type": "code",
   "execution_count": null,
   "metadata": {},
   "outputs": [],
   "source": [
    "dims = ['pickup_x', 'pickup_y']\n",
    "points = hv.Points(df, dims)\n",
    "ds = datashade(points, width=1000, height=600, x_sampling=0.5, y_sampling=0.5)\n",
    "ds"
   ]
  },
  {
   "cell_type": "code",
   "execution_count": null,
   "metadata": {},
   "outputs": [],
   "source": [
    "# From previous sessions on numpy and pandas, \n",
    "# you should have an idea as to how to efficiently \n",
    "# vectorize the operation\n",
    "\n",
    "## Your Code here: df = A @ df (columns pickup_x, pickup_y, z), preserving the remainng columns"
   ]
  },
  {
   "cell_type": "code",
   "execution_count": null,
   "metadata": {},
   "outputs": [],
   "source": [
    "# after modifying the data frame, show the datashaded points again\n",
    "\n",
    "## Enter your code here:\n",
    "\n",
    "## Is it anything more than just `ds`?\n",
    "\n",
    "## Did this behave as you expected?\n",
    "\n",
    "## If not, explore why not.\n"
   ]
  }
 ],
 "metadata": {
  "kernelspec": {
   "display_name": "Python 3",
   "language": "python",
   "name": "python3"
  },
  "language_info": {
   "codemirror_mode": {
    "name": "ipython",
    "version": 3
   },
   "file_extension": ".py",
   "mimetype": "text/x-python",
   "name": "python",
   "nbconvert_exporter": "python",
   "pygments_lexer": "ipython3",
   "version": "3.6.6"
  }
 },
 "nbformat": 4,
 "nbformat_minor": 2
}
