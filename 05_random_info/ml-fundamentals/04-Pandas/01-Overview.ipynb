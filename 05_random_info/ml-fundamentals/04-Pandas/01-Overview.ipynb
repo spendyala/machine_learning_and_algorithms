{
 "cells": [
  {
   "cell_type": "markdown",
   "metadata": {},
   "source": [
    "Pandas \n",
    "========================\n",
    "\n",
    "We live in a world that is full of data.  Some of this data is captured and stored, some of it is not.  Howeverm\n",
    "we have seen that overtime the amount and type of data that has become available to us continues to grow.  This\n",
    "allows us to be able to better understand and picture the world around us.  But this picture may not be as clear\n",
    "to someone else as it could be to you or me.  We need someway to easily present this data, so help to share our\n",
    "understanding of the data and to enable us to `Tell a Story`.  \n",
    "\n",
    "Why do we want to spend our time having our data `tell a story`?  Stories have an imporant impact on us as people,\n",
    "they are a mechanism that we use to either relate one experience with another.  They can allow us to be more\n",
    "connected with each other.  They can also take more complex scenarios and break them down to thoughts and ideas\n",
    "that are more easily expressed.  Finally, for me, stories are more memerable and as such have a longer lasting effect.  \n",
    "\n",
    "Pandas provides a number of tools to help us better understand data, analyze data and finally to create a\n",
    "story from our data.  \n",
    "\n",
    "In this notebook I am going to duplicate an article that was created from the website `FiveThirtyEight` to\n",
    "demonstrate how they created a story from data, and how you can use pandas to do the same thing.  \n",
    "\n",
    "To start, lets import the modules that we need for this demo.  "
   ]
  },
  {
   "cell_type": "code",
   "execution_count": 1,
   "metadata": {},
   "outputs": [],
   "source": [
    "import pandas as pd\n",
    "\n",
    "from ml_course.util.downloader import download_data"
   ]
  },
  {
   "cell_type": "markdown",
   "metadata": {},
   "source": [
    "## Our Data\n",
    "\n",
    "The first thing that we need to do is to see what data is available to us.  Now the data the has been provided by\n",
    "fivethirtyeight cam from a survey that they did on `SurveyMonkey`.  It is very, very important that we try to understand\n",
    "the data's source so that we can make sure that the data is not biased or misleading.  \n",
    "\n",
    "In this case the data was collected from a poll ran using `SurveyMonkey`'s audience tool.  This leads me to question a \n",
    "few things.  \n",
    "\n",
    "1. Since they are online, are they a more technical than the average person?\n",
    "2. Are people who are more technical more likely to watch scifi films?\n",
    "3. What is that age range of those people that took the survey?\n",
    "...\n",
    "\n",
    "They do share some of these findings (namely gender differences where 85% of males having seen at least one star wars movie\n",
    "compared to 72% of women).  But we just want to make sure that, from the start, the data might be biased and we understand how\n",
    "and whether that will have an impact in our conclusions.  \n",
    "\n",
    "Lets start by downloading the dataset. "
   ]
  },
  {
   "cell_type": "code",
   "execution_count": 2,
   "metadata": {},
   "outputs": [
    {
     "name": "stdout",
     "output_type": "stream",
     "text": [
      "Downloading url https://raw.githubusercontent.com/fivethirtyeight/data/master/star-wars-survey/StarWars.csv to file /home/jovyan/project/ml_course/util/../../.data/star_wars.csv\n",
      "#\n",
      "File downloaded to /home/jovyan/project/ml_course/util/../../.data/star_wars.csv\n"
     ]
    }
   ],
   "source": [
    "star_wars_url = 'https://raw.githubusercontent.com/fivethirtyeight/data/master/star-wars-survey/StarWars.csv'\n",
    "star_wars_file = download_data(star_wars_url, 'star_wars.csv')"
   ]
  },
  {
   "cell_type": "markdown",
   "metadata": {},
   "source": [
    "So at this point we should have our star wars file downloaded (which is a csv).  \n",
    "\n",
    "Let's start by quickly loading and looking over our data.  "
   ]
  },
  {
   "cell_type": "code",
   "execution_count": 3,
   "metadata": {},
   "outputs": [
    {
     "name": "stdout",
     "output_type": "stream",
     "text": [
      "Survey participant count: 1186\n"
     ]
    },
    {
     "data": {
      "text/html": [
       "<div>\n",
       "<style scoped>\n",
       "    .dataframe tbody tr th:only-of-type {\n",
       "        vertical-align: middle;\n",
       "    }\n",
       "\n",
       "    .dataframe tbody tr th {\n",
       "        vertical-align: top;\n",
       "    }\n",
       "\n",
       "    .dataframe thead th {\n",
       "        text-align: right;\n",
       "    }\n",
       "</style>\n",
       "<table border=\"1\" class=\"dataframe\">\n",
       "  <thead>\n",
       "    <tr style=\"text-align: right;\">\n",
       "      <th></th>\n",
       "      <th>seen_any</th>\n",
       "      <th>is_fan</th>\n",
       "      <th>e1</th>\n",
       "      <th>e2</th>\n",
       "      <th>e3</th>\n",
       "      <th>e4</th>\n",
       "      <th>e5</th>\n",
       "      <th>e6</th>\n",
       "      <th>rank_e1</th>\n",
       "      <th>rank_e2</th>\n",
       "      <th>rank_e3</th>\n",
       "      <th>rank_e4</th>\n",
       "      <th>rank_e5</th>\n",
       "      <th>rank_e6</th>\n",
       "      <th>shot_first</th>\n",
       "      <th>expanded</th>\n",
       "      <th>expanded_fan</th>\n",
       "      <th>trek_fan</th>\n",
       "      <th>gender</th>\n",
       "      <th>age</th>\n",
       "    </tr>\n",
       "  </thead>\n",
       "  <tbody>\n",
       "    <tr>\n",
       "      <th>1</th>\n",
       "      <td>Yes</td>\n",
       "      <td>Yes</td>\n",
       "      <td>Star Wars: Episode I  The Phantom Menace</td>\n",
       "      <td>Star Wars: Episode II  Attack of the Clones</td>\n",
       "      <td>Star Wars: Episode III  Revenge of the Sith</td>\n",
       "      <td>Star Wars: Episode IV  A New Hope</td>\n",
       "      <td>Star Wars: Episode V The Empire Strikes Back</td>\n",
       "      <td>Star Wars: Episode VI Return of the Jedi</td>\n",
       "      <td>3</td>\n",
       "      <td>2</td>\n",
       "      <td>1</td>\n",
       "      <td>4</td>\n",
       "      <td>5</td>\n",
       "      <td>6</td>\n",
       "      <td>I don't understand this question</td>\n",
       "      <td>Yes</td>\n",
       "      <td>No</td>\n",
       "      <td>No</td>\n",
       "      <td>Male</td>\n",
       "      <td>18-29</td>\n",
       "    </tr>\n",
       "    <tr>\n",
       "      <th>2</th>\n",
       "      <td>No</td>\n",
       "      <td>NaN</td>\n",
       "      <td>NaN</td>\n",
       "      <td>NaN</td>\n",
       "      <td>NaN</td>\n",
       "      <td>NaN</td>\n",
       "      <td>NaN</td>\n",
       "      <td>NaN</td>\n",
       "      <td>NaN</td>\n",
       "      <td>NaN</td>\n",
       "      <td>NaN</td>\n",
       "      <td>NaN</td>\n",
       "      <td>NaN</td>\n",
       "      <td>NaN</td>\n",
       "      <td>NaN</td>\n",
       "      <td>NaN</td>\n",
       "      <td>NaN</td>\n",
       "      <td>Yes</td>\n",
       "      <td>Male</td>\n",
       "      <td>18-29</td>\n",
       "    </tr>\n",
       "  </tbody>\n",
       "</table>\n",
       "</div>"
      ],
      "text/plain": [
       "  seen_any is_fan                                        e1  \\\n",
       "1      Yes    Yes  Star Wars: Episode I  The Phantom Menace   \n",
       "2       No    NaN                                       NaN   \n",
       "\n",
       "                                            e2  \\\n",
       "1  Star Wars: Episode II  Attack of the Clones   \n",
       "2                                          NaN   \n",
       "\n",
       "                                            e3  \\\n",
       "1  Star Wars: Episode III  Revenge of the Sith   \n",
       "2                                          NaN   \n",
       "\n",
       "                                  e4  \\\n",
       "1  Star Wars: Episode IV  A New Hope   \n",
       "2                                NaN   \n",
       "\n",
       "                                             e5  \\\n",
       "1  Star Wars: Episode V The Empire Strikes Back   \n",
       "2                                           NaN   \n",
       "\n",
       "                                         e6 rank_e1 rank_e2 rank_e3 rank_e4  \\\n",
       "1  Star Wars: Episode VI Return of the Jedi       3       2       1       4   \n",
       "2                                       NaN     NaN     NaN     NaN     NaN   \n",
       "\n",
       "  rank_e5 rank_e6                        shot_first expanded expanded_fan  \\\n",
       "1       5       6  I don't understand this question      Yes           No   \n",
       "2     NaN     NaN                               NaN      NaN          NaN   \n",
       "\n",
       "  trek_fan gender    age  \n",
       "1       No   Male  18-29  \n",
       "2      Yes   Male  18-29  "
      ]
     },
     "execution_count": 3,
     "metadata": {},
     "output_type": "execute_result"
    }
   ],
   "source": [
    "star_wars = pd.read_csv(star_wars_file, encoding='LATIN-1')[1:]\n",
    "print(f'Survey participant count: {len(star_wars)}')\n",
    "star_wars.columns = list(range(len(star_wars.columns)))\n",
    "star_wars.drop(columns=[0, *list(range(15, 29)), 35, 36, 37], inplace=True)\n",
    "\n",
    "star_wars.columns = ['seen_any', 'is_fan', 'e1', 'e2', 'e3', 'e4', 'e5', 'e6', 'rank_e1', 'rank_e2', 'rank_e3', 'rank_e4', 'rank_e5', 'rank_e6',\n",
    "                    'shot_first', 'expanded', 'expanded_fan', 'trek_fan', 'gender', 'age']\n",
    "\n",
    "star_wars.head(2)"
   ]
  },
  {
   "cell_type": "markdown",
   "metadata": {},
   "source": [
    "The first thing that we want to see is how many of the people have seen the different films.  "
   ]
  },
  {
   "cell_type": "code",
   "execution_count": 4,
   "metadata": {},
   "outputs": [
    {
     "data": {
      "text/plain": [
       "<matplotlib.axes._subplots.AxesSubplot at 0x7f02337ed160>"
      ]
     },
     "execution_count": 4,
     "metadata": {},
     "output_type": "execute_result"
    }
   ],
   "source": [
    "df = pd.DataFrame(star_wars)\n",
    "watched_columns = list(df.columns[2:8])\n",
    "for column in watched_columns:\n",
    "    df.loc[pd.notna(df[column]), column] = True\n",
    "    df[column].fillna(False, inplace=True)\n",
    "    df.loc[:, column] = pd.to_numeric(df[column])\n",
    "\n",
    "seen_any = df[df['seen_any'] == 'Yes']\n",
    "seen_any.loc[:, watched_columns].sum().plot.barh(title='Which `Star Wars` Movies have you seen?', figsize=(10, 5))"
   ]
  },
  {
   "cell_type": "markdown",
   "metadata": {},
   "source": [
    "So we can see that most people have seen episode 5 followed closedly by episode 6 and then, surpisingly, episode 1.  \n",
    "\n",
    "Now that we have the movies that people have seen, lets see which one is the best.  We will determine this by selecting\n",
    "only the people who have seen all 6 films and who filled out the ranking section of the survey. "
   ]
  },
  {
   "cell_type": "code",
   "execution_count": 5,
   "metadata": {},
   "outputs": [
    {
     "data": {
      "text/plain": [
       "<matplotlib.axes._subplots.AxesSubplot at 0x7f02314830f0>"
      ]
     },
     "execution_count": 5,
     "metadata": {},
     "output_type": "execute_result"
    },
    {
     "data": {
      "image/png": "[encoded data removed]",
      "text/plain": [
       "<Figure size 720x360 with 1 Axes>"
      ]
     },
     "metadata": {},
     "output_type": "display_data"
    }
   ],
   "source": [
    "seen_all = pd.DataFrame(df[df[watched_columns].all(axis=1)])\n",
    "ranking_columns = list(df.columns[8:14])\n",
    "\n",
    "for column in ranking_columns:\n",
    "    seen_all.loc[:, column] = pd.to_numeric(seen_all[column])\n",
    "\n",
    "favorite_films = seen_all[ranking_columns].idxmin(axis=1)\n",
    "favorite_films.value_counts().plot.barh(title=\"What's the best `Star Wars` Movie?\", figsize=(10, 5))"
   ]
  },
  {
   "cell_type": "markdown",
   "metadata": {},
   "source": [
    "So looking over the data we can see that episode 5 (_Empire Strikes Back_) is the number one ranked movie by those who took the survey\n",
    "and had seen all 6 episodes.  \n",
    "\n",
    "## Story Conclusion\n",
    "\n",
    "So what does this tell us?  Star wars never should have had the first 3 episodes!  (Ok this might be a bit biased).  \n",
    "\n",
    "For a couple of final points, lets see how many people know `Who shot first` as well as how many of them consider themselves fans\n",
    "of both the star wars universe and the star trek universe.  "
   ]
  },
  {
   "cell_type": "code",
   "execution_count": 6,
   "metadata": {},
   "outputs": [
    {
     "data": {
      "text/plain": [
       "<matplotlib.axes._subplots.AxesSubplot at 0x7f02313e9588>"
      ]
     },
     "execution_count": 6,
     "metadata": {},
     "output_type": "execute_result"
    },
    {
     "data": {
      "image/png": "[encoded data removed]",
      "text/plain": [
       "<Figure size 720x360 with 1 Axes>"
      ]
     },
     "metadata": {},
     "output_type": "display_data"
    }
   ],
   "source": [
    "shot_first = df[pd.notna(df['shot_first'])]\n",
    "shot_first['shot_first'].value_counts().plot.barh(title='Who shot First?', figsize=(10,5))"
   ]
  },
  {
   "cell_type": "code",
   "execution_count": 7,
   "metadata": {},
   "outputs": [
    {
     "name": "stdout",
     "output_type": "stream",
     "text": [
      "How many people consider themselves fans of both star wars and star trek: \n"
     ]
    },
    {
     "data": {
      "text/plain": [
       "370"
      ]
     },
     "execution_count": 7,
     "metadata": {},
     "output_type": "execute_result"
    }
   ],
   "source": [
    "scifi_fans = df[(df['is_fan'] == 'Yes') & (df['trek_fan'] == 'Yes')]\n",
    "print('How many people consider themselves fans of both star wars and star trek: ')\n",
    "len(scifi_fans)"
   ]
  },
  {
   "cell_type": "markdown",
   "metadata": {},
   "source": [
    "## References\n",
    "\n",
    "- [FiveThirtyEight Article](https://fivethirtyeight.com/features/americas-favorite-star-wars-movies-and-least-favorite-characters/)\n"
   ]
  },
  {
   "cell_type": "code",
   "execution_count": null,
   "metadata": {},
   "outputs": [],
   "source": []
  }
 ],
 "metadata": {
  "kernelspec": {
   "display_name": "Python 3",
   "language": "python",
   "name": "python3"
  },
  "language_info": {
   "codemirror_mode": {
    "name": "ipython",
    "version": 3
   },
   "file_extension": ".py",
   "mimetype": "text/x-python",
   "name": "python",
   "nbconvert_exporter": "python",
   "pygments_lexer": "ipython3",
   "version": "3.6.5"
  }
 },
 "nbformat": 4,
 "nbformat_minor": 2
}
