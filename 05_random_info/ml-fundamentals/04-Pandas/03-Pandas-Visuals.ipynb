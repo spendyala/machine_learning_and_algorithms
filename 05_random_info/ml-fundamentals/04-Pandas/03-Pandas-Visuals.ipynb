{
 "cells": [
  {
   "cell_type": "markdown",
   "metadata": {},
   "source": [
    "Pandas Visualization\n",
    "------------------------------\n",
    "\n",
    "A lot of times we are going to be working with data whose scale is much larger than only a few lines.  While this is very useful\n",
    "it can be very hard for use to find patterns by looking at the raw content.  In this notebook I will demonstrate how pandas provides\n",
    "some built-in and very powerful visualization tools (wrapping matplotlib), as well as the extra support that it provides for time\n",
    "series data.  \n",
    "\n",
    "To start, as always we are going to first load our modules. "
   ]
  },
  {
   "cell_type": "code",
   "execution_count": null,
   "metadata": {},
   "outputs": [],
   "source": [
    "import pandas as pd\n",
    "import numpy as np\n",
    "\n",
    "from ml_course.util.downloader import download_data\n",
    "%matplotlib inline"
   ]
  },
  {
   "cell_type": "markdown",
   "metadata": {},
   "source": [
    "For this notebook we are going to use the data that we cleaned in the last notebook, \n",
    "luckily we have the location of the file.  \n",
    "\n",
    "Remember that we added a few other columns, namely `ns` and `ew`.  "
   ]
  },
  {
   "cell_type": "code",
   "execution_count": null,
   "metadata": {},
   "outputs": [],
   "source": [
    "import os\n",
    "filename = os.path.join('..', '.data', 'austin_cleaned.csv')"
   ]
  },
  {
   "cell_type": "markdown",
   "metadata": {},
   "source": [
    "Alright, we have our data downloaded, lets go ahead and load the data into a dataframe so that we\n",
    "can view the output of the data.  "
   ]
  },
  {
   "cell_type": "code",
   "execution_count": null,
   "metadata": {},
   "outputs": [],
   "source": [
    "df = pd.read_csv(filename, index_col='date', parse_dates=True)\n",
    "df.head(5)"
   ]
  },
  {
   "cell_type": "markdown",
   "metadata": {},
   "source": [
    "So this time we have loaded our data, however I have adjusted the index column that the data should use\n",
    "to be the date column from our provided dataset.  This means that we now have a timeseries that we can use\n",
    "to plot things.  \n",
    "\n",
    "Now there are some columns that we don't want to use at this time, namly the `location`, `ns` and `ew` columns\n",
    "so we will start by creating our `plot_df` that contains only the columns we care about. "
   ]
  },
  {
   "cell_type": "code",
   "execution_count": null,
   "metadata": {},
   "outputs": [],
   "source": [
    "plot_df = df.loc[:, 'nb':'total']\n",
    "plot_df.head(5)"
   ]
  },
  {
   "cell_type": "markdown",
   "metadata": {},
   "source": [
    "To plot data in pandas, we can use the built-in `plot` function that is provided by each dataframe.  This will default to\n",
    "create a `line` plot and will us the index as the x axis and a line for each of the columns that are supplied.  "
   ]
  },
  {
   "cell_type": "code",
   "execution_count": null,
   "metadata": {},
   "outputs": [],
   "source": [
    "plot_df.plot()"
   ]
  },
  {
   "cell_type": "markdown",
   "metadata": {},
   "source": [
    "Now this line chart is a bit noisy, so instead what we can do is to resample the data based on the date value. Since we decided to use our `date` column\n",
    "as the index for the rows this lets us tap into the power of the timeseries.  \n",
    "\n",
    "To resample a dataframe, we just need to use the `.resample(rule)` function.  This function allows for us to do a form of a\n",
    "group_by based on the date and automatically adjust the column values accordingly.  For example we could resample to\n",
    "a month boundary 'M' or a year 'Y' or even a week 'W'.  \n",
    "\n",
    "So lets run the plot again, except this time we will resample on the yearly basis.  "
   ]
  },
  {
   "cell_type": "code",
   "execution_count": null,
   "metadata": {},
   "outputs": [],
   "source": [
    "plot_df.resample('Y').sum().plot()"
   ]
  },
  {
   "cell_type": "markdown",
   "metadata": {},
   "source": [
    "**WARNING:** Now before we go much further we have to consider if we are looking at this data correctly or not.  If you remember or dataset it\n",
    "also included a location column.  This location column defined the area that the measurements were taking place in.  If we disregard\n",
    "that column then we are looking at metrics that could be taken from anywhere in the county, which would not be an adequat dataset to\n",
    "use to really determine if traffic is changing.  \n",
    "\n",
    "However, I am going to continue to demonstrate how to use the plotting tools using this dataset rather than introduce a new\n",
    "dataset to everyone at this time, I just want to make sure that it is understood we are demonstrating the tooling, not actually\n",
    "trying to use the data to find trends.  \n",
    "\n",
    "So above we create a line chart, we can also create a bar chart very easily by using the bar command on the plot function.  Now a bar\n",
    "plot is really nice, especially stacked, however the total represents the sum of all the values, so at this point lets remove that\n",
    "from our dataframe and render the bar graph stacked.  "
   ]
  },
  {
   "cell_type": "code",
   "execution_count": null,
   "metadata": {},
   "outputs": [],
   "source": [
    "plot_df = plot_df.loc[:, 'nb':'wb']\n",
    "plot_df.resample('Y').sum().plot.bar(stacked=True, figsize=(10, 5))"
   ]
  },
  {
   "cell_type": "markdown",
   "metadata": {},
   "source": [
    "If you are person that really likes piecharts we can do that as well based on the sums of the different directions as they are compared\n",
    "to to the total sum.  "
   ]
  },
  {
   "cell_type": "code",
   "execution_count": null,
   "metadata": {},
   "outputs": [],
   "source": [
    "plot_df.sum().plot.pie()"
   ]
  },
  {
   "cell_type": "markdown",
   "metadata": {},
   "source": [
    "So these are some of the common plotting tools that are available to use, however there are a lot more, including\n",
    "\n",
    "- `plot.area()`\n",
    "- `plot.barh()`\n",
    "- `plot.hist()`\n",
    "- `plot.scatter()`\n",
    "- `plot.density()`\n",
    "\n",
    "Now lets get back to working with our timeseries data, to see what changes we can make there.  \n",
    "\n",
    "First lets adjust our timeseries to be sampled on a monthly basis, but have it rolling every 12 months (every year).  "
   ]
  },
  {
   "cell_type": "code",
   "execution_count": null,
   "metadata": {},
   "outputs": [],
   "source": [
    "plot_df.resample('M').sum().rolling(12).sum().plot(figsize=(10, 5), alpha=0.9)"
   ]
  },
  {
   "cell_type": "markdown",
   "metadata": {},
   "source": [
    "Rolling is an interesting plot in that it takes the sum of the previos 12 months when it goes, so it is an additive value.  This\n",
    "can be useful in seeing growing trends or tailing trends in the data.  \n",
    "\n",
    "Finally for our last plot we are going to pivot the data to see how to totals work out on a monthly basis over the years.  This can help\n",
    "us to see if there might be more traffic occuring in summer months vs winter months or holiday seasons.   "
   ]
  },
  {
   "cell_type": "code",
   "execution_count": null,
   "metadata": {},
   "outputs": [],
   "source": [
    "pd.DataFrame(df['total']).pivot_table('total', index=plot_df.index.month, columns=plot_df.index.year).plot.bar(stacked=True, alpha=0.5, figsize=(10, 5), legend=False)"
   ]
  },
  {
   "cell_type": "markdown",
   "metadata": {},
   "source": [
    "## References\n",
    "\n",
    "There is a wonderful article and short youtube video series by Jake Vanderplas that can be found \n",
    "[here](http://jakevdp.github.io/blog/2017/03/03/reproducible-data-analysis-in-jupyter/).  It is a great\n",
    "dive into some of these details with a dataset that better fits this representation.  "
   ]
  },
  {
   "cell_type": "code",
   "execution_count": null,
   "metadata": {},
   "outputs": [],
   "source": []
  }
 ],
 "metadata": {
  "kernelspec": {
   "display_name": "Python 3",
   "language": "python",
   "name": "python3"
  },
  "language_info": {
   "codemirror_mode": {
    "name": "ipython",
    "version": 3
   },
   "file_extension": ".py",
   "mimetype": "text/x-python",
   "name": "python",
   "nbconvert_exporter": "python",
   "pygments_lexer": "ipython3",
   "version": "3.6.5"
  }
 },
 "nbformat": 4,
 "nbformat_minor": 2
}
