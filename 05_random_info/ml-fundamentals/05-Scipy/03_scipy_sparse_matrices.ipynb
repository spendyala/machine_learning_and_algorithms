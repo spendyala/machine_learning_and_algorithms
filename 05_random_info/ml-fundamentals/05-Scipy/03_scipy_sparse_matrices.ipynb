{
 "cells": [
  {
   "cell_type": "markdown",
   "metadata": {},
   "source": [
    "## SciPy's sparse package\n",
    "\n",
    "* 2-D sparse matrix data structures\n",
    "   * Where a sparse matrix is relatively \"empty\", meaning it has many zero values.\n",
    "   * Contrast this to a dense matrix where there are few zero values.\n",
    "* Efficient storage and performant retrieval for various types of access\n",
    "* Numpy-like matrix math functions\n",
    "   * Methods on matrix objects\n",
    "   * sparse.linalg and sparse.csgraph subpackages\n",
    "   * If a numpy math algorithm is needed after all, must convert to dense (numpy) matrix (.toarray())\n",
    "   \n",
    "### Examples of when useful\n",
    "\n",
    "* When a large amount of matrix data is sparse and must fit in limited memory.\n",
    "* Large sparse matrices often appear in scientific or engineering applications when solving partial differential equations (PDEs).\n",
    "   * The finite element method\n",
    "   * Mechanical engineering, electrotechnics, physics, etc.\n",
    "* Graph theory\n",
    "   * nonzero at (i, j) means that node i is connected to node j\n",
    "* Bag of Words vectorization in NLP (to be illustrated later!)"
   ]
  },
  {
   "cell_type": "markdown",
   "metadata": {},
   "source": [
    "### Sparse matrix types\n",
    "\n",
    "* Select the right type for the job.\n",
    "* Row and Column matrices are more efficient for operations involving Row or Column operations, respectively.\n",
    "* Each type has both general constructors and a custom constructors specific to that type.\n",
    "* Some types are for efficient incremental construction and efficient conversion to another type.\n",
    "   * These are typically converted to other types to be used\n",
    "\n",
    "Name | Row | Col | Diagonal | Incr-Constr | Long Name\n",
    "--- | --- | --- | --- | --- | :---\n",
    "csc | . | y | . | . | Compressed Sparse Column format\n",
    "csr | y | . | . | . | Compressed Sparse Row format\n",
    "bsr | y | . | . | . | Block Sparse Row format\n",
    "lil | . | . | . | y | List of Lists format\n",
    "dok | . | . | . | y | Dictionary of Keys format\n",
    "coo | . | . | . | * | COOrdinate format**\n",
    "dia | . | . | y | . | DIAgonal format\n",
    "\n",
    ">> ** COO has fast full (not incremental) initialization"
   ]
  },
  {
   "cell_type": "code",
   "execution_count": null,
   "metadata": {},
   "outputs": [],
   "source": [
    "import numpy as np\n",
    "import os\n",
    "import matplotlib as mpl\n",
    "import matplotlib.pyplot as plt\n",
    "from scipy import sparse"
   ]
  },
  {
   "cell_type": "markdown",
   "metadata": {},
   "source": [
    "#### CSC -- Compressed Sparse Column format\n",
    "\n",
    "* For efficient COLUMN access\n",
    "* Uses \"Yale\" format:\n",
    "   * A -- data in \"column major\" order\n",
    "   * IA -- recursively defined indexes tracking the number of nonzero elements in each column (len A+1)\n",
    "   * JA -- row indexes of each element in A (len A)\n",
    "   \n",
    "<img src=\"https://upload.wikimedia.org/wikipedia/commons/thumb/4/4d/Row_and_column_major_order.svg/170px-Row_and_column_major_order.svg.png\"/>\n",
    "\n",
    "#### CSR -- Compressed Sparse Row format\n",
    "\n",
    "* Similar to CSC, but more efficient for operations accessing the rows\n",
    "* Uses \"Yale\" format:\n",
    "   * A -- data in \"row major\" order\n",
    "   * IA -- recursively defined indexes tracking the number of nonzero elements in each row (len A+1)\n",
    "   * JA -- column indexes of each element in A (len A)"
   ]
  },
  {
   "cell_type": "code",
   "execution_count": null,
   "metadata": {},
   "outputs": [],
   "source": [
    "# CSR Example:\n",
    "A = [5, 8, 3, 6]      # nonzero values\n",
    "IA = [0, 0, 2, 3, 4]  # 0 nonzero elts on 0th row, 2 on 1st, 1 on 2nd, 1 on 3rd (as ranges)\n",
    "JA = [0, 1, 2, 1]     # 5 is in the 0th col, 8 and 6 are in the 1st col, 3 is in the 2nd col\n",
    "\n",
    "sparse.csr_matrix((A, JA, IA), shape=(4,4)).toarray()"
   ]
  },
  {
   "cell_type": "markdown",
   "metadata": {},
   "source": [
    "#### BSR -- Block Sparse Row format\n",
    "\n",
    "* Essentially CSR, but having identically shaped \"blocks\" of dense sub-matrices inside"
   ]
  },
  {
   "cell_type": "code",
   "execution_count": null,
   "metadata": {},
   "outputs": [],
   "source": [
    "# BSR example\n",
    "indptr = np.array([0, 2, 3, 6])\n",
    "indices = np.array([0, 2, 2, 0, 1, 2])\n",
    "data = np.array([1, 2, 3, 4, 5, 6]).repeat(4).reshape(6, 2, 2)\n",
    "mtx = sparse.bsr_matrix((data, indices, indptr), shape=(6, 6))\n",
    "mtx.todense()"
   ]
  },
  {
   "cell_type": "markdown",
   "metadata": {},
   "source": [
    "#### LIL -- List of Lists format\n",
    "\n",
    "* Row-based linked list\n",
    "* One of two that supports efficient incremental construction (DOK is other)\n",
    "* Flexible slicing\n",
    "* Efficient if sparsity structure changes\n",
    "* Slow arithmetics\n",
    "* Use when sparsity pattern is not known apriori or changes\n",
    "   * e.g., reading a sparse matrix from a text file\n"
   ]
  },
  {
   "cell_type": "code",
   "execution_count": null,
   "metadata": {},
   "outputs": [],
   "source": [
    "# Example 1 from scipy.sparse documentation:\n",
    "\n",
    "# Construct a 1000x1000 lil_matrix and add some values to it:\n",
    "from scipy.sparse import lil_matrix\n",
    "from scipy.sparse.linalg import spsolve\n",
    "from numpy.linalg import solve, norm\n",
    "from numpy.random import rand\n",
    "\n",
    "A = lil_matrix((1000, 1000))\n",
    "A[0, :100] = rand(100)\n",
    "A[1, 100:200] = A[0, :100]\n",
    "A.setdiag(rand(1000))\n",
    "\n",
    "# visualize the random sparse matrix\n",
    "plt.spy(A.toarray(), aspect='auto')\n",
    "\n",
    "# Now convert it to CSR format and solve A x = b for x:\n",
    "A = A.tocsr()\n",
    "b = rand(1000)\n",
    "x = spsolve(A, b)  # sparse solve on sparse matrices\n",
    "\n",
    "# Convert it to a dense matrix and solve, and check that the result is the same:\n",
    "x_ = solve(A.toarray(), b)  # numpy solve on numpy arrays\n",
    "\n",
    "# Now we can compute norm of the error with:\n",
    "err = norm(x-x_)\n",
    "err < 1e-10\n",
    "\n",
    "# It should be small :)"
   ]
  },
  {
   "cell_type": "markdown",
   "metadata": {},
   "source": [
    "#### DOK -- Dictionary of Keys format\n",
    "\n",
    "* Dictionary mapping (row, column) index tuples to the value of the non-zero elements\n",
    "   * subclass of Python dict\n",
    "* One of two that supports efficient incremental construction (LIL is other)\n",
    "* Efficient O(1) access to individual elements\n",
    "* Flexible slicing\n",
    "* Efficient sparsity structure changes\n",
    "* Slow arithmetics\n",
    "* Use when sparsity pattern is not known apriori or changes\n",
    "   * e.g., reading a sparse matrix from a text file"
   ]
  },
  {
   "cell_type": "code",
   "execution_count": null,
   "metadata": {},
   "outputs": [],
   "source": [
    "# Example from scipy.sparse.dok_matrix documentation\n",
    "from scipy.sparse import dok_matrix\n",
    "S = dok_matrix((5, 5), dtype=np.float32)\n",
    "for i in range(5):\n",
    "    for j in range(5):\n",
    "        S[i, j] = i + j    # Update element.\n",
    "S.toarray()\n",
    "\n",
    "# Every cell's value is the sum of its indices\n",
    "# Not very sparse, but illustrates how to use!"
   ]
  },
  {
   "cell_type": "markdown",
   "metadata": {},
   "source": [
    "#### COO -- COOrdinate format\n",
    "\n",
    "* A convenient format for fully constructing a sparse matrix using the IJV format\n",
    "* Advantages\n",
    "   * Facilitates fast conversion among sparse formats\n",
    "   * Permits duplicate entries\n",
    "   * Very fast conversion to and from CSR/CSC formats\n",
    "   * Data can be presented in any order\n",
    "   * Multiple (row,col),data specs \"sum\" the data\n",
    "* Disadvantages\n",
    "   * does not directly support:\n",
    "      * arithmetic operations\n",
    "      * slicing"
   ]
  },
  {
   "cell_type": "code",
   "execution_count": null,
   "metadata": {},
   "outputs": [],
   "source": [
    "# Example from scipy.sparse.coo_matrix documentation\n",
    "# Constructing a matrix using ijv format\n",
    "from scipy.sparse import coo_matrix\n",
    "\n",
    "# 4 at (0,0), 5 at (3,3), 7 at (1,1), 9 at (0,2)\n",
    "row  = np.array([0, 3, 1, 0])\n",
    "col  = np.array([0, 3, 1, 2])\n",
    "data = np.array([4, 5, 7, 9])\n",
    "\n",
    "coo_matrix((data, (row, col)), shape=(4, 4)).toarray()"
   ]
  },
  {
   "cell_type": "markdown",
   "metadata": {},
   "source": [
    "#### DIA -- DIAgonal format\n",
    "\n",
    "* Very simple scheme\n",
    "* Diagonals in dense NumPy array of shape (n_diag, length)\n",
    "   * fixed length -> wast space a bit when far from main diagonal\n",
    "* Offset for each diagonal\n",
    "   * 0 is the main diagonal\n",
    "   * negative offset = below\n",
    "   * positive offset = above\n",
    "* Fast item-wise operations\n",
    "   * direct manipulation of NumPy data array\n",
    "* No slicing, no individual item access\n",
    "* Specialized use (e.g., solving PDEs)"
   ]
  },
  {
   "cell_type": "code",
   "execution_count": null,
   "metadata": {},
   "outputs": [],
   "source": [
    "data = np.array([[1, 2, 3, 4]]).repeat(3, axis=0)\n",
    "data"
   ]
  },
  {
   "cell_type": "code",
   "execution_count": null,
   "metadata": {},
   "outputs": [],
   "source": [
    "offsets = np.array([0, -1, 2])\n",
    "mtx = sparse.dia_matrix((data, offsets), shape=(4, 4))\n",
    "mtx   "
   ]
  },
  {
   "cell_type": "code",
   "execution_count": null,
   "metadata": {},
   "outputs": [],
   "source": [
    "mtx.todense()"
   ]
  },
  {
   "cell_type": "code",
   "execution_count": null,
   "metadata": {},
   "outputs": [],
   "source": [
    "np.info(sparse)"
   ]
  },
  {
   "cell_type": "markdown",
   "metadata": {},
   "source": [
    "### Exercise:\n",
    "\n",
    "#### Build *AND SHOW* the matrix in Example 2 from the documentation for \"sparse\"."
   ]
  },
  {
   "cell_type": "code",
   "execution_count": null,
   "metadata": {},
   "outputs": [],
   "source": [
    "# Exercise: Build AND SHOW matrix B in Example 2\n",
    "from scipy import sparse\n",
    "from numpy import array\n",
    "# Put your code in the empty cell below after running this cell\n",
    "# HINT: to \"show\" the matrix, convert it to a dense matrix!"
   ]
  },
  {
   "cell_type": "code",
   "execution_count": null,
   "metadata": {},
   "outputs": [],
   "source": []
  },
  {
   "cell_type": "code",
   "execution_count": null,
   "metadata": {
    "jupyter": {
     "source_hidden": true
    }
   },
   "outputs": [],
   "source": [
    ">>> I = array([0,0,1,3,1,0,0])\n",
    ">>> J = array([0,2,1,3,1,0,0])\n",
    ">>> V = array([1,1,1,1,1,1,1])\n",
    ">>> sparse.coo_matrix((V,(I,J)),shape=(4,4)).tocsr().toarray()"
   ]
  },
  {
   "cell_type": "markdown",
   "metadata": {},
   "source": [
    "#### Observations:\n",
    "\n",
    "* Correlated by position in each vector,\n",
    "   * The *row index* is specified in vector, *I*\n",
    "   * The *column index* is specified in vector *J*\n",
    "   * The *data value* is specified in vector *V*"
   ]
  },
  {
   "cell_type": "markdown",
   "metadata": {},
   "source": [
    "### Exercise:\n",
    "\n",
    "#### Build *AND SHOW* the following as a sparse matrix using the IJV format:\n",
    "\n",
    "```\n",
    "array([[0, 3, 0, 1],\n",
    "       [4, 0, 1, 0],\n",
    "       [5, 0, 9, 0]])\n",
    "```"
   ]
  },
  {
   "cell_type": "code",
   "execution_count": null,
   "metadata": {},
   "outputs": [],
   "source": [
    "# Exercise: Build and show the following as a sparse matrix:\n",
    "# Fill in the ellipses (\"...\") below this line\n",
    "\n",
    "I = array([...])\n",
    "J = array([...])\n",
    "V = array([...])\n",
    "A = sparse.coo_matrix((V,(I,J)),shape=(...))\n",
    "\n",
    "# Show A\n",
    "..."
   ]
  },
  {
   "cell_type": "code",
   "execution_count": null,
   "metadata": {
    "jupyter": {
     "source_hidden": true
    }
   },
   "outputs": [],
   "source": [
    "# Solution\n",
    "# Exercise: Build and show the following as a sparse matrix:\n",
    "# Fill in the ellipses (\"...\") below this line\n",
    "\n",
    "# NOTE: My solution shows how referencing the same cell yields an additive effect!\n",
    "\n",
    "I = array([0,0,1,1,2,2,2])\n",
    "J = array([1,3,0,2,0,2,2])\n",
    "V = array([3,1,4,1,5,7,2])\n",
    "A = sparse.coo_matrix((V,(I,J)),shape=(3,4))\n",
    "\n",
    "# Show A\n",
    "A.toarray()"
   ]
  },
  {
   "cell_type": "markdown",
   "metadata": {},
   "source": [
    "### So, how important is it to use a sparse matrix anyway?!\n",
    "\n",
    "* In machine learning, as the number of instances (rows, R) and features (columns, C) grow, the space required to hold the data increases (potentially N^2 growth with R*C).\n",
    "* Often, when there are many features the instantiated features per instance relative to the full feature set is low.\n",
    "* This generally leads to the need for sparse matrices in order to mathematically hold and manipulate the data in memory.\n",
    "\n",
    "#### Let's take a look at some examples..."
   ]
  },
  {
   "cell_type": "code",
   "execution_count": null,
   "metadata": {},
   "outputs": [],
   "source": [
    "# Generate a random sparse matrix\n",
    "rows, cols, density = 1000, 10000, 0.01\n",
    "\n",
    "# Exercise: Change the density value above and rerun the cell to explore the effects of other values\n",
    "\n",
    "# Create a random sparse matrix\n",
    "A = sparse.rand(rows, cols, density=density, format='csr')\n",
    "\n",
    "# ***NOTE***: Must give spy the dense matrix, hence must use .toarray() !!!\n",
    "plt.spy(A.toarray(), aspect='auto')\n",
    "\n",
    "# Count the number of non-zero entries\n",
    "nz_count = sum([np.count_nonzero(a) for a in A.nonzero()])\n",
    "tot_count = rows * cols\n",
    "print(f'{nz_count} / {tot_count} ({100*nz_count/tot_count}%) non-zero values')\n",
    "\n",
    "# Let's look at the memory usage\n",
    "#B = np.zeros((rows, cols)); bsize = B.nbytes\n",
    "bsize = 8 * rows * cols  # constant answer for dense\n",
    "asize = A.data.nbytes + A.indptr.nbytes + A.indices.nbytes\n",
    "print(f'sparse size = {asize} B, dense size = {bsize} B  (sparse size is {100*asize/bsize}% of dense))')"
   ]
  },
  {
   "cell_type": "markdown",
   "metadata": {},
   "source": [
    "### Let's see the space required as a function of density..."
   ]
  },
  {
   "cell_type": "code",
   "execution_count": null,
   "metadata": {},
   "outputs": [],
   "source": [
    "# Plot the sparse size as a function of density in random sparse matrices\n",
    "rows, cols = 1000, 10000\n",
    "densities = [10**(-x) for x in range(1,9)]\n",
    "sizes = list()\n",
    "for d in densities:\n",
    "    A = sparse.rand(rows, cols, density=d, format='csr')\n",
    "    sizes.append(A.data.nbytes + A.indptr.nbytes + A.indices.nbytes)\n",
    "plt.semilogx(densities[::-1], sizes[::-1], label='sparse')\n",
    "plt.plot(densities, [rows*cols*8]*len(sizes), label='dense')\n",
    "plt.title('Sparse size as a function of density')\n",
    "plt.xlabel('density (log scale))')\n",
    "plt.ylabel('size(B) (linear scale)')\n",
    "plt.legend(bbox_to_anchor=(1.05, 1), loc=2, borderaxespad=0.)"
   ]
  },
  {
   "cell_type": "markdown",
   "metadata": {},
   "source": [
    "### Or conversely the space required as the size (number of elements) grows for a dense (square) matrix:"
   ]
  },
  {
   "cell_type": "code",
   "execution_count": null,
   "metadata": {},
   "outputs": [],
   "source": [
    "x = np.linspace(0, 1e6, 10)\n",
    "plt.plot(x, 8.0 * (x**2) / 1e6)    \n",
    "plt.xlabel('size n')    \n",
    "plt.ylabel('memory [MB]') "
   ]
  },
  {
   "cell_type": "code",
   "execution_count": null,
   "metadata": {},
   "outputs": [],
   "source": []
  }
 ],
 "metadata": {
  "kernelspec": {
   "display_name": "Python 3",
   "language": "python",
   "name": "python3"
  },
  "language_info": {
   "codemirror_mode": {
    "name": "ipython",
    "version": 3
   },
   "file_extension": ".py",
   "mimetype": "text/x-python",
   "name": "python",
   "nbconvert_exporter": "python",
   "pygments_lexer": "ipython3",
   "version": "3.6.5"
  }
 },
 "nbformat": 4,
 "nbformat_minor": 2
}
