{
 "cells": [
  {
   "cell_type": "markdown",
   "metadata": {},
   "source": [
    "# SciPy Lesson Outline\n",
    "\n",
    "* ### SciPy Library Introduction\n",
    "   * ##### Introduce and show how to get help with the library\n",
    "   * ##### Shallow view of **spatial** package\n",
    "* ### **Optimize** Package Exploration\n",
    "   * ##### Curve Fitting\n",
    "   * ##### Minimization\n",
    "* ### **Sparse** Package Deep Dive\n",
    "   * ##### Tweet emoji prediction problem\n",
    "      * ##### Bag of Words vectorization\n",
    "      * ##### Multivariate Least Squares regression"
   ]
  },
  {
   "cell_type": "markdown",
   "metadata": {
    "ein.tags": "worksheet-0",
    "slideshow": {
     "slide_type": "-"
    }
   },
   "source": [
    "# SciPy Library Introduction\n",
    "\n",
    "## A preliminary note on the term \"SciPy\"\n",
    "\n",
    "> \"SciPy refers to several realted but distinct entities:\n",
    "> \n",
    "> * The SciPy ecosystem, a collection of open source software for scientific computing in Python. \n",
    "> * The community of people who use and develop this stack. \n",
    "> * Several conferences dedicated to scientific computing in Python - SciPy, EuroSciPy and SciPy.in. \n",
    "> * The SciPy library, one component of the SciPy stack, providing many numerical routines.\" \n",
    ">> (ref: [scipy.org about](https://www.scipy.org/about.html))\n",
    "\n",
    "### SciPy.org Core Packages:\n",
    "\n",
    "Package | Description\n",
    "--- | ---\n",
    "Numpy | Base N-dimensional array package\n",
    "**SciPy library** | Fundamental library for scientific computing\n",
    "Matplotlib | Comprehensive 2D Plotting\n",
    "IPython | Enhanced Interactive Console\n",
    "Sympy | Symbolic mathematics\n",
    "Pandas | Data structures & analysis\n",
    "\n",
    "This discussion will focus on the SciPy Library."
   ]
  },
  {
   "cell_type": "raw",
   "metadata": {},
   "source": []
  },
  {
   "cell_type": "markdown",
   "metadata": {
    "ein.tags": "worksheet-0",
    "slideshow": {
     "slide_type": "-"
    }
   },
   "source": [
    "## What is the SciPy Library?\n",
    "\n",
    "> \"The SciPy library, a collection of numerical algorithms and domain-specific toolboxes, including signal processing, optimization, statistics and much more.\"\n",
    ">> (ref: [scipy.org about](https://www.scipy.org/about.html))\n",
    "\n",
    "> \"The SciPy library is one of the core packages that make up the SciPy stack. It provides many user-friendly and efficient numerical routines such as routines for numerical integration and optimization.\"\n",
    ">> (ref: [scipy.org scipylib](https://www.scipy.org/scipylib/index.html))\n",
    "\n",
    "> \"SciPy contains additional routines needed in scientific work: for example, routines for computing integrals numerically, solving differential equations, optimization, and sparse matrices.\"\n",
    ">> (ref: [scipy.org getting-started](https://www.scipy.org/getting-started.html))\n",
    "\n",
    "> \"Almost all of the new code added to scipy has in common that it’s potentially useful in multiple scientific domains\"\n",
    ">> (ref: [contributing to scipy](https://scipy.github.io/devdocs/hacking.html))\n",
    "\n",
    "> \"SciPy (pronounced “Sigh Pie”) is open-source software for mathematics, science, and engineering.\"\n",
    ">> (ref: [scipy 1.1.0 reference](https://docs.scipy.org/doc/scipy-1.1.0/reference/))\n",
    "\n",
    "Furthermore, we'll only discuss a small subset of the library here with the goal of getting acquainted with the library and its typical usages. For additional details beyond those covered today, including references and tutorials, visit the latest documentation at [scipy.org (currently v 1.1.0](https://docs.scipy.org/doc/scipy-1.1.0/reference/))"
   ]
  },
  {
   "cell_type": "raw",
   "metadata": {},
   "source": []
  },
  {
   "cell_type": "markdown",
   "metadata": {},
   "source": [
    "## Working with the SciPy Library\n",
    "\n",
    "### SciPy Subpackages\n",
    "\n",
    "Subpackage | Description\n",
    "--- | ---\n",
    "cluster | Clustering algorithms\n",
    "constants | Physical and mathematical constants\n",
    "fftpack | Fast Fourier Transform routines\n",
    "integrate | Integration and ordinary differential equation solvers\n",
    "interpolate | Interpolation and smoothing splines\n",
    "io | Input and Output\n",
    "linalg | Linear algebra\n",
    "ndimage | N-dimensional image processing\n",
    "odr | Orthogonal distance regression\n",
    "**optimize** | Optimization and root-finding routines\n",
    "signal | Signal processing\n",
    "**sparse** | Sparse matrices and associated routines\n",
    "**spatial** | Spatial data structures and algorithms\n",
    "special | Special functions\n",
    "stats | Statistical distributions and functions\n",
    "\n",
    "#### Subpackages are typically imported as follows:\n",
    "\n",
    "```python\n",
    ">>> from scipy import linalg, optimize\n",
    "```\n",
    "\n",
    "### Other caveats\n",
    "* SciPy is built on Numpy\n",
    "   * Many basic array functions from numpy are available at the top-level of the scipy package\n",
    "* Many common functions from subpackages are also available in the scipy namespace\n",
    "* Get help through online documentation or interactively in python:\n",
    "   * [https://docs.scipy.org/](https://docs.scipy.org/)\n",
    "   * pydoc's *help* method\n",
    "   * np.info() -- wrapper around pydoc *help* method"
   ]
  },
  {
   "cell_type": "code",
   "execution_count": null,
   "metadata": {},
   "outputs": [],
   "source": [
    "# Import conventions adopted by the community\n",
    "import numpy as np\n",
    "import matplotlib as mpl\n",
    "import matplotlib.pyplot as plt\n",
    "import scipy\n",
    "\n",
    "# NOTE: Typically, you would only import what you need.\n",
    "#       All submodules are included here for the interactive session below.\n",
    "from scipy import cluster, constants, fftpack, integrate, interpolate, io, linalg, ndimage, odr, optimize, signal, sparse, spatial, special, stats"
   ]
  },
  {
   "cell_type": "markdown",
   "metadata": {},
   "source": [
    "## Let's explore a little bit!"
   ]
  },
  {
   "cell_type": "code",
   "execution_count": null,
   "metadata": {},
   "outputs": [],
   "source": [
    "# Get help from np.info about np.info !!!\n",
    "np.info(np.info)"
   ]
  },
  {
   "cell_type": "code",
   "execution_count": null,
   "metadata": {},
   "outputs": [],
   "source": [
    "# How about the scipy library itself?\n",
    "np.info(scipy)"
   ]
  },
  {
   "cell_type": "raw",
   "metadata": {},
   "source": []
  },
  {
   "cell_type": "markdown",
   "metadata": {},
   "source": [
    "Now, it's your turn to try with a goal in mind...\n",
    "\n",
    "### Exercise:\n",
    "\n",
    "#### Part 1: Use np.info to learn how to generate the convex hull for a set of points. \n",
    "###### HINT: get info for scipy.spatial.ConvexHull\n",
    "\n",
    "#### Part 2: Generate the convex hull for a random set of 30 2-d points.\n",
    "###### HINT: See the example in the ConvexHull documentation.\n",
    "\n",
    "#### Part 3: Display the convex hull for the points.\n",
    "###### HINT: See the \"Plot It\" code for the example in the documentation!"
   ]
  },
  {
   "cell_type": "code",
   "execution_count": null,
   "metadata": {},
   "outputs": [],
   "source": [
    "# Exercise Part 1: Get help with scipy.spatial.ConvexHull\n",
    "# HINT: scipy has already been imported above.\n",
    "# Your code goes below this line.\n"
   ]
  },
  {
   "cell_type": "code",
   "execution_count": null,
   "metadata": {},
   "outputs": [],
   "source": [
    "# Exercise Part 2: Generate the convex hull for a random set of 30 2-d points.\n",
    "# HINT: See the example in the ConvexHull documentation.\n",
    "# Put your code in the empty cell below"
   ]
  },
  {
   "cell_type": "code",
   "execution_count": null,
   "metadata": {},
   "outputs": [],
   "source": []
  },
  {
   "cell_type": "code",
   "execution_count": null,
   "metadata": {},
   "outputs": [],
   "source": [
    "# Exercise Part 3: Display the convex hull for the points.\n",
    "# HINT: See the \"Plot It\" code for the example in the documentation!\n",
    "# Alternate Method: See documentation for scipy.spatial.convex_hull_plot_2d.\n",
    "# Put your code in the empty cell below"
   ]
  },
  {
   "cell_type": "code",
   "execution_count": null,
   "metadata": {},
   "outputs": [],
   "source": []
  },
  {
   "cell_type": "markdown",
   "metadata": {},
   "source": [
    "##### NOTES:\n",
    "\n",
    "* np.info works for any documented function, including your own!\n",
    "* np.info(x) differs primarily from python's help(x) in formatting"
   ]
  },
  {
   "cell_type": "raw",
   "metadata": {},
   "source": []
  }
 ],
 "metadata": {
  "kernelspec": {
   "display_name": "Python 3",
   "language": "python",
   "name": "python3"
  },
  "language_info": {
   "codemirror_mode": {
    "name": "ipython",
    "version": 3
   },
   "file_extension": ".py",
   "mimetype": "text/x-python",
   "name": "python",
   "nbconvert_exporter": "python",
   "pygments_lexer": "ipython3",
   "version": "3.6.5"
  },
  "name": "Untitled.ipynb"
 },
 "nbformat": 4,
 "nbformat_minor": 2
}
