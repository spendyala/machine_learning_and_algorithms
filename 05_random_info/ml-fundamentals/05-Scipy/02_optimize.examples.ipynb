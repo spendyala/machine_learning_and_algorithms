{
 "cells": [
  {
   "cell_type": "markdown",
   "metadata": {},
   "source": [
    "# Next, let's look at various optimization algorithms..."
   ]
  },
  {
   "cell_type": "code",
   "execution_count": null,
   "metadata": {},
   "outputs": [],
   "source": [
    "import numpy as np\n",
    "import scipy.optimize as opt\n",
    "import matplotlib.pylab as plt\n",
    "from mpl_toolkits.mplot3d import Axes3D\n",
    "from matplotlib import cm\n",
    "from matplotlib.colors import LogNorm"
   ]
  },
  {
   "cell_type": "markdown",
   "metadata": {},
   "source": [
    "## Himmelblau Function\n",
    "\n",
    "* Himmelblau's function is a multi-modal function, used to test the performance of optimization algorithms.\n",
    "* It has\n",
    "   * one local maximum at x = − 0.270845 and y = − 0.923039 where f(x, y) = 181.617\n",
    "   * four identical local minima:\n",
    "      * f(3.0, 2.0) = 0.0\n",
    "      * f(−2.805118,  3.131312) = 0.0\n",
    "      * f(−3.779310, −3.283186) = 0.0\n",
    "      * f( 3.584428, −1.848126) = 0.0"
   ]
  },
  {
   "cell_type": "code",
   "execution_count": null,
   "metadata": {},
   "outputs": [],
   "source": [
    "def himmelblau(X, Y):\n",
    "    return (X**2 + Y - 11)**2 + (X + Y**2 - 7)**2\n",
    "\n",
    "# Plot the optimization points over the graph\n",
    "def plot_3d(X, Y, Z, opt_pts=[], scatter_opt=False, quiet=False):\n",
    "    fig = plt.figure(figsize=(10, 5))\n",
    "    ax = Axes3D(fig, azim = 200, elev = 49)\n",
    "    ax.plot_surface(X, Y, Z, rstride=1, cstride=1, norm=LogNorm(), cmap=cm.jet, linewidth=0.2)\n",
    "    plt.xlabel(\"x\")\n",
    "    plt.ylabel(\"y\")\n",
    "    if len(opt_pts) > 0:\n",
    "        opt_pts = np.vstack(opt_pts)\n",
    "        opt_evals = himmelblau(opt_pts[:,0], opt_pts[:,1])\n",
    "        if scatter_opt:\n",
    "            ax.scatter(opt_pts[:,0], opt_pts[:,1], opt_evals, c='b', alpha=0.75)\n",
    "        else:\n",
    "            ax.plot(opt_pts[:,0], opt_pts[:,1], opt_evals, c='b', alpha=0.75)\n",
    "        print(f'Solution: {opt_pts[-1]}')\n",
    "    elif not quiet:\n",
    "        print(f'No solution found.')\n",
    "\n",
    "X = np.arange(-6, 6, 0.1)\n",
    "Y = np.arange(-6, 6, 0.1)\n",
    "X, Y = np.meshgrid(X, Y)\n",
    "Z = himmelblau(X, Y)\n",
    "plot_3d(X, Y, Z, quiet=True)"
   ]
  },
  {
   "cell_type": "raw",
   "metadata": {},
   "source": []
  },
  {
   "cell_type": "markdown",
   "metadata": {},
   "source": [
    "## Nelder-Mead Downhill Simplex\n",
    "\n",
    "* Minimize using the downhill simplex algorithm.\n",
    "* This algorithm only uses function values, not derivatives or second derivatives.\n"
   ]
  },
  {
   "cell_type": "code",
   "execution_count": null,
   "metadata": {},
   "outputs": [],
   "source": [
    "def himmelblau2(x_and_y):\n",
    "    return himmelblau(*x_and_y)\n",
    "\n",
    "result = opt.fmin(himmelblau2, (0, 0), retall=True)\n",
    "iters = np.vstack(result[1])\n",
    "\n",
    "plot_3d(X, Y, Z, iters)"
   ]
  },
  {
   "cell_type": "raw",
   "metadata": {},
   "source": []
  },
  {
   "cell_type": "markdown",
   "metadata": {},
   "source": [
    "## Powell Method\n",
    "\n",
    "* Minimize a function using modified Powell's method.\n",
    "* This method only uses function values, not derivatives."
   ]
  },
  {
   "cell_type": "code",
   "execution_count": null,
   "metadata": {},
   "outputs": [],
   "source": [
    "result = opt.fmin_powell(himmelblau2, (0, 0), retall=True)\n",
    "iters = np.vstack(result[1])\n",
    "\n",
    "plot_3d(X, Y, Z, iters)"
   ]
  },
  {
   "cell_type": "markdown",
   "metadata": {},
   "source": [
    "## Conjugate Gradient\n",
    "\n",
    "* Minimize a function using a nonlinear conjugate gradient algorithm."
   ]
  },
  {
   "cell_type": "code",
   "execution_count": null,
   "metadata": {},
   "outputs": [],
   "source": [
    "result = opt.fmin_cg(himmelblau2, (0, 0), retall=True)\n",
    "iters = np.vstack(result[1])\n",
    "\n",
    "plot_3d(X, Y, Z, iters)"
   ]
  },
  {
   "cell_type": "markdown",
   "metadata": {},
   "source": [
    "## BFGS (Quasi-Newton)\n",
    "\n",
    "* Optimize the function, f, whose gradient is given by fprime using the quasi-Newton method of Broyden, Fletcher, Goldfarb, and Shanno (BFGS)"
   ]
  },
  {
   "cell_type": "code",
   "execution_count": null,
   "metadata": {},
   "outputs": [],
   "source": [
    "result = opt.fmin_bfgs(himmelblau2, (0, 0), retall=True)\n",
    "iters = np.vstack(result[1])\n",
    "\n",
    "plot_3d(X, Y, Z, iters)"
   ]
  },
  {
   "cell_type": "markdown",
   "metadata": {},
   "source": [
    "## Basin Hopping\n",
    "\n",
    "* Basin-hopping is a two-phase method that combines a global stepping algorithm with local minimization at each step.  Designed to mimic the natural process of energy minimization of clusters of atoms, it works well for similar problems with \"funnel-like, but rugged\" energy landscapes.\n",
    "* As the step-taking, step acceptance, and minimization methods are all customizable, this function can also be used to implement other two-phase methods.\n"
   ]
  },
  {
   "cell_type": "code",
   "execution_count": null,
   "metadata": {},
   "outputs": [],
   "source": [
    "iters = []\n",
    "def himmelblau3(x_and_y):\n",
    "    iters.append(x_and_y)\n",
    "    return himmelblau(*x_and_y)\n",
    "\n",
    "result = opt.basinhopping(himmelblau3, (0, 0))\n",
    "iters = np.vstack(iters)\n",
    "\n",
    "print(result)\n",
    "plot_3d(X, Y, Z, iters, scatter_opt=True)"
   ]
  },
  {
   "cell_type": "markdown",
   "metadata": {},
   "source": [
    "## Evolutionary\n",
    "\n",
    "* Finds the global minimum of a multivariate function.\n",
    "* Differential Evolution is stochastic in nature (does not use gradient methods) to find the minimium, and can search large areas of candidate space, but often requires larger numbers of function evaluations than conventional gradient based techniques.\n"
   ]
  },
  {
   "cell_type": "code",
   "execution_count": null,
   "metadata": {},
   "outputs": [],
   "source": [
    "iters = []\n",
    "def himmelblau3(x_and_y):\n",
    "    iters.append(x_and_y)\n",
    "    return himmelblau(*x_and_y)\n",
    "\n",
    "result = opt.differential_evolution(himmelblau3, bounds=[(-6,6), (-6,6)])\n",
    "iters = np.vstack(iters)\n",
    "\n",
    "print(result)\n",
    "plot_3d(X, Y, Z, iters, scatter_opt=True)"
   ]
  },
  {
   "cell_type": "code",
   "execution_count": null,
   "metadata": {},
   "outputs": [],
   "source": []
  }
 ],
 "metadata": {
  "kernelspec": {
   "display_name": "Python 3",
   "language": "python",
   "name": "python3"
  },
  "language_info": {
   "codemirror_mode": {
    "name": "ipython",
    "version": 3
   },
   "file_extension": ".py",
   "mimetype": "text/x-python",
   "name": "python",
   "nbconvert_exporter": "python",
   "pygments_lexer": "ipython3",
   "version": "3.6.5"
  }
 },
 "nbformat": 4,
 "nbformat_minor": 2
}
