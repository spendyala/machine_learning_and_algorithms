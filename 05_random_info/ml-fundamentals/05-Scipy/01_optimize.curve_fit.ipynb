{
 "cells": [
  {
   "cell_type": "markdown",
   "metadata": {},
   "source": [
    "## SciPy's optimize package\n",
    "\n",
    "* The scipy.optimize package provides several commonly used optimization algorithms including\n",
    "   * Unconstrained and constrained minimization of multivariate scalar functions (minimize) using a variety of algorithms\n",
    "   * Global (brute-force) optimization routines (e.g., anneal, basinhopping)\n",
    "   * Least-squares minimization (leastsq) and curve fitting (curve_fit) algorithms\n",
    "   * Scalar univariate functions minimizers (minimize_scalar) and root finders (newton)\n",
    "   * Multivariate equation system solvers (root) using a variety of algorithms (e.g., hybrid Powell, Levenberg-Marquardt or large-scale methods such as Newton-Krylov).\n"
   ]
  },
  {
   "cell_type": "code",
   "execution_count": null,
   "metadata": {},
   "outputs": [],
   "source": [
    "import numpy as np\n",
    "import os\n",
    "import matplotlib as mpl\n",
    "import matplotlib.pyplot as plt\n",
    "from scipy import optimize"
   ]
  },
  {
   "cell_type": "raw",
   "metadata": {
    "jupyter": {
     "source_hidden": true
    }
   },
   "source": [
    "os.getcwd()"
   ]
  },
  {
   "cell_type": "markdown",
   "metadata": {},
   "source": [
    "### Let's get our feet wet with the **curve_fit** function...\n",
    "\n",
    "* Uses non-linear least squares to fit a function, f, to data.\n",
    "* Assumes ydata = f(xdata, *params) + eps"
   ]
  },
  {
   "cell_type": "markdown",
   "metadata": {},
   "source": [
    "<img src=\"images/xkcd-curve-fitting.png\" height=\"200\" />"
   ]
  },
  {
   "cell_type": "markdown",
   "metadata": {},
   "source": [
    "### ...and try our hand at curve fitting with a parametric function or two!"
   ]
  },
  {
   "cell_type": "code",
   "execution_count": null,
   "metadata": {},
   "outputs": [],
   "source": [
    "## Load and show the data we'll fit\n",
    "\n",
    "pts = np.load('images/xkcd.points.npy')\n",
    "plt.gca().invert_yaxis()\n",
    "plt.scatter(*pts.T)"
   ]
  },
  {
   "cell_type": "code",
   "execution_count": null,
   "metadata": {},
   "outputs": [],
   "source": [
    "## Preliminary definitions and bookkeeping\n",
    "\n",
    "from scipy.optimize import curve_fit\n",
    "\n",
    "# Put the points in order for line plots\n",
    "sorted_pts = pts[pts[:,0].argsort()]\n",
    "xdata, ydata = sorted_pts[:,0], sorted_pts[:,1]\n",
    "\n",
    "\n",
    "# Define a function to compute r^2 for assessing goodness of fit\n",
    "# NOTE: r^2 range is [0,1] .The closer to 1 the better the fit.\n",
    "def get_r2(func, popt, xdata, ydata, yhat=None):\n",
    "    '''\n",
    "    R^2 measures how much variance is captured by the model.\n",
    "    '''\n",
    "    if yhat is None:\n",
    "        yhat = func(xdata, *popt)\n",
    "    sse = ((ydata - yhat)**2).sum()\n",
    "    avg_y = np.mean(ydata)\n",
    "    sst = ((ydata - avg_y)**2).sum()\n",
    "    r2 = 1 - sse/sst\n",
    "    return r2\n",
    "\n",
    "# Define a convenience function for plotting the fitted curve with the points\n",
    "def show_curve(func, popt, pcov, xdata, ydata):\n",
    "    plt.gca().invert_yaxis()\n",
    "    plt.plot(xdata, func(xdata, *popt), 'g--')\n",
    "    plt.scatter(xdata, ydata, c='blue')\n",
    "    plt.show()\n",
    "    print(f'params={popt},\\npcov={pcov},\\nerror={np.sqrt(np.diag(pcov))},\\nr^2={get_r2(func, popt, xdata, ydata)}')"
   ]
  },
  {
   "cell_type": "markdown",
   "metadata": {},
   "source": [
    "### Step 1: Define the parametric function to fit"
   ]
  },
  {
   "cell_type": "code",
   "execution_count": null,
   "metadata": {},
   "outputs": [],
   "source": [
    "# Let's just do a linear function for starters:\n",
    "def func_lin(x, m, b):\n",
    "    # y = mx + b\n",
    "    # curve_fit will optimize the parameters m (slope) and b (y-intercept)\n",
    "    return m * x + b"
   ]
  },
  {
   "cell_type": "markdown",
   "metadata": {},
   "source": [
    "### Step 2: Call curve_fit with the function and data"
   ]
  },
  {
   "cell_type": "code",
   "execution_count": null,
   "metadata": {},
   "outputs": [],
   "source": [
    "# get the optimal values for the function's parameters and their estimated covariance\n",
    "popt, pcov = optimize.curve_fit(func_lin, xdata, ydata)\n",
    "\n",
    "show_curve(func_lin, popt, pcov, xdata, ydata)"
   ]
  },
  {
   "cell_type": "markdown",
   "metadata": {},
   "source": [
    "### Exercise: Choose and fit another (parametric) curve from the xkcd cartoon to these points and show the results. How did your curve compare to the cartoon? Is your function a better or worse fit for the data than linear?\n",
    "\n",
    "For example, to fit a quadratic curve use the following function:\n",
    "```\n",
    "   y = ax^2 + bx + c\n",
    "```\n",
    "\n",
    "Where the parameters to be fit are a, b, and c."
   ]
  },
  {
   "cell_type": "code",
   "execution_count": null,
   "metadata": {},
   "outputs": [],
   "source": [
    "# Exercise: Fit a parametric curve to the points represented by xdata and ydata\n",
    "\n",
    "# Step 1: Define a function (with the correct parameters)\n",
    "def func_2(...):\n",
    "    # Define the function here\n",
    "    pass\n",
    "    \n",
    "# Step 2: Call curve_fit (with the correct parameters)\n",
    "popt, pcov = optimize.curve_fit(...)\n",
    "\n",
    "# Show the curve\n",
    "show_curve(func_2, popt, pcov, xdata, ydata)"
   ]
  },
  {
   "cell_type": "code",
   "execution_count": null,
   "metadata": {
    "jupyter": {
     "source_hidden": true
    }
   },
   "outputs": [],
   "source": [
    "# Solution\n",
    "# Exercise: Fit a parametric curve to the points represented by xdata and ydata\n",
    "\n",
    "# Step 1: Define a function (with the correct parameters)\n",
    "def func_2(x, a, b, c):\n",
    "    return a * x**2 + b * x + c\n",
    "    \n",
    "# Step 2: Call curve_fit (with the correct parameters)\n",
    "popt, pcov = optimize.curve_fit(func_2, xdata, ydata)\n",
    "\n",
    "# Show the curve\n",
    "show_curve(func_2, popt, pcov, xdata, ydata)"
   ]
  },
  {
   "cell_type": "code",
   "execution_count": null,
   "metadata": {
    "jupyter": {
     "source_hidden": true
    }
   },
   "outputs": [],
   "source": [
    "# Defining the \"no slope\" curve illustrates how we're relying on array, not scalar, calculations\n",
    "def func_no_slope(x, b):\n",
    "    return np.ones(x.shape) * b\n",
    "popt,pcov=optimize.curve_fit(func_no_slope, xdata, ydata)\n",
    "show_curve(func_no_slope, popt, pcov, xdata, ydata)"
   ]
  },
  {
   "cell_type": "code",
   "execution_count": null,
   "metadata": {},
   "outputs": [],
   "source": [
    "### And it's that simple. Feel free to define other functions to fit!"
   ]
  },
  {
   "cell_type": "code",
   "execution_count": null,
   "metadata": {},
   "outputs": [],
   "source": []
  }
 ],
 "metadata": {
  "kernelspec": {
   "display_name": "Python 3",
   "language": "python",
   "name": "python3"
  },
  "language_info": {
   "codemirror_mode": {
    "name": "ipython",
    "version": 3
   },
   "file_extension": ".py",
   "mimetype": "text/x-python",
   "name": "python",
   "nbconvert_exporter": "python",
   "pygments_lexer": "ipython3",
   "version": "3.6.5"
  }
 },
 "nbformat": 4,
 "nbformat_minor": 2
}
