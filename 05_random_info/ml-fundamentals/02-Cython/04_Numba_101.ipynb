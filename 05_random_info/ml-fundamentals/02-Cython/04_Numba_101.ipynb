{
 "cells": [
  {
   "cell_type": "markdown",
   "metadata": {},
   "source": [
    "# Numba_101\n",
    "\n",
    "Numba gives you the power to speed up your applications with high performance functions written directly in Python. With a few annotations, array-oriented and math-heavy Python code can be just-in-time compiled to native machine instructions, similar in performance to C, C++ and Fortran, without having to switch languages or Python interpreters.\n",
    "\n",
    "Numba works by generating optimized machine code using the LLVM compiler infrastructure at import time, runtime, or statically (using the included pycc tool). Numba supports compilation of Python to run on either CPU or GPU hardware, and is designed to integrate with the Python scientific software stack.\n",
    "\n",
    "\n"
   ]
  },
  {
   "cell_type": "code",
   "execution_count": 1,
   "metadata": {},
   "outputs": [],
   "source": [
    "import numpy as np\n",
    "from numba import jit"
   ]
  },
  {
   "cell_type": "markdown",
   "metadata": {},
   "source": [
    "Let's first talk about some basic numpy array math.\n",
    "Let's start with a random array and take the sum with the builtin `sum` function and our own function."
   ]
  },
  {
   "cell_type": "code",
   "execution_count": 2,
   "metadata": {},
   "outputs": [
    {
     "name": "stdout",
     "output_type": "stream",
     "text": [
      "12.6 µs ± 171 ns per loop (mean ± std. dev. of 7 runs, 100000 loops each)\n",
      "7.27 µs ± 108 ns per loop (mean ± std. dev. of 7 runs, 100000 loops each)\n",
      "2.7 µs ± 62 ns per loop (mean ± std. dev. of 7 runs, 100000 loops each)\n"
     ]
    }
   ],
   "source": [
    "random_array = np.random.rand(100)\n",
    "\n",
    "def python_sum(A):\n",
    "    s = 0\n",
    "    for i in range(A.shape[0]):\n",
    "        s += A[i]\n",
    "    return s\n",
    "%timeit python_sum(random_array)\n",
    "%timeit sum(random_array)\n",
    "%timeit np.sum(random_array)"
   ]
  },
  {
   "cell_type": "markdown",
   "metadata": {},
   "source": [
    "We can see that the builtin `sum` method is much faster than our own sum method.\n",
    "But what would happen if we decorate python_sum with numba?"
   ]
  },
  {
   "cell_type": "code",
   "execution_count": null,
   "metadata": {},
   "outputs": [],
   "source": [
    "numba_sum = jit(python_sum)"
   ]
  },
  {
   "cell_type": "markdown",
   "metadata": {},
   "source": [
    "```python\n",
    "numba_sum = jit(python_sum)\n",
    "```\n",
    "is equivilent to\n",
    "```python\n",
    "@jit\n",
    "def numba_sum():\n",
    "    same logic\n",
    "```"
   ]
  },
  {
   "cell_type": "code",
   "execution_count": null,
   "metadata": {},
   "outputs": [],
   "source": [
    "%timeit numba_sum(random_array)\n",
    "%timeit numba_sum(random_array)"
   ]
  },
  {
   "cell_type": "markdown",
   "metadata": {},
   "source": [
    "We can see that there is about a 10x increase in speed using numba over np.sum\n",
    "\n",
    "but we also had a very large overhead fron jit compilation. The first run was very slow, but the next 13 were very quick.\n",
    "\n",
    "Numba is fantastic for numeric computation.\n",
    "Numba does not work well with Strings or other Python objects (currently).\n",
    "\n",
    "Numba jit has two modes of operation. `python` and `nopython`.\n",
    "in `python` mode, python objects are used in the function\n",
    "in `nopython` mode, native types are used in the function.\n",
    "The default for jit is `nopython` mode, and `python` mode is used if the jit compiler can't compile to `nopython` mode\n",
    "\n",
    "`nopython` mode is much faster so you can raise an exception if `nopython` mode can't be compiled with @jit(nopython=true) or the decorator @njit"
   ]
  },
  {
   "cell_type": "code",
   "execution_count": null,
   "metadata": {},
   "outputs": [],
   "source": [
    "from numba import njit\n",
    "\n",
    "@njit\n",
    "def concat_strings(a,b):\n",
    "    return a + b\n",
    "concat_strings('a','b')"
   ]
  },
  {
   "cell_type": "markdown",
   "metadata": {},
   "source": [
    "The jit compiler does not have support for strings or python objects so it raised the exception.\n",
    "\n",
    "## Release the GIL\n",
    "Numba jit can also be used to release the gil and do computation in paralell.\n",
    "Let's make a 2d array and paralellize the sum.\n",
    "\n",
    "Numba has a function `prange` it is it stands for parallel range and acts like Pythons builtin function `range` but tells the jit compiler to use multithreading."
   ]
  },
  {
   "cell_type": "code",
   "execution_count": null,
   "metadata": {},
   "outputs": [],
   "source": [
    "from numba import prange\n",
    "random_array_2d = np.random.rand(10000, 40)\n",
    "\n",
    "@njit\n",
    "def sequential_sum(A):\n",
    "    s = 0\n",
    "    results = np.zeros(A.shape[1])\n",
    "    for i in prange(A.shape[1]):\n",
    "        results[i] = np.sum(A[:,i])\n",
    "    return results\n",
    "\n",
    "@njit(parallel=True, nogil=True)\n",
    "def parallel_sum(A):\n",
    "    s = 0\n",
    "    results = np.zeros(A.shape[1])\n",
    "    for i in prange(A.shape[1]):\n",
    "        results[i] = np.sum(A[:,i])\n",
    "    return results\n",
    "# To show the outputs are the same. Let's print the results\n",
    "\n",
    "print(sequential_sum(random_array_2d))\n",
    "print(parallel_sum(random_array_2d))\n"
   ]
  },
  {
   "cell_type": "markdown",
   "metadata": {},
   "source": [
    "Now let's time the differences"
   ]
  },
  {
   "cell_type": "code",
   "execution_count": null,
   "metadata": {},
   "outputs": [],
   "source": [
    "%timeit sequential_sum(random_array_2d)\n",
    "%timeit parallel_sum(random_array_2d)"
   ]
  },
  {
   "cell_type": "markdown",
   "metadata": {},
   "source": [
    "So we can see that running it in parallel was actually faster.\n",
    "But let's compare the speed to numpy sum"
   ]
  },
  {
   "cell_type": "code",
   "execution_count": null,
   "metadata": {},
   "outputs": [],
   "source": [
    "%timeit np.sum(random_array_2d, axis=0)"
   ]
  },
  {
   "cell_type": "markdown",
   "metadata": {},
   "source": [
    "## Conclusion\n",
    "We can see that our Numba implementation was slower than NumPy.\n",
    "\n",
    "The takeaway is that Numba can see performance gains by threading and releasing the GIL but NumPy is very fast and shouldn't be reinvented.\n",
    "\n",
    "For code that NumPy doesn't have a function for, Numba can be a great tool for performance."
   ]
  },
  {
   "cell_type": "code",
   "execution_count": null,
   "metadata": {},
   "outputs": [],
   "source": []
  }
 ],
 "metadata": {
  "kernelspec": {
   "display_name": "Python 3",
   "language": "python",
   "name": "python3"
  },
  "language_info": {
   "codemirror_mode": {
    "name": "ipython",
    "version": 3
   },
   "file_extension": ".py",
   "mimetype": "text/x-python",
   "name": "python",
   "nbconvert_exporter": "python",
   "pygments_lexer": "ipython3",
   "version": "3.6.5"
  }
 },
 "nbformat": 4,
 "nbformat_minor": 2
}
