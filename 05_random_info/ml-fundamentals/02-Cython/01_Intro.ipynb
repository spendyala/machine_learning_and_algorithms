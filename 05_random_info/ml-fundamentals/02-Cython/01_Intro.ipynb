{
 "cells": [
  {
   "cell_type": "markdown",
   "metadata": {},
   "source": [
    "![cython](https://upload.wikimedia.org/wikipedia/en/thumb/c/ce/Cython-logo.svg/1200px-Cython-logo.svg.png)\n",
    "![numba](https://numba.pydata.org/_static/numba_blue_icon_rgb.png)\n",
    "\n",
    "## Objective\n",
    "Python is a fantastic language. It's quick to prototype, but __can__ be slow for computationally intensive tasks.\n",
    "In this tutorial we will learn how to write performant Python code by using Cython and Numba.\n",
    "> When we say Performant, we mean C performance.\n",
    "\n",
    "### Overview\n",
    "1. Learn how python is can be slow\n",
    "2. See the performance gains of Cython\n",
    "3. Learn how to write Cython code\n",
    "4. Learn about Numba and how to use it\n",
    "5. Use Cython and Numba for machine learning"
   ]
  },
  {
   "cell_type": "markdown",
   "metadata": {},
   "source": [
    "# Python Speed of development vs execution speed.\n",
    "\n",
    "![](https://slideplayer.com/slide/8720100/26/images/4/Programmer+Efficiency+&+Performance.jpg)\n",
    "\n",
    "\n"
   ]
  },
  {
   "cell_type": "markdown",
   "metadata": {},
   "source": [
    "## Why does Python have a bad reputation for being slow?\n",
    "\n",
    "Python is an interpreted and dynamically typed language.\n",
    "Every line in python checks types and memory allocation, which is very slow.\n",
    "All objects in python can be mutated and are stored in dictionaries so dictionary lookups are used for every variable, method/function call, etc...\n",
    "This makes Python perfect for fast prototyping, and slow to execute.\n",
    "\n",
    "Slow Python only runs pure `non-pythonic` Python code.\n",
    "* Using loops instead of comprehension\n",
    "* not using iterators\n",
    "* etc\n",
    "Naive Python developers make these mistakes often and it slows down their code.\n",
    "Python has many optimized built in functions. Use them.\n",
    "\n",
    "Performant Python uses libraries with compiled code to speed up execution.\n",
    "Tools like Numpy and Tensorflow have dramatically increased the performance of Python.\n",
    "It is so fast that Python is now the industry standard for machine learning.\n",
    "\n",
    "\n",
    "## How are Numpy and Tensorflow fast?\n",
    "\n",
    "NumPy isn't pure python.\n",
    "It uses `Fortran` and `C` extensions for performance code.\n",
    "If NumPy ran pure Python code it would be much slower.\n",
    "\n",
    "\n",
    "Tensorflow is a tool for creating neural networks. It uses highly optimized C code to run efficiently on either a CPU or a GPU. It is incredibly difficult to write code that trains neural networks faster than Tensorflow. MxNet claims to be faster, but it's another Python package.\n",
    "\n",
    "With the Python API it is relatively easy to implement deep networks in Tensorflow. \n",
    "\n",
    "## Where does that leave us when we need custom fast code?\n",
    "\n",
    "Python natively supports linking to other languages.\n",
    "You can read the [docs here](https://wiki.python.org/moin/IntegratingPythonWithOtherLanguages).\n",
    "It is very difficult to implement.\n",
    "Bridging the types is very gross code and is notoriously difficult to debug.\n",
    "\n",
    "\n",
    "## Cython\n",
    "\n",
    "Instead of writing `C` extensions, we can use `Cython`.\n",
    "\n",
    "> Cython is a superset of the Python programming language, designed to give C-like performance with code that is written mostly in Python. Cython is a compiled language that generates CPython extension modules.\n",
    "\n",
    "Cython translates code directly to C and then binary.\n",
    "Cython also does many checks for us at the compile stage to help prevent possible issues that are easy to forget when writing `C` code.\n",
    "\n",
    "Cython can import `C` code.\n",
    "If there is a `C` library you want to use, just import it to your Cython file.\n",
    "We won't review this in our tutorial, but you can read about it [here](https://cython.readthedocs.io/en/latest/src/tutorial/clibraries.html)\n",
    "\n",
    "Both `ScikitLearn` and `spacy` use `Cython` for performant Python code.\n",
    "\n",
    "> Note: jupyter compiles Cython code before running. If you aren't running in jupyter there is a compile stage before running.\n",
    "\n",
    "### ScikitLearn and Cython\n",
    "\n",
    "ScikitLearn recommends the following to write performant code.\n",
    "\n",
    "\n",
    " 1. Profile the Python implementation to find the main bottleneck and isolate it in a dedicated module level function. This function will be reimplemented as a compiled extension module.\n",
    " 2. If there exists a well maintained BSD or MIT C/C++ implementation of the same algorithm that is not too big, you can write a Cython wrapper for it and include a copy of the source code of the library in the scikit-learn source tree: this strategy is used for the classes svm.LinearSVC, svm.SVC and linear_model.LogisticRegression (wrappers for liblinear and libsvm).\n",
    " 3. Otherwise, write an optimized version of your Python function using Cython directly. This strategy is used for the linear_model.ElasticNet and linear_model.SGDClassifier classes for instance.\n",
    " 4. Move the Python version of the function in the tests and use it to check that the results of the compiled extension are consistent with the gold standard, easy to debug Python version.\n",
    " 5. Once the code is optimized (not simple bottleneck spottable by profiling), check whether it is possible to have coarse grained parallelism that is amenable to multi-processing by using the joblib.Parallel class.\n",
    "\n",
    "## Numba\n",
    "\n",
    "Numba is a jit (just in time) compiler. \n",
    "Numba generates machine code with the LLVM compiler at runtime to have similar performance speed as `C` or `Fortran`\n",
    "\n",
    "Much like `Cython` you can make `C` functions as callbacks to pass into functions from a `C` library with a callback parameter.\n",
    "\n",
    "It isn't as widely used as Cython, but because it's a jit compiler, it can be easier to refactor code for Numba than for Cython.\n",
    "\n",
    "\n",
    "## Example\n",
    "\n",
    "We already learned that Numpy is way faster than Python for matrix math.\n",
    "Let's see an example of writing dot product in Cython and compare the speed to Numpy.\n",
    "\n",
    "In the next section [02_Cython_Language](02_Cython_Language.ipynb) we will review basics of Cython syntax.\n",
    "This is just to show the performance gains from using Cython."
   ]
  },
  {
   "cell_type": "code",
   "execution_count": 1,
   "metadata": {},
   "outputs": [],
   "source": [
    "%load_ext Cython\n",
    "array_len = 1000001"
   ]
  },
  {
   "cell_type": "code",
   "execution_count": 2,
   "metadata": {},
   "outputs": [],
   "source": [
    "%%cython\n",
    "import cython\n",
    "\n",
    "@cython.boundscheck(False)\n",
    "cpdef dot_product(long[:] data_array, long[:] weights_array):\n",
    "    cdef long total = 0\n",
    "    array_len = len(weights_array)\n",
    "    for i in range(array_len):\n",
    "        total += data_array[i] * weights_array[i]\n",
    "    return total"
   ]
  },
  {
   "cell_type": "code",
   "execution_count": 3,
   "metadata": {},
   "outputs": [],
   "source": [
    "import array\n",
    "\n",
    "# Create an array (not a list) with the type long\n",
    "data = array.array('l', list(range(array_len)))\n",
    "weights = array.array('l', list(range(array_len)))"
   ]
  },
  {
   "cell_type": "code",
   "execution_count": null,
   "metadata": {},
   "outputs": [],
   "source": [
    "dot_product(data, weights)"
   ]
  },
  {
   "cell_type": "code",
   "execution_count": null,
   "metadata": {},
   "outputs": [],
   "source": [
    "%%timeit\n",
    "\n",
    "dot_product(data, weights)"
   ]
  },
  {
   "cell_type": "markdown",
   "metadata": {},
   "source": [
    "Let's compare the speed to numpy"
   ]
  },
  {
   "cell_type": "code",
   "execution_count": null,
   "metadata": {},
   "outputs": [],
   "source": [
    "import numpy as np"
   ]
  },
  {
   "cell_type": "code",
   "execution_count": null,
   "metadata": {},
   "outputs": [],
   "source": [
    "array = np.arange(array_len, dtype=np.int64)\n",
    "weights_array = np.arange(array_len, dtype=np.int64)"
   ]
  },
  {
   "cell_type": "code",
   "execution_count": null,
   "metadata": {},
   "outputs": [],
   "source": [
    "%%timeit\n",
    "\n",
    "numpy_dot_product = np.dot(weights_array, array)"
   ]
  },
  {
   "cell_type": "markdown",
   "metadata": {},
   "source": [
    "## Conclusion\n",
    "We can see that NumPy and Cython are comparable in speed for dot product.\n",
    "\n",
    "Numpy is very fast for many matrix operations,\n",
    "but like every other module, it only has specific functionality.\n",
    "\n",
    "Cython on the other hand can do anything.\n",
    "We just have to write out the algorithm.\n",
    "\n"
   ]
  },
  {
   "cell_type": "code",
   "execution_count": null,
   "metadata": {},
   "outputs": [],
   "source": []
  }
 ],
 "metadata": {
  "kernelspec": {
   "display_name": "Python 3",
   "language": "python",
   "name": "python3"
  },
  "language_info": {
   "codemirror_mode": {
    "name": "ipython",
    "version": 3
   },
   "file_extension": ".py",
   "mimetype": "text/x-python",
   "name": "python",
   "nbconvert_exporter": "python",
   "pygments_lexer": "ipython3",
   "version": "3.6.5"
  }
 },
 "nbformat": 4,
 "nbformat_minor": 2
}
