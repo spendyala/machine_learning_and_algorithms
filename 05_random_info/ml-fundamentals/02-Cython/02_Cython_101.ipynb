{
 "cells": [
  {
   "cell_type": "markdown",
   "metadata": {},
   "source": [
    "# Cython 101\n",
    "\n"
   ]
  },
  {
   "cell_type": "markdown",
   "metadata": {},
   "source": [
    "## How Cython Works\n",
    "\n",
    "Python is an interpreted language without a compilation step.\n",
    "Cython must be compiled in a two step process.\n",
    "\n",
    "1. a `.pyx` file is compiled to a `.c` file.\n",
    "2. the `.c.` file is compiled to a `.so` file (`.pyd` in Windows) which can be imported to a python module as if was python code.\n",
    "\n",
    "> One of the benefits of Python is that you don't need to compile code.\n",
    "> Cython requires a compilation step.\n",
    "\n",
    "\n",
    "## installation\n",
    "\n",
    "to install Cython you need to install Cython `pip install cython`\n",
    "and a C compiler (gcc).\n",
    "\n",
    "* __Linux__ The GNU C Compiler (gcc) is usually present, or easily available through the package system. On Ubuntu or Debian, for instance, the command sudo apt-get install build-essential will fetch everything you need.\n",
    "* __Mac OS X__ To retrieve gcc, one option is to install Apple’s XCode, which can be retrieved from the Mac OS X’s install DVDs or from https://developer.apple.com/.\n",
    "* __Windows__ A popular option is to use the open source MinGW (a Windows distribution of gcc). See the appendix for instructions for setting up MinGW manually. Enthought Canopy and Python(x,y) bundle MinGW, but some of the configuration steps in the appendix might still be necessary. Another option is to use Microsoft’s Visual C. One must then use the same version which the installed Python was compiled with.\n",
    "\n",
    "> The docker container running the notebook already has Cython and gcc installed. So you don't need to worry about it.\n",
    "\n",
    "\n",
    "## Running Cython in a Python package\n",
    "\n",
    "The compiled code can be imported directly into Python as if was Python code.\n",
    "write the cython code in the file `my_package/sub_subpackage/my_cython_file.pyx`\n",
    "\n",
    "and import it with the following line in another Python or Cython file in the module.\n",
    "\n",
    "```python\n",
    "from my_package.sub_package.my_cython_file import my_cython_function\n",
    "```\n",
    "\n",
    "There are three ways to build cython code in a package.\n",
    "\n",
    "* Write a distutils/setuptools setup.py. This is the normal and recommended way.\n",
    "* Use Pyximport, importing Cython .pyx files as if they were .py files (using distutils to compile and build in the background). This method is easier than writing a setup.py, but is not very flexible. So you’ll need to write a setup.py if, for example, you need certain compilations options.\n",
    "* Run the cython command-line utility manually to produce the .c file from the .pyx file, then manually compiling the .c file into a shared object library or DLL suitable for import from Python. (These manual steps are mostly for debugging and experimentation.)\n",
    "\n",
    "We won't be running our code in a module. So if you want to learn more read the [docs here](https://cython.readthedocs.io/en/latest/src/quickstart/build.html)\n",
    "\n",
    "## Cython compilation at runtime\n",
    "\n",
    "Cython has a tool called pyximport to compile Cython code when it's imported.\n",
    "It isn't recommended for production or distribution, but it removes the compile step from the devloop.\n",
    "\n",
    "```python\n",
    ">>> import pyximport; pyximport.install()\n",
    ">>> from my_package.sub_package.my_cython_file import my_cython_function\n",
    "```\n",
    "\n",
    "## Running Cython in a notebook\n",
    "\n",
    "Jupyter let's us run Cython code inline.\n",
    "It compiles the code before running a cell.\n",
    "Running Cython in a cell is noticibly slower than a python cell, but still the easiest way to iterate Cython code.\n",
    "\n",
    "To enable cython compilation you need to load the Cython jupyter extension by running the following magic command in a cell.\n",
    "```\n",
    "%load_ext Cython\n",
    "```\n"
   ]
  },
  {
   "cell_type": "code",
   "execution_count": null,
   "metadata": {},
   "outputs": [],
   "source": [
    "%load_ext Cython"
   ]
  },
  {
   "cell_type": "markdown",
   "metadata": {},
   "source": [
    "To tell jupyter what cell should compile Cython code we need to add the magic command `%%cython`"
   ]
  },
  {
   "cell_type": "code",
   "execution_count": null,
   "metadata": {},
   "outputs": [],
   "source": [
    "%%cython\n",
    "cdef int add(int x, int y):\n",
    "    return x + y\n",
    "print(add(1, 2))"
   ]
  },
  {
   "cell_type": "markdown",
   "metadata": {},
   "source": [
    "Cython let's us view how much fast c code we've written and how much is slow python we have written by using the flag `--annotate`"
   ]
  },
  {
   "cell_type": "code",
   "execution_count": null,
   "metadata": {},
   "outputs": [],
   "source": [
    "%%cython --annotate\n",
    "cdef int add(int x, int y):\n",
    "    return x + y\n",
    "my_sum = add(1,2) # the parameters must be integers because that was the defined type\n",
    "print(my_sum)"
   ]
  },
  {
   "cell_type": "markdown",
   "metadata": {},
   "source": [
    "## Digging into Cython syntax\n",
    "\n",
    "### Why is some of the code yellow and some white?\n",
    "\n",
    "The `--annotate` flag shows us what code is compiled to pure `C` code and what code has python calls.\n",
    "\n",
    "Let's deconstruct our code line by line\n",
    "\n",
    "```cdef int add(int x, int y):```\n",
    "\n",
    "We are defining a `C` function.\n",
    "`cdef` tells the compiler to make a `C` function without a python wrapper.\n",
    "You will notice that we also had to add types to our variables in a `C` style not the python type annotation style.\n",
    "\n",
    "```def add(x: int, y: int) -> int:```\n",
    "\n",
    "We will dive deeper into Cython function and variable definitions later\n",
    "\n",
    "the next line `return x + y` doesn't run python code because the Cython compiler knows that x and y are both ints and the return type is also an int.\n",
    "\n",
    "The third line `my_sum = add(1,2)` cannot be completely compiled to C  because `my_sum` is a python variable not a C variable. The Cython compiler knows to turn the C int returned and cast it as a python int.\n",
    "\n",
    "The line `print(my_sum)` is pure python."
   ]
  },
  {
   "cell_type": "markdown",
   "metadata": {},
   "source": [
    "# Cython Syntax\n",
    "\n",
    "## Variable and type definitions\n",
    "\n",
    "Cython is not dynamically typed.\n",
    "Cython files support running Python code but to compile to fast Cython we need to declare variables\n",
    "\n",
    "the `cdef` statement is used to declare C variables. Similar to C code"
   ]
  },
  {
   "cell_type": "code",
   "execution_count": null,
   "metadata": {},
   "outputs": [],
   "source": [
    "%%cython\n",
    "cdef int x = 1\n",
    "cdef float f\n",
    "cdef float g[4]\n",
    "cdef int *h"
   ]
  },
  {
   "cell_type": "markdown",
   "metadata": {},
   "source": [
    "We can create the same variables by grouping them a `cdef` block"
   ]
  },
  {
   "cell_type": "code",
   "execution_count": null,
   "metadata": {},
   "outputs": [],
   "source": [
    "%%cython\n",
    "cdef:\n",
    "    int x = 1\n",
    "    float f\n",
    "    float g[4]\n",
    "    int *h"
   ]
  },
  {
   "cell_type": "markdown",
   "metadata": {},
   "source": [
    "Or we can create structs, unions, and enum types"
   ]
  },
  {
   "cell_type": "code",
   "execution_count": null,
   "metadata": {},
   "outputs": [],
   "source": [
    "%%cython\n",
    "cdef struct Grail:\n",
    "    int age\n",
    "    float volume\n",
    "\n",
    "cdef union Food:\n",
    "    char *spam\n",
    "    float *eggs\n",
    "\n",
    "cdef enum CheeseType:\n",
    "    cheddar,\n",
    "    edam,\n",
    "    camembert\n"
   ]
  },
  {
   "cell_type": "markdown",
   "metadata": {},
   "source": [
    "We use the same `cdef` keyword to declare a function"
   ]
  },
  {
   "cell_type": "code",
   "execution_count": null,
   "metadata": {},
   "outputs": [],
   "source": [
    "%%cython\n",
    "cdef unsigned long foo(unsigned long bar):\n",
    "    return bar * 3"
   ]
  },
  {
   "cell_type": "markdown",
   "metadata": {},
   "source": [
    "We can also declare classes with `cdef` making them extension types. They are faster than python classes because they use a struct internally to store attributes instead of a dict"
   ]
  },
  {
   "cell_type": "code",
   "execution_count": null,
   "metadata": {},
   "outputs": [],
   "source": [
    "%%cython\n",
    "cdef class foo:\n",
    "    cdef int x, y\n",
    "    \n",
    "    def __init__(self, x, y):\n",
    "        self.x = x\n",
    "        self.y = y\n",
    "        \n",
    "    cdef int get_y(self):\n",
    "        return self.y"
   ]
  },
  {
   "cell_type": "markdown",
   "metadata": {},
   "source": [
    "## Digging into functions\n",
    "\n",
    "In Cython, there are two types of functions, C functions and Python functions.\n",
    "\n",
    "Python functions are defined using the `def` statement. Just like in python, they take python objects as parameters and return Python objects\n",
    "\n",
    "C functions are defined with the new `cdef` statement. They can take Python objects or C values as parameters and can return Python objects or C values.\n",
    "\n",
    "When the parameter of a python function is declared with a C data type it passes in the Python object and converts it to a C value. \n",
    "The two following functions are equivalent."
   ]
  },
  {
   "cell_type": "code",
   "execution_count": null,
   "metadata": {},
   "outputs": [],
   "source": [
    "%%cython\n",
    "def foo(bar):\n",
    "    cdef int b = bar\n",
    "    return b * 2\n",
    "    \n",
    "def foo(int bar):\n",
    "    return bar * 2"
   ]
  },
  {
   "cell_type": "markdown",
   "metadata": {},
   "source": [
    "\n",
    "> Note: Currently it is only possible to auto convert numeric types, string types and structs.\n",
    "\n",
    "### def, cdef, cpdef?\n",
    "\n",
    "`cdef` functions run very fast but can only be called from Cython code.\n",
    "`def` functions are slower because they take in Python objects, but can be called from Cython __and__ Python code.\n",
    "\n",
    "If we want the performance of `cdef` and the portability of a `def` function then we declare the function as `cpdef`.\n",
    "`cpdef` actually creates two functions: a `cdef` and a `def` function. (when calling a `cpdef` from Cython code there is a slight overhead)\n",
    "\n",
    "Now let's time Fibonacci for an implementation in Python, Cython `def`, Cython `cpdef`, and Cython `cdef`"
   ]
  },
  {
   "cell_type": "code",
   "execution_count": null,
   "metadata": {},
   "outputs": [],
   "source": [
    "def fib_python(n):\n",
    "    if n < 2:\n",
    "        return n\n",
    "    return fib_python(n-2) + fib_python(n-1)"
   ]
  },
  {
   "cell_type": "code",
   "execution_count": null,
   "metadata": {
    "jupyter": {
     "source_hidden": true
    }
   },
   "outputs": [],
   "source": [
    "%%cython\n",
    "def fib_def(int n):\n",
    "    if n < 2:\n",
    "        return n\n",
    "    return fib_def(n-2) + fib_def(n-1)\n",
    "\n",
    "cpdef int fib_cpdef(int n):\n",
    "    if n < 2:\n",
    "        return n\n",
    "    return fib_cpdef(n-2) + fib_cpdef(n-1)\n",
    "\n",
    "cdef int fib_cdef(int n):\n",
    "    if n < 2:\n",
    "        return n\n",
    "    return fib_cdef(n-2) + fib_cdef(n-1)\n",
    "\n",
    "def fib_cdef_wrapper(int n):\n",
    "    return fib_cdef(n)\n"
   ]
  },
  {
   "cell_type": "code",
   "execution_count": null,
   "metadata": {},
   "outputs": [],
   "source": [
    "%%cython\n",
    "def fib_def(int n):\n",
    "    pass\n",
    "\n",
    "cpdef int fib_cpdef(int n):\n",
    "    pass\n",
    "\n",
    "cdef int fib_cdef(int n):\n",
    "    pass\n",
    "\n",
    "# wrap the cdef in a def function because anything defined as a cdef can't be accessed from outside of Cython or C code\n",
    "def fib_cdef_wrapper(int n):\n",
    "    return fib_cdef(n)\n"
   ]
  },
  {
   "cell_type": "code",
   "execution_count": null,
   "metadata": {},
   "outputs": [],
   "source": [
    "cycles = 30\n",
    "print('Python:')\n",
    "%timeit fib_python(cycles)\n",
    "print('Cython def:')\n",
    "%timeit fib_def(cycles)\n",
    "print('Cython cpdef:')\n",
    "%timeit fib_cpdef(cycles)\n",
    "print('Cython cdef:')\n",
    "%timeit fib_cdef_wrapper(cycles)"
   ]
  },
  {
   "cell_type": "code",
   "execution_count": null,
   "metadata": {},
   "outputs": [],
   "source": []
  }
 ],
 "metadata": {
  "kernelspec": {
   "display_name": "Python 3",
   "language": "python",
   "name": "python3"
  },
  "language_info": {
   "codemirror_mode": {
    "name": "ipython",
    "version": 3
   },
   "file_extension": ".py",
   "mimetype": "text/x-python",
   "name": "python",
   "nbconvert_exporter": "python",
   "pygments_lexer": "ipython3",
   "version": "3.6.5"
  }
 },
 "nbformat": 4,
 "nbformat_minor": 2
}
